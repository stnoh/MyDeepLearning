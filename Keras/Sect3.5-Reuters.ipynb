{
 "cells": [
  {
   "cell_type": "markdown",
   "metadata": {},
   "source": [
    "# Example (3) ニュース記事の分類 (multi-class classification)\n",
    "\n",
    "- 基本的に，[\"Deep Learning with Python\"](https://www.amazon.com/Deep-Learning-Python-Francois-Chollet/dp/1617294438/)のSection 3.5(78-84ページ)を元にしている．  \n",
    "- [原本のコード](https://github.com/fchollet/deep-learning-with-python-notebooks/blob/master/3.6-classifying-newswires.ipynb)も入手可能であるが，それを解説を兼ねて多少改編している．  "
   ]
  },
  {
   "cell_type": "markdown",
   "metadata": {},
   "source": [
    "## (1) Prepare dataset: The Reuters dataset\n",
    "\n",
    "- Data format: [N,?]\n",
    "- Training set: 8982 text sequences with multi(46)-classes label\n",
    "- Test set: 2246 text sequences with multi(46)-classes label\n",
    "- テキストの長さはそれぞれ異なるので，特定できない  "
   ]
  },
  {
   "cell_type": "code",
   "execution_count": 1,
   "metadata": {},
   "outputs": [
    {
     "name": "stderr",
     "output_type": "stream",
     "text": [
      "Using TensorFlow backend.\n"
     ]
    }
   ],
   "source": [
    "## reuters dataset is embedded in Keras framework, but it is pickled.\n",
    "from keras.datasets import reuters\n",
    "\n",
    "# modify the default parameters of np.load\n",
    "import numpy as np\n",
    "from pkg_resources import parse_version\n",
    "\n",
    "## we need small modification to handle old-pickled data\n",
    "np_pickle = parse_version(np.__version__) < parse_version('1.17.0')\n",
    "if np_pickle:\n",
    "    np_load_old = np.load\n",
    "    np.load = lambda *a,**k: np_load_old(*a, allow_pickle=True, **k)\n",
    "\n",
    "(train_data, train_labels), (test_data, test_labels) = reuters.load_data(num_words=10000)\n",
    "\n",
    "if np_pickle:\n",
    "    np.load = np_load_old"
   ]
  },
  {
   "cell_type": "code",
   "execution_count": 2,
   "metadata": {},
   "outputs": [
    {
     "name": "stdout",
     "output_type": "stream",
     "text": [
      "8982\n",
      "2246\n",
      "[1, 245, 273, 207, 156, 53, 74, 160, 26, 14, 46, 296, 26, 39, 74, 2979, 3554, 14, 46, 4689, 4329, 86, 61, 3499, 4795, 14, 61, 451, 4329, 17, 12]\n",
      "3\n"
     ]
    }
   ],
   "source": [
    "print(len(train_data))\n",
    "print(len(test_data))\n",
    "print(train_data[10])\n",
    "print(train_labels[10])"
   ]
  },
  {
   "cell_type": "code",
   "execution_count": 3,
   "metadata": {},
   "outputs": [
    {
     "name": "stdout",
     "output_type": "stream",
     "text": [
      "? ? ? said as a result of its december acquisition of space co it expects earnings per share in 1987 of 1 15 to 1 30 dlrs per share up from 70 cts in 1986 the company said pretax net should rise to nine to 10 mln dlrs from six mln dlrs in 1986 and rental operation revenues to 19 to 22 mln dlrs from 12 5 mln dlrs it said cash flow per share this year should be 2 50 to three dlrs reuter 3\n"
     ]
    }
   ],
   "source": [
    "## conversion from label to English word\n",
    "word_index = reuters.get_word_index()\n",
    "reverse_word_index = dict(\n",
    "    [(value, key) for (key, value) in word_index.items()])\n",
    "decoded_newswire = ' '.join(\n",
    "    [reverse_word_index.get(i-3, '?') for i in train_data[0]]) ## 0:padding / 1:start / 2:unknown\n",
    "print(decoded_newswire)"
   ]
  },
  {
   "cell_type": "markdown",
   "metadata": {},
   "source": [
    "## (2) Data conversion for training\n",
    "\n",
    "- convert word sequence as 10,000 quantized vector.  \n",
    "  it is similar to IMDB dataset\n",
    "- convert results data from "
   ]
  },
  {
   "cell_type": "code",
   "execution_count": 4,
   "metadata": {},
   "outputs": [],
   "source": [
    "## for x (text sequence): similar to IMDB dataset conversion ...\n",
    "def vectorize_sequences(sequences, dimension=10000):\n",
    "    results = np.zeros((len(sequences), dimension))\n",
    "    for i, sequence in enumerate(sequences):\n",
    "        results[i, sequence] = 1.\n",
    "    return results\n",
    "\n",
    "x_train = vectorize_sequences(train_data)\n",
    "x_test  = vectorize_sequences(test_data)"
   ]
  },
  {
   "cell_type": "code",
   "execution_count": 5,
   "metadata": {},
   "outputs": [
    {
     "name": "stdout",
     "output_type": "stream",
     "text": [
      "[0. 0. 0. 1. 0. 0. 0. 0. 0. 0. 0. 0. 0. 0. 0. 0. 0. 0. 0. 0. 0. 0. 0. 0.\n",
      " 0. 0. 0. 0. 0. 0. 0. 0. 0. 0. 0. 0. 0. 0. 0. 0. 0. 0. 0. 0. 0. 0.]\n"
     ]
    }
   ],
   "source": [
    "## for y: one hot vector\n",
    "'''\n",
    "def to_one_hot(labels, dimension=46):\n",
    "    results = np.zeros((len(labels), dimension))\n",
    "    for i, label in enumerate(labels):\n",
    "        results[i, label] = 1.\n",
    "    return results\n",
    "\n",
    "one_hot_train_labels = to_one_hot(train_labels)\n",
    "one_hot_test_labels  = to_one_hot(test_labels)\n",
    "'''\n",
    "\n",
    "## by keras' built-in function\n",
    "from keras.utils.np_utils import to_categorical\n",
    "\n",
    "one_hot_train_labels = to_categorical(train_labels)\n",
    "one_hot_test_labels  = to_categorical(test_labels)\n",
    "\n",
    "print(one_hot_train_labels[10])"
   ]
  },
  {
   "cell_type": "markdown",
   "metadata": {},
   "source": [
    "## (3) Prepare model\n",
    "\n",
    "- Fully connectedで(隠し2層)単純なネットワークを構成する  \n",
    "- 識別問題(multi-class classification)なので，訓練のloss関数としてcrossentropyを用いる  "
   ]
  },
  {
   "cell_type": "code",
   "execution_count": 6,
   "metadata": {},
   "outputs": [],
   "source": [
    "from keras import models\n",
    "from keras import layers\n",
    "\n",
    "## build model (fully-connected layer)\n",
    "model = models.Sequential()\n",
    "model.add(layers.Dense(64, activation='relu', input_shape=(10000,)))\n",
    "model.add(layers.Dense(64, activation='relu'))\n",
    "model.add(layers.Dense(46, activation='softmax')) ## softmax is better for multi-classes\n",
    "model.compile(optimizer='rmsprop',\n",
    "              loss='categorical_crossentropy',\n",
    "              metrics=['accuracy'])"
   ]
  },
  {
   "cell_type": "markdown",
   "metadata": {},
   "source": [
    "## (4) Training & testing neural network\n",
    "\n",
    "### (4-i) Training model"
   ]
  },
  {
   "cell_type": "code",
   "execution_count": 7,
   "metadata": {},
   "outputs": [],
   "source": [
    "## separating data for validation (0~999) / training (1000~)\n",
    "x_val = x_train[:1000]\n",
    "partial_x_train = x_train[1000:]\n",
    "\n",
    "y_val = one_hot_train_labels[:1000]\n",
    "partial_y_train = one_hot_train_labels[1000:]"
   ]
  },
  {
   "cell_type": "code",
   "execution_count": 8,
   "metadata": {},
   "outputs": [
    {
     "name": "stdout",
     "output_type": "stream",
     "text": [
      "Train on 7982 samples, validate on 1000 samples\n",
      "Epoch 1/20\n",
      "7982/7982 [==============================] - 1s 130us/step - loss: 2.4475 - accuracy: 0.5445 - val_loss: 1.6107 - val_accuracy: 0.6610\n",
      "Epoch 2/20\n",
      "7982/7982 [==============================] - 1s 82us/step - loss: 1.3272 - accuracy: 0.7175 - val_loss: 1.2679 - val_accuracy: 0.7090\n",
      "Epoch 3/20\n",
      "7982/7982 [==============================] - 1s 82us/step - loss: 1.0014 - accuracy: 0.7783 - val_loss: 1.1120 - val_accuracy: 0.7500\n",
      "Epoch 4/20\n",
      "7982/7982 [==============================] - 1s 81us/step - loss: 0.7871 - accuracy: 0.8286 - val_loss: 1.0224 - val_accuracy: 0.7740\n",
      "Epoch 5/20\n",
      "7982/7982 [==============================] - 1s 81us/step - loss: 0.6271 - accuracy: 0.8647 - val_loss: 0.9519 - val_accuracy: 0.8080\n",
      "Epoch 6/20\n",
      "7982/7982 [==============================] - 1s 81us/step - loss: 0.5000 - accuracy: 0.8958 - val_loss: 0.9300 - val_accuracy: 0.8040\n",
      "Epoch 7/20\n",
      "7982/7982 [==============================] - 1s 83us/step - loss: 0.4004 - accuracy: 0.9164 - val_loss: 0.9069 - val_accuracy: 0.8090\n",
      "Epoch 8/20\n",
      "7982/7982 [==============================] - 1s 81us/step - loss: 0.3259 - accuracy: 0.9301 - val_loss: 0.8790 - val_accuracy: 0.8180\n",
      "Epoch 9/20\n",
      "7982/7982 [==============================] - 1s 81us/step - loss: 0.2690 - accuracy: 0.9405 - val_loss: 0.8922 - val_accuracy: 0.8100\n",
      "Epoch 10/20\n",
      "7982/7982 [==============================] - 1s 81us/step - loss: 0.2277 - accuracy: 0.9455 - val_loss: 0.8989 - val_accuracy: 0.8180\n",
      "Epoch 11/20\n",
      "7982/7982 [==============================] - 1s 82us/step - loss: 0.2000 - accuracy: 0.9484 - val_loss: 0.8917 - val_accuracy: 0.8190\n",
      "Epoch 12/20\n",
      "7982/7982 [==============================] - 1s 82us/step - loss: 0.1735 - accuracy: 0.9520 - val_loss: 0.9150 - val_accuracy: 0.8140\n",
      "Epoch 13/20\n",
      "7982/7982 [==============================] - 1s 81us/step - loss: 0.1594 - accuracy: 0.9545 - val_loss: 0.9619 - val_accuracy: 0.8050\n",
      "Epoch 14/20\n",
      "7982/7982 [==============================] - 1s 81us/step - loss: 0.1464 - accuracy: 0.9539 - val_loss: 1.0069 - val_accuracy: 0.8050\n",
      "Epoch 15/20\n",
      "7982/7982 [==============================] - 1s 81us/step - loss: 0.1357 - accuracy: 0.9563 - val_loss: 1.0499 - val_accuracy: 0.7990\n",
      "Epoch 16/20\n",
      "7982/7982 [==============================] - 1s 82us/step - loss: 0.1316 - accuracy: 0.9545 - val_loss: 0.9997 - val_accuracy: 0.8100\n",
      "Epoch 17/20\n",
      "7982/7982 [==============================] - 1s 82us/step - loss: 0.1242 - accuracy: 0.9554 - val_loss: 1.0291 - val_accuracy: 0.8070\n",
      "Epoch 18/20\n",
      "7982/7982 [==============================] - 1s 81us/step - loss: 0.1180 - accuracy: 0.9577 - val_loss: 1.0640 - val_accuracy: 0.7960\n",
      "Epoch 19/20\n",
      "7982/7982 [==============================] - 1s 81us/step - loss: 0.1149 - accuracy: 0.9577 - val_loss: 1.1058 - val_accuracy: 0.8080\n",
      "Epoch 20/20\n",
      "7982/7982 [==============================] - 1s 82us/step - loss: 0.1135 - accuracy: 0.9564 - val_loss: 1.0912 - val_accuracy: 0.8020\n"
     ]
    }
   ],
   "source": [
    "history = model.fit(partial_x_train,\n",
    "                    partial_y_train,\n",
    "                    epochs=20,\n",
    "                    batch_size=512,\n",
    "                    validation_data=(x_val, y_val))"
   ]
  },
  {
   "cell_type": "markdown",
   "metadata": {},
   "source": [
    "### (4-ii) Visualizing the Training Progress\n",
    "\n",
    "- 訓練課程はmodel.fit()の既に出力として保存されている  \n",
    "- その訓練課程をmatplotlibで可視化する  "
   ]
  },
  {
   "cell_type": "code",
   "execution_count": 9,
   "metadata": {},
   "outputs": [
    {
     "name": "stdout",
     "output_type": "stream",
     "text": [
      "dict_keys(['val_loss', 'val_accuracy', 'loss', 'accuracy'])\n"
     ]
    }
   ],
   "source": [
    "history_dict = history.history\n",
    "print(history_dict.keys())"
   ]
  },
  {
   "cell_type": "code",
   "execution_count": 10,
   "metadata": {},
   "outputs": [
    {
     "data": {
      "image/png": "[encoded data removed]",
      "text/plain": [
       "<Figure size 432x288 with 1 Axes>"
      ]
     },
     "metadata": {
      "needs_background": "light"
     },
     "output_type": "display_data"
    }
   ],
   "source": [
    "import matplotlib.pyplot as plt\n",
    "\n",
    "loss     = history_dict['loss']\n",
    "val_loss = history_dict['val_loss']\n",
    "\n",
    "epochs = range(1, len(loss)+1)\n",
    "\n",
    "plt.plot(epochs, loss    , 'bo', label='Training loss')\n",
    "plt.plot(epochs, val_loss, 'b' , label='Validation loss')\n",
    "plt.title('Training and validation loss')\n",
    "plt.xlabel('Epochs')\n",
    "plt.ylabel('Loss')\n",
    "plt.legend()\n",
    "\n",
    "plt.show()"
   ]
  },
  {
   "cell_type": "code",
   "execution_count": 11,
   "metadata": {},
   "outputs": [
    {
     "data": {
      "image/png": "[encoded data removed]",
      "text/plain": [
       "<Figure size 432x288 with 1 Axes>"
      ]
     },
     "metadata": {
      "needs_background": "light"
     },
     "output_type": "display_data"
    }
   ],
   "source": [
    "plt.clf() ## clear the figure\n",
    "\n",
    "acc     = history_dict['accuracy']\n",
    "val_acc = history_dict['val_accuracy']\n",
    "\n",
    "plt.plot(epochs, acc    , 'bo', label='Training acc')\n",
    "plt.plot(epochs, val_acc, 'b' , label='Validation acc')\n",
    "plt.title('Training and validation accuracy')\n",
    "plt.xlabel('Epochs')\n",
    "plt.ylabel('Loss')\n",
    "plt.legend()\n",
    "\n",
    "plt.show()"
   ]
  },
  {
   "cell_type": "markdown",
   "metadata": {},
   "source": [
    "## Miscellaneous (1) small epochs"
   ]
  },
  {
   "cell_type": "code",
   "execution_count": 12,
   "metadata": {},
   "outputs": [
    {
     "name": "stdout",
     "output_type": "stream",
     "text": [
      "Train on 7982 samples, validate on 1000 samples\n",
      "Epoch 1/9\n",
      "7982/7982 [==============================] - 1s 89us/step - loss: 2.7520 - accuracy: 0.5013 - val_loss: 1.8531 - val_accuracy: 0.6140\n",
      "Epoch 2/9\n",
      "7982/7982 [==============================] - 1s 81us/step - loss: 1.4906 - accuracy: 0.6978 - val_loss: 1.3458 - val_accuracy: 0.7190\n",
      "Epoch 3/9\n",
      "7982/7982 [==============================] - 1s 81us/step - loss: 1.0865 - accuracy: 0.7711 - val_loss: 1.1520 - val_accuracy: 0.7540\n",
      "Epoch 4/9\n",
      "7982/7982 [==============================] - 1s 82us/step - loss: 0.8540 - accuracy: 0.8245 - val_loss: 1.0505 - val_accuracy: 0.7830\n",
      "Epoch 5/9\n",
      "7982/7982 [==============================] - 1s 82us/step - loss: 0.6813 - accuracy: 0.8608 - val_loss: 0.9841 - val_accuracy: 0.8030\n",
      "Epoch 6/9\n",
      "7982/7982 [==============================] - 1s 81us/step - loss: 0.5456 - accuracy: 0.8895 - val_loss: 0.9402 - val_accuracy: 0.8060\n",
      "Epoch 7/9\n",
      "7982/7982 [==============================] - 1s 81us/step - loss: 0.4362 - accuracy: 0.9108 - val_loss: 0.9077 - val_accuracy: 0.8120\n",
      "Epoch 8/9\n",
      "7982/7982 [==============================] - 1s 82us/step - loss: 0.3624 - accuracy: 0.9225 - val_loss: 0.9116 - val_accuracy: 0.8150\n",
      "Epoch 9/9\n",
      "7982/7982 [==============================] - 1s 82us/step - loss: 0.2925 - accuracy: 0.9374 - val_loss: 0.9125 - val_accuracy: 0.8180\n",
      "2246/2246 [==============================] - 0s 127us/step\n",
      "[0.9894236002452439, 0.790739119052887]\n"
     ]
    }
   ],
   "source": [
    "## another (but the same structured) model\n",
    "model2 = models.Sequential()\n",
    "model2.add(layers.Dense(64, activation='relu', input_shape=(10000,)))\n",
    "model2.add(layers.Dense(64, activation='relu'))\n",
    "model2.add(layers.Dense(46, activation='softmax'))\n",
    "\n",
    "model2.compile(optimizer='rmsprop',\n",
    "               loss='categorical_crossentropy',\n",
    "               metrics=['accuracy'])\n",
    "\n",
    "## training another model with relatively small epochs\n",
    "model2.fit(partial_x_train,\n",
    "           partial_y_train,\n",
    "           epochs=9,\n",
    "           batch_size=512,\n",
    "           validation_data=(x_val, y_val))\n",
    "\n",
    "## accuracy reaches ~80%\n",
    "results = model2.evaluate(x_test, one_hot_test_labels)\n",
    "print(results)"
   ]
  },
  {
   "cell_type": "code",
   "execution_count": 13,
   "metadata": {},
   "outputs": [
    {
     "name": "stdout",
     "output_type": "stream",
     "text": [
      "(46,)\n",
      "[1.1104627e-07 8.4566727e-07 6.8198140e-08 9.5271564e-01 4.5067757e-02\n",
      " 2.8388590e-07 1.0629191e-06 2.9637274e-06 2.9609026e-04 6.9456933e-06\n",
      " 1.2729971e-06 5.7825114e-04 5.5580649e-08 5.4360869e-05 2.4776131e-07\n",
      " 9.6212494e-10 4.7051159e-05 7.2814157e-07 1.0959880e-07 4.0497401e-04\n",
      " 6.2434806e-04 5.9795937e-05 3.1776855e-07 6.8520287e-09 7.2282963e-10\n",
      " 1.9981517e-08 2.2647985e-08 3.0351026e-07 3.4980422e-07 2.9869110e-05\n",
      " 2.5935889e-05 1.1238548e-07 4.4449294e-08 1.3236887e-06 1.0961824e-05\n",
      " 1.2597816e-07 5.5474768e-05 6.4103510e-08 1.5559877e-07 1.0248627e-05\n",
      " 8.1397252e-07 6.8465289e-07 1.5514284e-09 5.4761234e-08 5.1701653e-11\n",
      " 9.9291512e-08]\n",
      "0.99999994\n",
      "3\n"
     ]
    }
   ],
   "source": [
    "predictions = model.predict(x_test)\n",
    "\n",
    "print(predictions[0].shape)      ## 46 categories\n",
    "print(predictions[0])            ## list of predicted probability\n",
    "print(np.sum(predictions[0]))    ## should be 1.0\n",
    "print(np.argmax(predictions[0])) ## largest entry = predicted class"
   ]
  },
  {
   "cell_type": "code",
   "execution_count": 14,
   "metadata": {},
   "outputs": [
    {
     "name": "stdout",
     "output_type": "stream",
     "text": [
      "[0. 1. 1. ... 0. 0. 0.]\n"
     ]
    }
   ],
   "source": [
    "print(x_test[0])"
   ]
  },
  {
   "cell_type": "markdown",
   "metadata": {},
   "source": [
    "## Miscellaneous (2) A model with an information bottleneck"
   ]
  },
  {
   "cell_type": "code",
   "execution_count": 15,
   "metadata": {},
   "outputs": [
    {
     "name": "stdout",
     "output_type": "stream",
     "text": [
      "Train on 7982 samples, validate on 1000 samples\n",
      "Epoch 1/20\n",
      "7982/7982 [==============================] - 1s 104us/step - loss: 3.2722 - acc: 0.1845 - val_loss: 2.6789 - val_acc: 0.4010\n",
      "Epoch 2/20\n",
      "7982/7982 [==============================] - 1s 97us/step - loss: 2.1390 - acc: 0.5655 - val_loss: 1.8092 - val_acc: 0.6000\n",
      "Epoch 3/20\n",
      "7982/7982 [==============================] - 1s 96us/step - loss: 1.6075 - acc: 0.6139 - val_loss: 1.6205 - val_acc: 0.6130\n",
      "Epoch 4/20\n",
      "7982/7982 [==============================] - 1s 96us/step - loss: 1.4314 - acc: 0.6448 - val_loss: 1.5438 - val_acc: 0.6350\n",
      "Epoch 5/20\n",
      "7982/7982 [==============================] - 1s 95us/step - loss: 1.3148 - acc: 0.6620 - val_loss: 1.4909 - val_acc: 0.6300\n",
      "Epoch 6/20\n",
      "7982/7982 [==============================] - 1s 97us/step - loss: 1.2109 - acc: 0.6835 - val_loss: 1.4737 - val_acc: 0.6520\n",
      "Epoch 7/20\n",
      "7982/7982 [==============================] - 1s 96us/step - loss: 1.1160 - acc: 0.7098 - val_loss: 1.4297 - val_acc: 0.6550\n",
      "Epoch 8/20\n",
      "7982/7982 [==============================] - 1s 96us/step - loss: 1.0431 - acc: 0.7219 - val_loss: 1.4363 - val_acc: 0.6580\n",
      "Epoch 9/20\n",
      "7982/7982 [==============================] - 1s 96us/step - loss: 0.9853 - acc: 0.7250 - val_loss: 1.4804 - val_acc: 0.6590\n",
      "Epoch 10/20\n",
      "7982/7982 [==============================] - 1s 97us/step - loss: 0.9360 - acc: 0.7269 - val_loss: 1.4764 - val_acc: 0.6590\n",
      "Epoch 11/20\n",
      "7982/7982 [==============================] - 1s 97us/step - loss: 0.8959 - acc: 0.7373 - val_loss: 1.5139 - val_acc: 0.6590\n",
      "Epoch 12/20\n",
      "7982/7982 [==============================] - 1s 96us/step - loss: 0.8625 - acc: 0.7448 - val_loss: 1.5475 - val_acc: 0.6600\n",
      "Epoch 13/20\n",
      "7982/7982 [==============================] - 1s 96us/step - loss: 0.8312 - acc: 0.7526 - val_loss: 1.5901 - val_acc: 0.6580\n",
      "Epoch 14/20\n",
      "7982/7982 [==============================] - 1s 97us/step - loss: 0.8089 - acc: 0.7595 - val_loss: 1.6287 - val_acc: 0.6620\n",
      "Epoch 15/20\n",
      "7982/7982 [==============================] - 1s 96us/step - loss: 0.7840 - acc: 0.7699 - val_loss: 1.6921 - val_acc: 0.6660\n",
      "Epoch 16/20\n",
      "7982/7982 [==============================] - 1s 96us/step - loss: 0.7640 - acc: 0.7765 - val_loss: 1.7840 - val_acc: 0.6590\n",
      "Epoch 17/20\n",
      "7982/7982 [==============================] - 1s 96us/step - loss: 0.7453 - acc: 0.7835 - val_loss: 1.8062 - val_acc: 0.6630\n",
      "Epoch 18/20\n",
      "7982/7982 [==============================] - 1s 97us/step - loss: 0.7278 - acc: 0.7895 - val_loss: 1.8827 - val_acc: 0.6580\n",
      "Epoch 19/20\n",
      "7982/7982 [==============================] - 1s 96us/step - loss: 0.7107 - acc: 0.7960 - val_loss: 2.0071 - val_acc: 0.6590\n",
      "Epoch 20/20\n",
      "7982/7982 [==============================] - 1s 97us/step - loss: 0.6972 - acc: 0.7968 - val_loss: 2.0036 - val_acc: 0.6570\n",
      "2246/2246 [==============================] - 0s 117us/step\n",
      "[2.13298314655878, 0.6665182709693909]\n"
     ]
    }
   ],
   "source": [
    "y_train = np.array(train_labels)\n",
    "y_test  = np.array(test_labels)\n",
    "\n",
    "## a model with an information bottleneck\n",
    "model3 = models.Sequential()\n",
    "model3.add(layers.Dense(64, activation='relu', input_shape=(10000,)))\n",
    "model3.add(layers.Dense( 4, activation='relu')) ## here is the BOTTLENECK\n",
    "model3.add(layers.Dense(46, activation='softmax'))\n",
    "\n",
    "model3.compile(optimizer='rmsprop',\n",
    "              loss='categorical_crossentropy',\n",
    "              metrics=['acc'])\n",
    "model3.fit(partial_x_train,\n",
    "           partial_y_train,\n",
    "           epochs=20,\n",
    "           batch_size=128,\n",
    "           validation_data=(x_val, y_val))\n",
    "\n",
    "## accuracy cannot exceed ~70%\n",
    "results = model3.evaluate(x_test, one_hot_test_labels)\n",
    "print(results)"
   ]
  },
  {
   "cell_type": "markdown",
   "metadata": {},
   "source": [
    "(end)"
   ]
  }
 ],
 "metadata": {
  "kernelspec": {
   "display_name": "Python 3",
   "language": "python",
   "name": "python3"
  },
  "language_info": {
   "codemirror_mode": {
    "name": "ipython",
    "version": 3
   },
   "file_extension": ".py",
   "mimetype": "text/x-python",
   "name": "python",
   "nbconvert_exporter": "python",
   "pygments_lexer": "ipython3",
   "version": "3.6.10"
  }
 },
 "nbformat": 4,
 "nbformat_minor": 4
}
