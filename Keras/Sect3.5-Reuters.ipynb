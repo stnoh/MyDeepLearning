{
 "cells": [
  {
   "cell_type": "markdown",
   "metadata": {},
   "source": [
    "# Example (3) ニュース記事の分類 (multi-class classification)\n",
    "\n",
    "- 基本的に，[\"Deep Learning with Python\"](https://www.amazon.com/Deep-Learning-Python-Francois-Chollet/dp/1617294438/)のSection 3.5(78-84ページ)を元にしている．  \n",
    "- [原本のコード](https://github.com/fchollet/deep-learning-with-python-notebooks/blob/master/3.6-classifying-newswires.ipynb)も入手可能であるが，それを解説を兼ねて多少改編している．  "
   ]
  },
  {
   "cell_type": "markdown",
   "metadata": {},
   "source": [
    "## (1) Prepare dataset: The Reuters dataset\n",
    "\n",
    "- Data format: [N,?]\n",
    "- Training set: 8982 text sequences with multi(46)-classes label\n",
    "- Test set: 2246 text sequences with multi(46)-classes label\n",
    "- テキストの長さはそれぞれ異なるので，特定できない  "
   ]
  },
  {
   "cell_type": "code",
   "execution_count": 1,
   "metadata": {},
   "outputs": [
    {
     "name": "stderr",
     "output_type": "stream",
     "text": [
      "Using TensorFlow backend.\n"
     ]
    }
   ],
   "source": [
    "## reuters dataset is embedded in Keras framework, but it is pickled.\n",
    "from keras.datasets import reuters\n",
    "\n",
    "# modify the default parameters of np.load\n",
    "import numpy as np\n",
    "from pkg_resources import parse_version\n",
    "\n",
    "## we need small modification to handle old-pickled data\n",
    "np_pickle = parse_version(np.__version__) < parse_version('1.17.0')\n",
    "if np_pickle:\n",
    "    np_load_old = np.load\n",
    "    np.load = lambda *a,**k: np_load_old(*a, allow_pickle=True, **k)\n",
    "\n",
    "(train_data, train_labels), (test_data, test_labels) = reuters.load_data(num_words=10000)\n",
    "\n",
    "if np_pickle:\n",
    "    np.load = np_load_old"
   ]
  },
  {
   "cell_type": "code",
   "execution_count": 2,
   "metadata": {},
   "outputs": [
    {
     "name": "stdout",
     "output_type": "stream",
     "text": [
      "8982\n",
      "2246\n",
      "[1, 245, 273, 207, 156, 53, 74, 160, 26, 14, 46, 296, 26, 39, 74, 2979, 3554, 14, 46, 4689, 4329, 86, 61, 3499, 4795, 14, 61, 451, 4329, 17, 12]\n",
      "3\n"
     ]
    }
   ],
   "source": [
    "print(len(train_data))\n",
    "print(len(test_data))\n",
    "print(train_data[10])\n",
    "print(train_labels[10])"
   ]
  },
  {
   "cell_type": "code",
   "execution_count": 3,
   "metadata": {},
   "outputs": [
    {
     "name": "stdout",
     "output_type": "stream",
     "text": [
      "? ? ? said as a result of its december acquisition of space co it expects earnings per share in 1987 of 1 15 to 1 30 dlrs per share up from 70 cts in 1986 the company said pretax net should rise to nine to 10 mln dlrs from six mln dlrs in 1986 and rental operation revenues to 19 to 22 mln dlrs from 12 5 mln dlrs it said cash flow per share this year should be 2 50 to three dlrs reuter 3\n"
     ]
    }
   ],
   "source": [
    "## conversion from label to English word\n",
    "word_index = reuters.get_word_index()\n",
    "reverse_word_index = dict(\n",
    "    [(value, key) for (key, value) in word_index.items()])\n",
    "decoded_newswire = ' '.join(\n",
    "    [reverse_word_index.get(i-3, '?') for i in train_data[0]]) ## 0:padding / 1:start / 2:unknown\n",
    "print(decoded_newswire)"
   ]
  },
  {
   "cell_type": "markdown",
   "metadata": {},
   "source": [
    "## (2) Data conversion for training\n",
    "\n",
    "- IMDBの例と同様，単語のシーケンスを10,000次元のベクトルに変換する  "
   ]
  },
  {
   "cell_type": "code",
   "execution_count": 4,
   "metadata": {},
   "outputs": [],
   "source": [
    "## for x (text sequence): similar to IMDB dataset conversion ...\n",
    "def vectorize_sequences(sequences, dimension=10000):\n",
    "    results = np.zeros((len(sequences), dimension))\n",
    "    for i, sequence in enumerate(sequences):\n",
    "        results[i, sequence] = 1.\n",
    "    return results\n",
    "\n",
    "x_train = vectorize_sequences(train_data)\n",
    "x_test  = vectorize_sequences(test_data)"
   ]
  },
  {
   "cell_type": "code",
   "execution_count": 5,
   "metadata": {},
   "outputs": [
    {
     "name": "stdout",
     "output_type": "stream",
     "text": [
      "[0. 0. 0. 1. 0. 0. 0. 0. 0. 0. 0. 0. 0. 0. 0. 0. 0. 0. 0. 0. 0. 0. 0. 0.\n",
      " 0. 0. 0. 0. 0. 0. 0. 0. 0. 0. 0. 0. 0. 0. 0. 0. 0. 0. 0. 0. 0. 0.]\n"
     ]
    }
   ],
   "source": [
    "## for y: one hot vector\n",
    "'''\n",
    "def to_one_hot(labels, dimension=46):\n",
    "    results = np.zeros((len(labels), dimension))\n",
    "    for i, label in enumerate(labels):\n",
    "        results[i, label] = 1.\n",
    "    return results\n",
    "\n",
    "one_hot_train_labels = to_one_hot(train_labels)\n",
    "one_hot_test_labels  = to_one_hot(test_labels)\n",
    "'''\n",
    "\n",
    "## by keras' built-in function\n",
    "from keras.utils.np_utils import to_categorical\n",
    "\n",
    "one_hot_train_labels = to_categorical(train_labels)\n",
    "one_hot_test_labels  = to_categorical(test_labels)\n",
    "\n",
    "print(one_hot_train_labels[10])"
   ]
  },
  {
   "cell_type": "markdown",
   "metadata": {},
   "source": [
    "## (3) Prepare model\n",
    "\n",
    "- Fully connectedで(隠し2層)単純なネットワークを構成する  \n",
    "- 識別問題(multi-class classification)なので，訓練のloss関数としてcrossentropyを用いる  \n",
    "- 尺度は分類の精度(accuracy)を用いる  "
   ]
  },
  {
   "cell_type": "code",
   "execution_count": 6,
   "metadata": {},
   "outputs": [],
   "source": [
    "from keras import models\n",
    "from keras import layers\n",
    "\n",
    "## build model (fully-connected layer)\n",
    "model = models.Sequential()\n",
    "model.add(layers.Dense(64, activation='relu', input_shape=(10000,)))\n",
    "model.add(layers.Dense(64, activation='relu'))\n",
    "model.add(layers.Dense(46, activation='softmax')) ## softmax is better for multi-classes\n",
    "model.compile(optimizer='rmsprop',\n",
    "              loss='categorical_crossentropy',\n",
    "              metrics=['accuracy'])"
   ]
  },
  {
   "cell_type": "markdown",
   "metadata": {},
   "source": [
    "## (4) Training & testing neural network\n",
    "\n",
    "### (4-i) Training model"
   ]
  },
  {
   "cell_type": "code",
   "execution_count": 7,
   "metadata": {},
   "outputs": [],
   "source": [
    "## separating data for validation (0~999) / training (1000~)\n",
    "x_val = x_train[:1000]\n",
    "partial_x_train = x_train[1000:]\n",
    "\n",
    "y_val = one_hot_train_labels[:1000]\n",
    "partial_y_train = one_hot_train_labels[1000:]"
   ]
  },
  {
   "cell_type": "code",
   "execution_count": 8,
   "metadata": {},
   "outputs": [
    {
     "name": "stdout",
     "output_type": "stream",
     "text": [
      "Train on 7982 samples, validate on 1000 samples\n",
      "Epoch 1/20\n",
      "7982/7982 [==============================] - 1s 137us/step - loss: 2.7333 - accuracy: 0.4734 - val_loss: 1.7613 - val_accuracy: 0.6260\n",
      "Epoch 2/20\n",
      "7982/7982 [==============================] - 1s 82us/step - loss: 1.4545 - accuracy: 0.6992 - val_loss: 1.3198 - val_accuracy: 0.7090\n",
      "Epoch 3/20\n",
      "7982/7982 [==============================] - 1s 81us/step - loss: 1.0807 - accuracy: 0.7707 - val_loss: 1.1478 - val_accuracy: 0.7500\n",
      "Epoch 4/20\n",
      "7982/7982 [==============================] - 1s 81us/step - loss: 0.8585 - accuracy: 0.8181 - val_loss: 1.0367 - val_accuracy: 0.7900\n",
      "Epoch 5/20\n",
      "7982/7982 [==============================] - 1s 81us/step - loss: 0.6859 - accuracy: 0.8588 - val_loss: 0.9747 - val_accuracy: 0.8020\n",
      "Epoch 6/20\n",
      "7982/7982 [==============================] - 1s 81us/step - loss: 0.5507 - accuracy: 0.8820 - val_loss: 0.9272 - val_accuracy: 0.8090\n",
      "Epoch 7/20\n",
      "7982/7982 [==============================] - 1s 80us/step - loss: 0.4434 - accuracy: 0.9078 - val_loss: 0.9013 - val_accuracy: 0.8130\n",
      "Epoch 8/20\n",
      "7982/7982 [==============================] - 1s 81us/step - loss: 0.3636 - accuracy: 0.9204 - val_loss: 0.8895 - val_accuracy: 0.8170\n",
      "Epoch 9/20\n",
      "7982/7982 [==============================] - 1s 81us/step - loss: 0.2985 - accuracy: 0.9341 - val_loss: 0.9097 - val_accuracy: 0.8000\n",
      "Epoch 10/20\n",
      "7982/7982 [==============================] - 1s 81us/step - loss: 0.2539 - accuracy: 0.9415 - val_loss: 0.9041 - val_accuracy: 0.8080\n",
      "Epoch 11/20\n",
      "7982/7982 [==============================] - 1s 81us/step - loss: 0.2157 - accuracy: 0.9466 - val_loss: 0.9181 - val_accuracy: 0.8100\n",
      "Epoch 12/20\n",
      "7982/7982 [==============================] - 1s 82us/step - loss: 0.1901 - accuracy: 0.9514 - val_loss: 0.9382 - val_accuracy: 0.8140\n",
      "Epoch 13/20\n",
      "7982/7982 [==============================] - 1s 81us/step - loss: 0.1725 - accuracy: 0.9518 - val_loss: 0.9411 - val_accuracy: 0.8140\n",
      "Epoch 14/20\n",
      "7982/7982 [==============================] - 1s 81us/step - loss: 0.1560 - accuracy: 0.9549 - val_loss: 0.9445 - val_accuracy: 0.8100\n",
      "Epoch 15/20\n",
      "7982/7982 [==============================] - 1s 81us/step - loss: 0.1441 - accuracy: 0.9536 - val_loss: 0.9512 - val_accuracy: 0.8220\n",
      "Epoch 16/20\n",
      "7982/7982 [==============================] - 1s 81us/step - loss: 0.1349 - accuracy: 0.9562 - val_loss: 0.9948 - val_accuracy: 0.8120\n",
      "Epoch 17/20\n",
      "7982/7982 [==============================] - 1s 81us/step - loss: 0.1302 - accuracy: 0.9551 - val_loss: 0.9774 - val_accuracy: 0.8150\n",
      "Epoch 18/20\n",
      "7982/7982 [==============================] - 1s 81us/step - loss: 0.1211 - accuracy: 0.9568 - val_loss: 1.0448 - val_accuracy: 0.8080\n",
      "Epoch 19/20\n",
      "7982/7982 [==============================] - 1s 81us/step - loss: 0.1180 - accuracy: 0.9575 - val_loss: 1.0466 - val_accuracy: 0.8020\n",
      "Epoch 20/20\n",
      "7982/7982 [==============================] - 1s 84us/step - loss: 0.1162 - accuracy: 0.9555 - val_loss: 1.0772 - val_accuracy: 0.8050\n"
     ]
    }
   ],
   "source": [
    "history = model.fit(partial_x_train,\n",
    "                    partial_y_train,\n",
    "                    epochs=20,\n",
    "                    batch_size=512,\n",
    "                    validation_data=(x_val, y_val))"
   ]
  },
  {
   "cell_type": "markdown",
   "metadata": {},
   "source": [
    "### (4-ii) Visualizing the Training Progress\n",
    "\n",
    "- 訓練課程はmodel.fit()の既に出力として保存されている  \n",
    "- その訓練課程をmatplotlibで可視化する  "
   ]
  },
  {
   "cell_type": "code",
   "execution_count": 9,
   "metadata": {},
   "outputs": [
    {
     "name": "stdout",
     "output_type": "stream",
     "text": [
      "dict_keys(['val_loss', 'val_accuracy', 'loss', 'accuracy'])\n"
     ]
    }
   ],
   "source": [
    "history_dict = history.history\n",
    "print(history_dict.keys())"
   ]
  },
  {
   "cell_type": "code",
   "execution_count": 10,
   "metadata": {},
   "outputs": [
    {
     "data": {
      "image/png": "[encoded data removed]",
      "text/plain": [
       "<Figure size 432x288 with 1 Axes>"
      ]
     },
     "metadata": {
      "needs_background": "light"
     },
     "output_type": "display_data"
    }
   ],
   "source": [
    "import matplotlib.pyplot as plt\n",
    "\n",
    "loss     = history_dict['loss']\n",
    "val_loss = history_dict['val_loss']\n",
    "\n",
    "epochs = range(1, len(loss)+1)\n",
    "\n",
    "plt.plot(epochs, loss    , 'bo', label='Training loss')\n",
    "plt.plot(epochs, val_loss, 'b' , label='Validation loss')\n",
    "plt.title('Training and validation loss')\n",
    "plt.xlabel('Epochs')\n",
    "plt.ylabel('Loss')\n",
    "plt.legend()\n",
    "\n",
    "plt.show()"
   ]
  },
  {
   "cell_type": "code",
   "execution_count": 11,
   "metadata": {},
   "outputs": [
    {
     "data": {
      "image/png": "[encoded data removed]",
      "text/plain": [
       "<Figure size 432x288 with 1 Axes>"
      ]
     },
     "metadata": {
      "needs_background": "light"
     },
     "output_type": "display_data"
    }
   ],
   "source": [
    "plt.clf() ## clear the figure\n",
    "\n",
    "acc     = history_dict['accuracy']\n",
    "val_acc = history_dict['val_accuracy']\n",
    "\n",
    "plt.plot(epochs, acc    , 'bo', label='Training acc')\n",
    "plt.plot(epochs, val_acc, 'b' , label='Validation acc')\n",
    "plt.title('Training and validation accuracy')\n",
    "plt.xlabel('Epochs')\n",
    "plt.ylabel('Accuracy')\n",
    "plt.legend()\n",
    "\n",
    "plt.show()"
   ]
  },
  {
   "cell_type": "markdown",
   "metadata": {},
   "source": [
    "## Miscellaneous (1) small epochs"
   ]
  },
  {
   "cell_type": "code",
   "execution_count": 12,
   "metadata": {},
   "outputs": [
    {
     "name": "stdout",
     "output_type": "stream",
     "text": [
      "Train on 7982 samples, validate on 1000 samples\n",
      "Epoch 1/9\n",
      "7982/7982 [==============================] - 1s 89us/step - loss: 2.5803 - accuracy: 0.5179 - val_loss: 1.7026 - val_accuracy: 0.6540\n",
      "Epoch 2/9\n",
      "7982/7982 [==============================] - 1s 82us/step - loss: 1.3988 - accuracy: 0.7072 - val_loss: 1.2804 - val_accuracy: 0.7130\n",
      "Epoch 3/9\n",
      "7982/7982 [==============================] - 1s 81us/step - loss: 1.0320 - accuracy: 0.7764 - val_loss: 1.1054 - val_accuracy: 0.7700\n",
      "Epoch 4/9\n",
      "7982/7982 [==============================] - 1s 81us/step - loss: 0.8109 - accuracy: 0.8296 - val_loss: 0.9972 - val_accuracy: 0.7790\n",
      "Epoch 5/9\n",
      "7982/7982 [==============================] - 1s 81us/step - loss: 0.6418 - accuracy: 0.8683 - val_loss: 0.9372 - val_accuracy: 0.8010\n",
      "Epoch 6/9\n",
      "7982/7982 [==============================] - 1s 81us/step - loss: 0.5087 - accuracy: 0.8970 - val_loss: 0.8926 - val_accuracy: 0.8070\n",
      "Epoch 7/9\n",
      "7982/7982 [==============================] - 1s 81us/step - loss: 0.4097 - accuracy: 0.9172 - val_loss: 0.8833 - val_accuracy: 0.8100\n",
      "Epoch 8/9\n",
      "7982/7982 [==============================] - 1s 81us/step - loss: 0.3332 - accuracy: 0.9301 - val_loss: 0.8898 - val_accuracy: 0.8150\n",
      "Epoch 9/9\n",
      "7982/7982 [==============================] - 1s 81us/step - loss: 0.2737 - accuracy: 0.9390 - val_loss: 0.8702 - val_accuracy: 0.8130\n",
      "2246/2246 [==============================] - 0s 125us/step\n",
      "[0.9961567655378224, 0.7813891172409058]\n"
     ]
    }
   ],
   "source": [
    "## another (but the same structured) model\n",
    "model2 = models.Sequential()\n",
    "model2.add(layers.Dense(64, activation='relu', input_shape=(10000,)))\n",
    "model2.add(layers.Dense(64, activation='relu'))\n",
    "model2.add(layers.Dense(46, activation='softmax'))\n",
    "\n",
    "model2.compile(optimizer='rmsprop',\n",
    "               loss='categorical_crossentropy',\n",
    "               metrics=['accuracy'])\n",
    "\n",
    "## training another model with relatively small epochs\n",
    "model2.fit(partial_x_train,\n",
    "           partial_y_train,\n",
    "           epochs=9,\n",
    "           batch_size=512,\n",
    "           validation_data=(x_val, y_val))\n",
    "\n",
    "## accuracy reaches ~80%\n",
    "results = model2.evaluate(x_test, one_hot_test_labels)\n",
    "print(results)"
   ]
  },
  {
   "cell_type": "code",
   "execution_count": 13,
   "metadata": {},
   "outputs": [
    {
     "name": "stdout",
     "output_type": "stream",
     "text": [
      "(46,)\n",
      "[4.47057857e-07 2.42687884e-06 1.97614192e-08 9.98222053e-01\n",
      " 1.11392303e-03 5.08077980e-09 4.07206657e-10 3.38363657e-06\n",
      " 1.42061152e-04 9.14009313e-09 1.61225330e-07 2.28054741e-05\n",
      " 4.25461167e-06 1.71943668e-06 2.74709521e-07 2.96092566e-07\n",
      " 1.66268801e-05 9.02365382e-09 3.73446028e-07 3.66290042e-05\n",
      " 2.16257424e-04 4.99101661e-05 6.27715110e-07 9.22155380e-07\n",
      " 6.33691710e-10 1.54032975e-07 4.86479121e-11 8.55830649e-07\n",
      " 2.51034180e-07 1.26430401e-04 8.59762622e-06 5.81308015e-08\n",
      " 1.06981737e-07 5.67176039e-09 6.27931911e-07 7.28709395e-08\n",
      " 2.00123595e-05 4.75642210e-08 2.22903491e-08 7.41517351e-06\n",
      " 1.06886695e-07 9.23190626e-08 8.01536970e-09 7.68878152e-08\n",
      " 1.02412114e-10 3.93421029e-09]\n",
      "1.0000002\n",
      "3\n"
     ]
    }
   ],
   "source": [
    "predictions = model.predict(x_test)\n",
    "\n",
    "print(predictions[0].shape)      ## 46 categories\n",
    "print(predictions[0])            ## list of predicted probability\n",
    "print(np.sum(predictions[0]))    ## should be 1.0\n",
    "print(np.argmax(predictions[0])) ## largest entry = predicted class"
   ]
  },
  {
   "cell_type": "code",
   "execution_count": 14,
   "metadata": {},
   "outputs": [
    {
     "name": "stdout",
     "output_type": "stream",
     "text": [
      "[0. 1. 1. ... 0. 0. 0.]\n"
     ]
    }
   ],
   "source": [
    "print(x_test[0])"
   ]
  },
  {
   "cell_type": "markdown",
   "metadata": {},
   "source": [
    "## Miscellaneous (2) A model with an information bottleneck"
   ]
  },
  {
   "cell_type": "code",
   "execution_count": 15,
   "metadata": {},
   "outputs": [
    {
     "name": "stdout",
     "output_type": "stream",
     "text": [
      "Train on 7982 samples, validate on 1000 samples\n",
      "Epoch 1/20\n",
      "7982/7982 [==============================] - 1s 104us/step - loss: 3.0877 - acc: 0.2078 - val_loss: 2.5314 - val_acc: 0.4530\n",
      "Epoch 2/20\n",
      "7982/7982 [==============================] - 1s 97us/step - loss: 1.9574 - acc: 0.6099 - val_loss: 1.7008 - val_acc: 0.6260\n",
      "Epoch 3/20\n",
      "7982/7982 [==============================] - 1s 96us/step - loss: 1.3374 - acc: 0.6986 - val_loss: 1.4501 - val_acc: 0.6710\n",
      "Epoch 4/20\n",
      "7982/7982 [==============================] - 1s 96us/step - loss: 1.1229 - acc: 0.7442 - val_loss: 1.4102 - val_acc: 0.6810\n",
      "Epoch 5/20\n",
      "7982/7982 [==============================] - 1s 95us/step - loss: 0.9992 - acc: 0.7611 - val_loss: 1.3524 - val_acc: 0.6980\n",
      "Epoch 6/20\n",
      "7982/7982 [==============================] - 1s 95us/step - loss: 0.9035 - acc: 0.7744 - val_loss: 1.3451 - val_acc: 0.7030\n",
      "Epoch 7/20\n",
      "7982/7982 [==============================] - 1s 95us/step - loss: 0.8249 - acc: 0.7865 - val_loss: 1.3424 - val_acc: 0.7070\n",
      "Epoch 8/20\n",
      "7982/7982 [==============================] - 1s 95us/step - loss: 0.7584 - acc: 0.7978 - val_loss: 1.3772 - val_acc: 0.7150\n",
      "Epoch 9/20\n",
      "7982/7982 [==============================] - 1s 96us/step - loss: 0.7027 - acc: 0.8128 - val_loss: 1.3715 - val_acc: 0.7130\n",
      "Epoch 10/20\n",
      "7982/7982 [==============================] - 1s 96us/step - loss: 0.6503 - acc: 0.8241 - val_loss: 1.4192 - val_acc: 0.7110\n",
      "Epoch 11/20\n",
      "7982/7982 [==============================] - 1s 95us/step - loss: 0.6105 - acc: 0.8276 - val_loss: 1.4792 - val_acc: 0.7040\n",
      "Epoch 12/20\n",
      "7982/7982 [==============================] - 1s 95us/step - loss: 0.5713 - acc: 0.8370 - val_loss: 1.4990 - val_acc: 0.7140\n",
      "Epoch 13/20\n",
      "7982/7982 [==============================] - 1s 96us/step - loss: 0.5401 - acc: 0.8458 - val_loss: 1.5474 - val_acc: 0.7080\n",
      "Epoch 14/20\n",
      "7982/7982 [==============================] - 1s 97us/step - loss: 0.5121 - acc: 0.8499 - val_loss: 1.5963 - val_acc: 0.7080\n",
      "Epoch 15/20\n",
      "7982/7982 [==============================] - 1s 95us/step - loss: 0.4860 - acc: 0.8528 - val_loss: 1.6316 - val_acc: 0.7110\n",
      "Epoch 16/20\n",
      "7982/7982 [==============================] - 1s 96us/step - loss: 0.4639 - acc: 0.8567 - val_loss: 1.6814 - val_acc: 0.7060\n",
      "Epoch 17/20\n",
      "7982/7982 [==============================] - 1s 95us/step - loss: 0.4445 - acc: 0.8592 - val_loss: 1.8181 - val_acc: 0.7100\n",
      "Epoch 18/20\n",
      "7982/7982 [==============================] - 1s 96us/step - loss: 0.4251 - acc: 0.8652 - val_loss: 1.8047 - val_acc: 0.7040\n",
      "Epoch 19/20\n",
      "7982/7982 [==============================] - 1s 96us/step - loss: 0.4091 - acc: 0.8736 - val_loss: 1.9151 - val_acc: 0.7000\n",
      "Epoch 20/20\n",
      "7982/7982 [==============================] - 1s 96us/step - loss: 0.3910 - acc: 0.8811 - val_loss: 1.9646 - val_acc: 0.7040\n",
      "2246/2246 [==============================] - 0s 111us/step\n",
      "[2.163844630851983, 0.6927871704101562]\n"
     ]
    }
   ],
   "source": [
    "y_train = np.array(train_labels)\n",
    "y_test  = np.array(test_labels)\n",
    "\n",
    "## a model with an information bottleneck\n",
    "model3 = models.Sequential()\n",
    "model3.add(layers.Dense(64, activation='relu', input_shape=(10000,)))\n",
    "model3.add(layers.Dense( 4, activation='relu')) ## here is the BOTTLENECK\n",
    "model3.add(layers.Dense(46, activation='softmax'))\n",
    "\n",
    "model3.compile(optimizer='rmsprop',\n",
    "              loss='categorical_crossentropy',\n",
    "              metrics=['acc'])\n",
    "model3.fit(partial_x_train,\n",
    "           partial_y_train,\n",
    "           epochs=20,\n",
    "           batch_size=128,\n",
    "           validation_data=(x_val, y_val))\n",
    "\n",
    "## accuracy cannot exceed ~70%\n",
    "results = model3.evaluate(x_test, one_hot_test_labels)\n",
    "print(results)"
   ]
  },
  {
   "cell_type": "markdown",
   "metadata": {},
   "source": [
    "(end)"
   ]
  }
 ],
 "metadata": {
  "kernelspec": {
   "display_name": "Python 3",
   "language": "python",
   "name": "python3"
  },
  "language_info": {
   "codemirror_mode": {
    "name": "ipython",
    "version": 3
   },
   "file_extension": ".py",
   "mimetype": "text/x-python",
   "name": "python",
   "nbconvert_exporter": "python",
   "pygments_lexer": "ipython3",
   "version": "3.6.10"
  }
 },
 "nbformat": 4,
 "nbformat_minor": 4
}
