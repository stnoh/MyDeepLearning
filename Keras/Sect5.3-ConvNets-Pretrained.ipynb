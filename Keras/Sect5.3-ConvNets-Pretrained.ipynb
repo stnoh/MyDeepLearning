{
 "cells": [
  {
   "cell_type": "markdown",
   "metadata": {},
   "source": [
    "# 5.3 Using a pretrained convnet\n",
    "\n",
    "- 基本的に，[\"Deep Learning with Python\"](https://www.amazon.com/Deep-Learning-Python-Francois-Chollet/dp/1617294438/)のSection 5.3(143-159ページ)を元にしている．  \n",
    "- githubで入手可能な[原本のコード](https://github.com/fchollet/deep-learning-with-python-notebooks/blob/master/5.3-using-a-pretrained-convnet.ipynb)を解説を兼ねて多少改編している．  "
   ]
  },
  {
   "cell_type": "markdown",
   "metadata": {},
   "source": [
    "A common and highly effective approach to deep learning on small image datasets is to leverage a pre-trained network. A pre-trained network \n",
    "is simply a saved network previously trained on a large dataset, typically on a large-scale image classification task. If this original \n",
    "dataset is large enough and general enough, then the spatial feature hierarchy learned by the pre-trained network can effectively act as a \n",
    "generic model of our visual world, and hence its features can prove useful for many different computer vision problems, even though these \n",
    "new problems might involve completely different classes from those of the original task. For instance, one might train a network on \n",
    "ImageNet (where classes are mostly animals and everyday objects) and then re-purpose this trained network for something as remote as \n",
    "identifying furniture items in images. Such portability of learned features across different problems is a key advantage of deep learning \n",
    "compared to many older shallow learning approaches, and it makes deep learning very effective for small-data problems.\n",
    "\n",
    "In our case, we will consider a large convnet trained on the ImageNet dataset (1.4 million labeled images and 1000 different classes). \n",
    "ImageNet contains many animal classes, including different species of cats and dogs, and we can thus expect to perform very well on our cat \n",
    "vs. dog classification problem.\n",
    "\n",
    "We will use the VGG16 architecture, developed by Karen Simonyan and Andrew Zisserman in 2014, a simple and widely used convnet architecture \n",
    "for ImageNet. Although it is a bit of an older model, far from the current state of the art and somewhat heavier than many other recent \n",
    "models, we chose it because its architecture is similar to what you are already familiar with, and easy to understand without introducing \n",
    "any new concepts. This may be your first encounter with one of these cutesie model names -- VGG, ResNet, Inception, Inception-ResNet, \n",
    "Xception... you will get used to them, as they will come up frequently if you keep doing deep learning for computer vision.\n",
    "\n",
    "There are two ways to leverage a pre-trained network: *feature extraction* and *fine-tuning*. We will cover both of them. Let's start with \n",
    "feature extraction."
   ]
  },
  {
   "cell_type": "markdown",
   "metadata": {},
   "source": [
    "## 5.3.1 Feature extraction\n",
    "\n",
    "Feature extraction consists of using the representations learned by a previous network to extract interesting features from new samples. \n",
    "These features are then run through a new classifier, which is trained from scratch.\n",
    "\n",
    "As we saw previously, convnets used for image classification comprise two parts: they start with a series of pooling and convolution \n",
    "layers, and they end with a densely-connected classifier. The first part is called the \"convolutional base\" of the model. In the case of \n",
    "convnets, \"feature extraction\" will simply consist of taking the convolutional base of a previously-trained network, running the new data \n",
    "through it, and training a new classifier on top of the output.\n",
    "\n",
    "![swapping FC classifiers](https://s3.amazonaws.com/book.keras.io/img/ch5/swapping_fc_classifier.png)\n",
    "\n",
    "Why only reuse the convolutional base? Could we reuse the densely-connected classifier as well? In general, it should be avoided. The \n",
    "reason is simply that the representations learned by the convolutional base are likely to be more generic and therefore more reusable: the \n",
    "feature maps of a convnet are presence maps of generic concepts over a picture, which is likely to be useful regardless of the computer \n",
    "vision problem at hand. On the other end, the representations learned by the classifier will necessarily be very specific to the set of \n",
    "classes that the model was trained on -- they will only contain information about the presence probability of this or that class in the \n",
    "entire picture. Additionally, representations found in densely-connected layers no longer contain any information about _where_ objects are \n",
    "located in the input image: these layers get rid of the notion of space, whereas the object location is still described by convolutional \n",
    "feature maps. For problems where object location matters, densely-connected features would be largely useless.\n",
    "\n",
    "Note that the level of generality (and therefore reusability) of the representations extracted by specific convolution layers depends on \n",
    "the depth of the layer in the model. Layers that come earlier in the model extract local, highly generic feature maps (such as visual \n",
    "edges, colors, and textures), while layers higher-up extract more abstract concepts (such as \"cat ear\" or \"dog eye\"). So if your new \n",
    "dataset differs a lot from the dataset that the original model was trained on, you may be better off using only the first few layers of the \n",
    "model to do feature extraction, rather than using the entire convolutional base.\n",
    "\n",
    "In our case, since the ImageNet class set did contain multiple dog and cat classes, it is likely that it would be beneficial to reuse the \n",
    "information contained in the densely-connected layers of the original model. However, we will chose not to, in order to cover the more \n",
    "general case where the class set of the new problem does not overlap with the class set of the original model."
   ]
  },
  {
   "cell_type": "markdown",
   "metadata": {},
   "source": [
    "ImageNetで訓練されたVGG16ネットワークの畳み込み層を利用することでネコとイヌの主要な特徴を抽出し，ネコとイヌの分類器を学習させる．  \n",
    "\n",
    "他のモデルと同様，VGG16モデルもKerasに同封されている．`keras.applications`モジュールをimportすることで使える．ここで，`keras.applications`で使える画像分類モデルのリストを示す:  \n",
    "\n",
    "- Xception\n",
    "- InceptionV3\n",
    "- ResNet50\n",
    "- VGG16\n",
    "- VGG19\n",
    "- MobileNet\n",
    "\n",
    "VGGモデルのインスタンスを作ろう:"
   ]
  },
  {
   "cell_type": "code",
   "execution_count": 1,
   "metadata": {},
   "outputs": [
    {
     "name": "stderr",
     "output_type": "stream",
     "text": [
      "Using TensorFlow backend.\n"
     ]
    }
   ],
   "source": [
    "from keras.applications import VGG16\n",
    "\n",
    "conv_base = VGG16(weights='imagenet',\n",
    "                  include_top=False,\n",
    "                  input_shape=(150, 150, 3))"
   ]
  },
  {
   "cell_type": "markdown",
   "metadata": {},
   "source": [
    "コンストラクタには３つの引数を渡す: \n",
    "\n",
    "- `weights`: モデルの重みをどれを使って初期化するか．  \n",
    "- `include_top`: `Dense`層で構成された分類器を含むかどうかを指定する．デフォルト状態では，ImageNetの1000クラスに対応される．ここでは，別途の分類(ネコとイヌ)を行うため，含まないようにする．  \n",
    "- `input_shape`: ネットワークに入れる入力テンソルの形状を決める．この引数は選択的なものである．何も指定しない場合，ネットワークはどのようなサイズの入力にも対応できるようになる．  "
   ]
  },
  {
   "cell_type": "code",
   "execution_count": 2,
   "metadata": {},
   "outputs": [
    {
     "name": "stdout",
     "output_type": "stream",
     "text": [
      "_________________________________________________________________\n",
      "Layer (type)                 Output Shape              Param #   \n",
      "=================================================================\n",
      "input_1 (InputLayer)         (None, 150, 150, 3)       0         \n",
      "_________________________________________________________________\n",
      "block1_conv1 (Conv2D)        (None, 150, 150, 64)      1792      \n",
      "_________________________________________________________________\n",
      "block1_conv2 (Conv2D)        (None, 150, 150, 64)      36928     \n",
      "_________________________________________________________________\n",
      "block1_pool (MaxPooling2D)   (None, 75, 75, 64)        0         \n",
      "_________________________________________________________________\n",
      "block2_conv1 (Conv2D)        (None, 75, 75, 128)       73856     \n",
      "_________________________________________________________________\n",
      "block2_conv2 (Conv2D)        (None, 75, 75, 128)       147584    \n",
      "_________________________________________________________________\n",
      "block2_pool (MaxPooling2D)   (None, 37, 37, 128)       0         \n",
      "_________________________________________________________________\n",
      "block3_conv1 (Conv2D)        (None, 37, 37, 256)       295168    \n",
      "_________________________________________________________________\n",
      "block3_conv2 (Conv2D)        (None, 37, 37, 256)       590080    \n",
      "_________________________________________________________________\n",
      "block3_conv3 (Conv2D)        (None, 37, 37, 256)       590080    \n",
      "_________________________________________________________________\n",
      "block3_pool (MaxPooling2D)   (None, 18, 18, 256)       0         \n",
      "_________________________________________________________________\n",
      "block4_conv1 (Conv2D)        (None, 18, 18, 512)       1180160   \n",
      "_________________________________________________________________\n",
      "block4_conv2 (Conv2D)        (None, 18, 18, 512)       2359808   \n",
      "_________________________________________________________________\n",
      "block4_conv3 (Conv2D)        (None, 18, 18, 512)       2359808   \n",
      "_________________________________________________________________\n",
      "block4_pool (MaxPooling2D)   (None, 9, 9, 512)         0         \n",
      "_________________________________________________________________\n",
      "block5_conv1 (Conv2D)        (None, 9, 9, 512)         2359808   \n",
      "_________________________________________________________________\n",
      "block5_conv2 (Conv2D)        (None, 9, 9, 512)         2359808   \n",
      "_________________________________________________________________\n",
      "block5_conv3 (Conv2D)        (None, 9, 9, 512)         2359808   \n",
      "_________________________________________________________________\n",
      "block5_pool (MaxPooling2D)   (None, 4, 4, 512)         0         \n",
      "=================================================================\n",
      "Total params: 14,714,688\n",
      "Trainable params: 14,714,688\n",
      "Non-trainable params: 0\n",
      "_________________________________________________________________\n"
     ]
    }
   ],
   "source": [
    "## show the detail of convolutional layers in VGG16\n",
    "conv_base.summary()"
   ]
  },
  {
   "cell_type": "markdown",
   "metadata": {},
   "source": [
    "The final feature map has shape `(4, 4, 512)`. That's the feature on top of which we will stick a densely-connected classifier.\n",
    "\n",
    "At this point, there are two ways we could proceed: \n",
    "\n",
    "* Running the convolutional base over our dataset, recording its output to a Numpy array on disk, then using this data as input to a \n",
    "standalone densely-connected classifier similar to those you have seen in the first chapters of this book. This solution is very fast and \n",
    "cheap to run, because it only requires running the convolutional base once for every input image, and the convolutional base is by far the \n",
    "most expensive part of the pipeline. However, for the exact same reason, this technique would not allow us to leverage data augmentation at \n",
    "all.\n",
    "* Extending the model we have (`conv_base`) by adding `Dense` layers on top, and running the whole thing end-to-end on the input data. This \n",
    "allows us to use data augmentation, because every input image is going through the convolutional base every time it is seen by the model. \n",
    "However, for this same reason, this technique is far more expensive than the first one.\n",
    "\n",
    "We will cover both techniques. Let's walk through the code required to set-up the first one: recording the output of `conv_base` on our \n",
    "data and using these outputs as inputs to a new model."
   ]
  },
  {
   "cell_type": "markdown",
   "metadata": {},
   "source": [
    "### Fast feature extraction without data augmentation\n",
    "\n",
    "We will start by simply running instances of the previously-introduced `ImageDataGenerator` to extract images as Numpy arrays as well as their labels. We will extract features from these images simply by calling the `predict` method of the `conv_base` model."
   ]
  },
  {
   "cell_type": "code",
   "execution_count": 3,
   "metadata": {},
   "outputs": [
    {
     "name": "stdout",
     "output_type": "stream",
     "text": [
      "Found 2000 images belonging to 2 classes.\n",
      "Found 1000 images belonging to 2 classes.\n",
      "Found 1000 images belonging to 2 classes.\n"
     ]
    }
   ],
   "source": [
    "import os\n",
    "import numpy as np\n",
    "from keras.preprocessing.image import ImageDataGenerator\n",
    "\n",
    "base_dir = './data/cats_and_dogs_small'\n",
    "\n",
    "train_dir = os.path.join(base_dir, 'train')\n",
    "validation_dir = os.path.join(base_dir, 'validation')\n",
    "test_dir = os.path.join(base_dir, 'test')\n",
    "\n",
    "datagen = ImageDataGenerator(rescale=1./255)\n",
    "batch_size = 256\n",
    "\n",
    "def extract_features(directory, sample_count):\n",
    "    features = np.zeros(shape=(sample_count, 4, 4, 512))\n",
    "    labels = np.zeros(shape=(sample_count))\n",
    "    generator = datagen.flow_from_directory(\n",
    "        directory,\n",
    "        target_size=(150, 150),\n",
    "        batch_size=batch_size,\n",
    "        class_mode='binary')\n",
    "    i = 0\n",
    "    for inputs_batch, labels_batch in generator:\n",
    "        features_batch = conv_base.predict(inputs_batch)\n",
    "        features[i * batch_size : (i + 1) * batch_size] = features_batch\n",
    "        labels[i * batch_size : (i + 1) * batch_size] = labels_batch\n",
    "        i += 1\n",
    "        if i * batch_size >= sample_count:\n",
    "            # Note that since generators yield data indefinitely in a loop,\n",
    "            # we must `break` after every image has been seen once.\n",
    "            break\n",
    "    return features, labels\n",
    "\n",
    "train_features, train_labels = extract_features(train_dir, 2000)\n",
    "validation_features, validation_labels = extract_features(validation_dir, 1000)\n",
    "test_features, test_labels = extract_features(test_dir, 1000)"
   ]
  },
  {
   "cell_type": "markdown",
   "metadata": {},
   "source": [
    "抽出された特徴の形状は`(samples, 4, 4, 512)`になる．これを`Dense`な分類器に加えるために平滑化させ，`(samples, 8192)`にしておく:  "
   ]
  },
  {
   "cell_type": "code",
   "execution_count": 4,
   "metadata": {},
   "outputs": [],
   "source": [
    "train_features      = np.reshape(train_features, (2000, 4 * 4 * 512))\n",
    "validation_features = np.reshape(validation_features, (1000, 4 * 4 * 512))\n",
    "test_features       = np.reshape(test_features, (1000, 4 * 4 * 512))"
   ]
  },
  {
   "cell_type": "markdown",
   "metadata": {},
   "source": [
    "At this point, we can define our densely-connected classifier (note the use of dropout for regularization), and train it on the data and \n",
    "labels that we just recorded:"
   ]
  },
  {
   "cell_type": "code",
   "execution_count": 5,
   "metadata": {},
   "outputs": [
    {
     "name": "stdout",
     "output_type": "stream",
     "text": [
      "_________________________________________________________________\n",
      "Layer (type)                 Output Shape              Param #   \n",
      "=================================================================\n",
      "dense_1 (Dense)              (None, 256)               2097408   \n",
      "_________________________________________________________________\n",
      "dropout_1 (Dropout)          (None, 256)               0         \n",
      "_________________________________________________________________\n",
      "dense_2 (Dense)              (None, 1)                 257       \n",
      "=================================================================\n",
      "Total params: 2,097,665\n",
      "Trainable params: 2,097,665\n",
      "Non-trainable params: 0\n",
      "_________________________________________________________________\n"
     ]
    }
   ],
   "source": [
    "from keras import models\n",
    "from keras import layers\n",
    "from keras import optimizers\n",
    "\n",
    "model = models.Sequential()\n",
    "model.add(layers.Dense(256, activation='relu', input_dim=4 * 4 * 512))\n",
    "model.add(layers.Dropout(0.5))\n",
    "model.add(layers.Dense(1, activation='sigmoid'))\n",
    "\n",
    "model.compile(optimizer=optimizers.RMSprop(lr=2e-5),\n",
    "              loss='binary_crossentropy',\n",
    "              metrics=['acc'])\n",
    "model.summary()"
   ]
  },
  {
   "cell_type": "code",
   "execution_count": 6,
   "metadata": {},
   "outputs": [
    {
     "name": "stdout",
     "output_type": "stream",
     "text": [
      "Train on 2000 samples, validate on 1000 samples\n",
      "Epoch 1/30\n",
      "2000/2000 [==============================] - 2s 819us/step - loss: 0.7224 - acc: 0.5815 - val_loss: 0.5814 - val_acc: 0.7470\n",
      "Epoch 2/30\n",
      "2000/2000 [==============================] - 1s 293us/step - loss: 0.6216 - acc: 0.6560 - val_loss: 0.5269 - val_acc: 0.7960\n",
      "Epoch 3/30\n",
      "2000/2000 [==============================] - 1s 295us/step - loss: 0.5647 - acc: 0.6990 - val_loss: 0.4856 - val_acc: 0.8170\n",
      "Epoch 4/30\n",
      "2000/2000 [==============================] - 1s 297us/step - loss: 0.5206 - acc: 0.7470 - val_loss: 0.4520 - val_acc: 0.8290\n",
      "Epoch 5/30\n",
      "2000/2000 [==============================] - 1s 299us/step - loss: 0.4677 - acc: 0.7910 - val_loss: 0.4281 - val_acc: 0.8370\n",
      "Epoch 6/30\n",
      "2000/2000 [==============================] - 1s 294us/step - loss: 0.4559 - acc: 0.7870 - val_loss: 0.4042 - val_acc: 0.8530\n",
      "Epoch 7/30\n",
      "2000/2000 [==============================] - 1s 294us/step - loss: 0.4173 - acc: 0.8160 - val_loss: 0.3843 - val_acc: 0.8680\n",
      "Epoch 8/30\n",
      "2000/2000 [==============================] - 1s 293us/step - loss: 0.3955 - acc: 0.8315 - val_loss: 0.3694 - val_acc: 0.8670\n",
      "Epoch 9/30\n",
      "2000/2000 [==============================] - 1s 295us/step - loss: 0.3785 - acc: 0.8530 - val_loss: 0.3546 - val_acc: 0.8720\n",
      "Epoch 10/30\n",
      "2000/2000 [==============================] - 1s 292us/step - loss: 0.3475 - acc: 0.8590 - val_loss: 0.3428 - val_acc: 0.8770\n",
      "Epoch 11/30\n",
      "2000/2000 [==============================] - 1s 297us/step - loss: 0.3482 - acc: 0.8455 - val_loss: 0.3337 - val_acc: 0.8850\n",
      "Epoch 12/30\n",
      "2000/2000 [==============================] - 1s 294us/step - loss: 0.3280 - acc: 0.8725 - val_loss: 0.3242 - val_acc: 0.8840\n",
      "Epoch 13/30\n",
      "2000/2000 [==============================] - 1s 292us/step - loss: 0.3181 - acc: 0.8745 - val_loss: 0.3209 - val_acc: 0.8770\n",
      "Epoch 14/30\n",
      "2000/2000 [==============================] - 1s 292us/step - loss: 0.3082 - acc: 0.8765 - val_loss: 0.3097 - val_acc: 0.8860\n",
      "Epoch 15/30\n",
      "2000/2000 [==============================] - 1s 297us/step - loss: 0.2969 - acc: 0.8830 - val_loss: 0.3038 - val_acc: 0.8900\n",
      "Epoch 16/30\n",
      "2000/2000 [==============================] - 1s 294us/step - loss: 0.2889 - acc: 0.8880 - val_loss: 0.3083 - val_acc: 0.8810\n",
      "Epoch 17/30\n",
      "2000/2000 [==============================] - 1s 297us/step - loss: 0.2869 - acc: 0.8830 - val_loss: 0.2937 - val_acc: 0.8920\n",
      "Epoch 18/30\n",
      "2000/2000 [==============================] - 1s 306us/step - loss: 0.2788 - acc: 0.8940 - val_loss: 0.2933 - val_acc: 0.8910\n",
      "Epoch 19/30\n",
      "2000/2000 [==============================] - 1s 294us/step - loss: 0.2705 - acc: 0.8975 - val_loss: 0.2867 - val_acc: 0.8960\n",
      "Epoch 20/30\n",
      "2000/2000 [==============================] - 1s 294us/step - loss: 0.2591 - acc: 0.8970 - val_loss: 0.2809 - val_acc: 0.8950\n",
      "Epoch 21/30\n",
      "2000/2000 [==============================] - 1s 297us/step - loss: 0.2556 - acc: 0.9075 - val_loss: 0.2796 - val_acc: 0.8940\n",
      "Epoch 22/30\n",
      "2000/2000 [==============================] - 1s 295us/step - loss: 0.2531 - acc: 0.8995 - val_loss: 0.2750 - val_acc: 0.8950\n",
      "Epoch 23/30\n",
      "2000/2000 [==============================] - 1s 291us/step - loss: 0.2474 - acc: 0.9120 - val_loss: 0.2737 - val_acc: 0.8970\n",
      "Epoch 24/30\n",
      "2000/2000 [==============================] - 1s 294us/step - loss: 0.2371 - acc: 0.9110 - val_loss: 0.2763 - val_acc: 0.8940\n",
      "Epoch 25/30\n",
      "2000/2000 [==============================] - 1s 300us/step - loss: 0.2348 - acc: 0.9140 - val_loss: 0.2704 - val_acc: 0.8960\n",
      "Epoch 26/30\n",
      "2000/2000 [==============================] - 1s 296us/step - loss: 0.2340 - acc: 0.9165 - val_loss: 0.2746 - val_acc: 0.8930\n",
      "Epoch 27/30\n",
      "2000/2000 [==============================] - 1s 292us/step - loss: 0.2155 - acc: 0.9235 - val_loss: 0.2629 - val_acc: 0.9020\n",
      "Epoch 28/30\n",
      "2000/2000 [==============================] - 1s 293us/step - loss: 0.2197 - acc: 0.9155 - val_loss: 0.2617 - val_acc: 0.8980\n",
      "Epoch 29/30\n",
      "2000/2000 [==============================] - 1s 294us/step - loss: 0.2151 - acc: 0.9250 - val_loss: 0.2602 - val_acc: 0.8970\n",
      "Epoch 30/30\n",
      "2000/2000 [==============================] - 1s 293us/step - loss: 0.2095 - acc: 0.9275 - val_loss: 0.2588 - val_acc: 0.9010\n"
     ]
    }
   ],
   "source": [
    "history = model.fit(train_features, train_labels,\n",
    "                    epochs=30,\n",
    "                    batch_size=batch_size,\n",
    "                    validation_data=(validation_features, validation_labels))"
   ]
  },
  {
   "cell_type": "markdown",
   "metadata": {},
   "source": [
    "Training is very fast, since we only have to deal with two `Dense` layers -- an epoch takes less than one second even on CPU.\n",
    "\n",
    "Let's take a look at the loss and accuracy curves during training:"
   ]
  },
  {
   "cell_type": "code",
   "execution_count": 7,
   "metadata": {},
   "outputs": [
    {
     "data": {
      "image/png": "[encoded data removed]",
      "text/plain": [
       "<Figure size 432x288 with 1 Axes>"
      ]
     },
     "metadata": {
      "needs_background": "light"
     },
     "output_type": "display_data"
    },
    {
     "data": {
      "image/png": "[encoded data removed]",
      "text/plain": [
       "<Figure size 432x288 with 1 Axes>"
      ]
     },
     "metadata": {
      "needs_background": "light"
     },
     "output_type": "display_data"
    }
   ],
   "source": [
    "import matplotlib.pyplot as plt\n",
    "\n",
    "acc      = history.history['acc']\n",
    "val_acc  = history.history['val_acc']\n",
    "loss     = history.history['loss']\n",
    "val_loss = history.history['val_loss']\n",
    "\n",
    "epochs = range(len(acc))\n",
    "\n",
    "plt.plot(epochs, acc, 'bo', label='Training acc')\n",
    "plt.plot(epochs, val_acc, 'b', label='Validation acc')\n",
    "plt.title('Training and validation accuracy')\n",
    "plt.legend()\n",
    "\n",
    "plt.figure()\n",
    "\n",
    "plt.plot(epochs, loss, 'bo', label='Training loss')\n",
    "plt.plot(epochs, val_loss, 'b', label='Validation loss')\n",
    "plt.title('Training and validation loss')\n",
    "plt.legend()\n",
    "\n",
    "plt.show()"
   ]
  },
  {
   "cell_type": "markdown",
   "metadata": {},
   "source": [
    "We reach a validation accuracy of about 90%, much better than what we could achieve in the previous section with our small model trained from scratch. However, our plots also indicate that we are overfitting almost from the start -- despite using dropout with a fairly large rate. \n",
    "This is because this technique does not leverage data augmentation, which is essential to preventing overfitting with small image datasets."
   ]
  },
  {
   "cell_type": "markdown",
   "metadata": {},
   "source": [
    "Now, let's review the second technique we mentioned for doing feature extraction, which is much slower and more expensive, but which allows us to leverage data augmentation during training: extending the `conv_base` model and running it end-to-end on the inputs. Note that this technique is in fact so expensive that you should only attempt it if you have access to a GPU: it is absolutely intractable on CPU. If you cannot run your code on GPU, then the previous technique is the way to go.\n",
    "\n",
    "Because models behave just like layers, you can add a model (like our `conv_base`) to a `Sequential` model just like you would add a layer. \n",
    "So you can do the following:"
   ]
  },
  {
   "cell_type": "code",
   "execution_count": 8,
   "metadata": {},
   "outputs": [],
   "source": [
    "from keras import models\n",
    "from keras import layers\n",
    "\n",
    "model = models.Sequential()\n",
    "model.add(conv_base)\n",
    "model.add(layers.Flatten())\n",
    "model.add(layers.Dense(256, activation='relu'))\n",
    "model.add(layers.Dense(1, activation='sigmoid'))"
   ]
  },
  {
   "cell_type": "markdown",
   "metadata": {},
   "source": [
    "This is what our model looks like now:"
   ]
  },
  {
   "cell_type": "code",
   "execution_count": 9,
   "metadata": {},
   "outputs": [
    {
     "name": "stdout",
     "output_type": "stream",
     "text": [
      "_________________________________________________________________\n",
      "Layer (type)                 Output Shape              Param #   \n",
      "=================================================================\n",
      "vgg16 (Model)                (None, 4, 4, 512)         14714688  \n",
      "_________________________________________________________________\n",
      "flatten_1 (Flatten)          (None, 8192)              0         \n",
      "_________________________________________________________________\n",
      "dense_3 (Dense)              (None, 256)               2097408   \n",
      "_________________________________________________________________\n",
      "dense_4 (Dense)              (None, 1)                 257       \n",
      "=================================================================\n",
      "Total params: 16,812,353\n",
      "Trainable params: 16,812,353\n",
      "Non-trainable params: 0\n",
      "_________________________________________________________________\n"
     ]
    }
   ],
   "source": [
    "model.summary()"
   ]
  },
  {
   "cell_type": "markdown",
   "metadata": {},
   "source": [
    "As you can see, the convolutional base of VGG16 has 14,714,688 parameters, which is very large. The classifier we are adding on top has 2 \n",
    "million parameters.\n",
    "\n",
    "Before we compile and train our model, a very important thing to do is to freeze the convolutional base. \"Freezing\" a layer or set of \n",
    "layers means preventing their weights from getting updated during training. If we don't do this, then the representations that were \n",
    "previously learned by the convolutional base would get modified during training. Since the `Dense` layers on top are randomly initialized, \n",
    "very large weight updates would be propagated through the network, effectively destroying the representations previously learned.\n",
    "\n",
    "In Keras, freezing a network is done by setting its `trainable` attribute to `False`:"
   ]
  },
  {
   "cell_type": "code",
   "execution_count": 10,
   "metadata": {},
   "outputs": [
    {
     "name": "stdout",
     "output_type": "stream",
     "text": [
      "This is the number of trainable weights before freezing the conv base: 30\n"
     ]
    }
   ],
   "source": [
    "print('This is the number of trainable weights '\n",
    "      'before freezing the conv base:', len(model.trainable_weights))"
   ]
  },
  {
   "cell_type": "code",
   "execution_count": 11,
   "metadata": {},
   "outputs": [
    {
     "name": "stdout",
     "output_type": "stream",
     "text": [
      "This is the number of trainable weights after freezing the conv base: 4\n"
     ]
    }
   ],
   "source": [
    "conv_base.trainable = False\n",
    "print('This is the number of trainable weights '\n",
    "      'after freezing the conv base:', len(model.trainable_weights))"
   ]
  },
  {
   "cell_type": "markdown",
   "metadata": {},
   "source": [
    "With this setup, only the weights from the two `Dense` layers that we added will be trained. That's a total of four weight tensors: two per \n",
    "layer (the main weight matrix and the bias vector). Note that in order for these changes to take effect, we must first compile the model. \n",
    "If you ever modify weight trainability after compilation, you should then re-compile the model, or these changes would be ignored.\n",
    "\n",
    "Now we can start training our model, with the same data augmentation configuration that we used in our previous example:"
   ]
  },
  {
   "cell_type": "code",
   "execution_count": 12,
   "metadata": {},
   "outputs": [
    {
     "name": "stdout",
     "output_type": "stream",
     "text": [
      "Found 2000 images belonging to 2 classes.\n",
      "Found 1000 images belonging to 2 classes.\n"
     ]
    }
   ],
   "source": [
    "from keras.preprocessing.image import ImageDataGenerator\n",
    "\n",
    "train_datagen = ImageDataGenerator(\n",
    "      rescale=1./255,\n",
    "      rotation_range=40,\n",
    "      width_shift_range=0.2,\n",
    "      height_shift_range=0.2,\n",
    "      shear_range=0.2,\n",
    "      zoom_range=0.2,\n",
    "      horizontal_flip=True,\n",
    "      fill_mode='nearest')\n",
    "\n",
    "# Note that the validation data should not be augmented!\n",
    "test_datagen = ImageDataGenerator(rescale=1./255)\n",
    "\n",
    "batch_size = 64\n",
    "\n",
    "train_generator = train_datagen.flow_from_directory(\n",
    "        train_dir,              # This is the target directory\n",
    "        target_size=(150, 150), # All images will be resized to 150x150\n",
    "        batch_size=batch_size,  # Since we use binary_crossentropy loss, we need binary labels\n",
    "        class_mode='binary')\n",
    "\n",
    "validation_generator = test_datagen.flow_from_directory(\n",
    "        validation_dir,\n",
    "        target_size=(150, 150),\n",
    "        batch_size=batch_size,\n",
    "        class_mode='binary')\n",
    "\n",
    "model.compile(loss='binary_crossentropy',\n",
    "              optimizer=optimizers.RMSprop(lr=2e-5),\n",
    "              metrics=['acc'])"
   ]
  },
  {
   "cell_type": "code",
   "execution_count": 13,
   "metadata": {},
   "outputs": [
    {
     "name": "stdout",
     "output_type": "stream",
     "text": [
      "Epoch 1/30\n",
      "100/100 [==============================] - 276s 3s/step - loss: 0.5574 - acc: 0.7277 - val_loss: 0.3971 - val_acc: 0.8411\n",
      "Epoch 2/30\n",
      "100/100 [==============================] - 264s 3s/step - loss: 0.4304 - acc: 0.8088 - val_loss: 0.3259 - val_acc: 0.8731\n",
      "Epoch 3/30\n",
      "100/100 [==============================] - 264s 3s/step - loss: 0.3911 - acc: 0.8264 - val_loss: 0.3087 - val_acc: 0.8712\n",
      "Epoch 4/30\n",
      "100/100 [==============================] - 270s 3s/step - loss: 0.3656 - acc: 0.8433 - val_loss: 0.2742 - val_acc: 0.8865\n",
      "Epoch 5/30\n",
      "100/100 [==============================] - 272s 3s/step - loss: 0.3443 - acc: 0.8536 - val_loss: 0.2642 - val_acc: 0.8939\n",
      "Epoch 6/30\n",
      "100/100 [==============================] - 277s 3s/step - loss: 0.3379 - acc: 0.8544 - val_loss: 0.2674 - val_acc: 0.8891\n",
      "Epoch 7/30\n",
      "100/100 [==============================] - 276s 3s/step - loss: 0.3279 - acc: 0.8591 - val_loss: 0.2585 - val_acc: 0.8900\n",
      "Epoch 8/30\n",
      "100/100 [==============================] - 274s 3s/step - loss: 0.3133 - acc: 0.8677 - val_loss: 0.2573 - val_acc: 0.8947\n",
      "Epoch 9/30\n",
      "100/100 [==============================] - 276s 3s/step - loss: 0.3136 - acc: 0.8596 - val_loss: 0.2448 - val_acc: 0.9060\n",
      "Epoch 10/30\n",
      "100/100 [==============================] - 276s 3s/step - loss: 0.3071 - acc: 0.8631 - val_loss: 0.2437 - val_acc: 0.9009\n",
      "Epoch 11/30\n",
      "100/100 [==============================] - 275s 3s/step - loss: 0.3018 - acc: 0.8677 - val_loss: 0.2427 - val_acc: 0.8990\n",
      "Epoch 12/30\n",
      "100/100 [==============================] - 275s 3s/step - loss: 0.2952 - acc: 0.8727 - val_loss: 0.2502 - val_acc: 0.8958\n",
      "Epoch 13/30\n",
      "100/100 [==============================] - 275s 3s/step - loss: 0.2898 - acc: 0.8759 - val_loss: 0.2371 - val_acc: 0.8993\n",
      "Epoch 14/30\n",
      "100/100 [==============================] - 275s 3s/step - loss: 0.2820 - acc: 0.8791 - val_loss: 0.2434 - val_acc: 0.9015\n",
      "Epoch 15/30\n",
      "100/100 [==============================] - 275s 3s/step - loss: 0.2860 - acc: 0.8819 - val_loss: 0.2400 - val_acc: 0.9035\n",
      "Epoch 16/30\n",
      "100/100 [==============================] - 272s 3s/step - loss: 0.2878 - acc: 0.8767 - val_loss: 0.2422 - val_acc: 0.9024\n",
      "Epoch 17/30\n",
      "100/100 [==============================] - 274s 3s/step - loss: 0.2757 - acc: 0.8816 - val_loss: 0.2342 - val_acc: 0.9063\n",
      "Epoch 18/30\n",
      "100/100 [==============================] - 275s 3s/step - loss: 0.2742 - acc: 0.8822 - val_loss: 0.2329 - val_acc: 0.9047\n",
      "Epoch 19/30\n",
      "100/100 [==============================] - 275s 3s/step - loss: 0.2759 - acc: 0.8858 - val_loss: 0.2348 - val_acc: 0.9025\n",
      "Epoch 20/30\n",
      "100/100 [==============================] - 275s 3s/step - loss: 0.2737 - acc: 0.8817 - val_loss: 0.2397 - val_acc: 0.9060\n",
      "Epoch 21/30\n",
      "100/100 [==============================] - 275s 3s/step - loss: 0.2698 - acc: 0.8841 - val_loss: 0.2367 - val_acc: 0.9066\n",
      "Epoch 22/30\n",
      "100/100 [==============================] - 275s 3s/step - loss: 0.2679 - acc: 0.8834 - val_loss: 0.2297 - val_acc: 0.9111\n",
      "Epoch 23/30\n",
      "100/100 [==============================] - 275s 3s/step - loss: 0.2668 - acc: 0.8886 - val_loss: 0.2362 - val_acc: 0.9044\n",
      "Epoch 24/30\n",
      "100/100 [==============================] - 273s 3s/step - loss: 0.2592 - acc: 0.8930 - val_loss: 0.2484 - val_acc: 0.8943\n",
      "Epoch 25/30\n",
      "100/100 [==============================] - 275s 3s/step - loss: 0.2580 - acc: 0.8872 - val_loss: 0.2399 - val_acc: 0.8993\n",
      "Epoch 26/30\n",
      "100/100 [==============================] - 275s 3s/step - loss: 0.2591 - acc: 0.8884 - val_loss: 0.2394 - val_acc: 0.9044\n",
      "Epoch 27/30\n",
      "100/100 [==============================] - 274s 3s/step - loss: 0.2639 - acc: 0.8884 - val_loss: 0.2295 - val_acc: 0.9086\n",
      "Epoch 28/30\n",
      "100/100 [==============================] - 274s 3s/step - loss: 0.2583 - acc: 0.8954 - val_loss: 0.2333 - val_acc: 0.9070\n",
      "Epoch 29/30\n",
      "100/100 [==============================] - 274s 3s/step - loss: 0.2576 - acc: 0.8969 - val_loss: 0.2466 - val_acc: 0.8983\n",
      "Epoch 30/30\n",
      "100/100 [==============================] - 274s 3s/step - loss: 0.2558 - acc: 0.8945 - val_loss: 0.2359 - val_acc: 0.9082\n"
     ]
    }
   ],
   "source": [
    "## training model with frozen covolutional base & data augmentation\n",
    "history = model.fit_generator(\n",
    "      train_generator,\n",
    "      steps_per_epoch=100,\n",
    "      epochs=30,\n",
    "      validation_data=validation_generator,\n",
    "      validation_steps=50)"
   ]
  },
  {
   "cell_type": "markdown",
   "metadata": {},
   "source": [
    "Let's plot our results again:"
   ]
  },
  {
   "cell_type": "code",
   "execution_count": 14,
   "metadata": {},
   "outputs": [
    {
     "data": {
      "image/png": "[encoded data removed]",
      "text/plain": [
       "<Figure size 432x288 with 1 Axes>"
      ]
     },
     "metadata": {
      "needs_background": "light"
     },
     "output_type": "display_data"
    },
    {
     "data": {
      "image/png": "[encoded data removed]",
      "text/plain": [
       "<Figure size 432x288 with 1 Axes>"
      ]
     },
     "metadata": {
      "needs_background": "light"
     },
     "output_type": "display_data"
    }
   ],
   "source": [
    "acc      = history.history['acc']\n",
    "val_acc  = history.history['val_acc']\n",
    "loss     = history.history['loss']\n",
    "val_loss = history.history['val_loss']\n",
    "\n",
    "epochs = range(len(acc))\n",
    "\n",
    "plt.plot(epochs, acc, 'bo', label='Training acc')\n",
    "plt.plot(epochs, val_acc, 'b', label='Validation acc')\n",
    "plt.title('Training and validation accuracy')\n",
    "plt.legend()\n",
    "\n",
    "plt.figure()\n",
    "\n",
    "plt.plot(epochs, loss, 'bo', label='Training loss')\n",
    "plt.plot(epochs, val_loss, 'b', label='Validation loss')\n",
    "plt.title('Training and validation loss')\n",
    "plt.legend()\n",
    "\n",
    "plt.show()"
   ]
  },
  {
   "cell_type": "markdown",
   "metadata": {},
   "source": [
    "As you can see, we reach a validation accuracy of about 96%. This is much better than our small convnet trained from scratch."
   ]
  },
  {
   "cell_type": "code",
   "execution_count": 15,
   "metadata": {},
   "outputs": [],
   "source": [
    "fname = './data/cats_and_dogs_small_3.h5'\n",
    "model.save(fname)\n",
    "#model.load(fname)"
   ]
  },
  {
   "cell_type": "markdown",
   "metadata": {},
   "source": [
    "## 5.3.2 Fine-tuning\n",
    "\n",
    "Another widely used technique for model reuse, complementary to feature extraction, is _fine-tuning_. \n",
    "Fine-tuning consists in unfreezing a few of the top layers \n",
    "of a frozen model base used for feature extraction, and jointly training both the newly added part of the model (in our case, the \n",
    "fully-connected classifier) and these top layers. This is called \"fine-tuning\" because it slightly adjusts the more abstract \n",
    "representations of the model being reused, in order to make them more relevant for the problem at hand.\n",
    "\n",
    "![fine-tuning VGG16](https://s3.amazonaws.com/book.keras.io/img/ch5/vgg16_fine_tuning.png)"
   ]
  },
  {
   "cell_type": "markdown",
   "metadata": {},
   "source": [
    "We have stated before that it was necessary to freeze the convolution base of VGG16 in order to be able to train a randomly initialized \n",
    "classifier on top. For the same reason, it is only possible to fine-tune the top layers of the convolutional base once the classifier on \n",
    "top has already been trained. If the classified wasn't already trained, then the error signal propagating through the network during \n",
    "training would be too large, and the representations previously learned by the layers being fine-tuned would be destroyed. Thus the steps \n",
    "for fine-tuning a network are as follow:\n",
    "\n",
    "* 1) Add your custom network on top of an already trained base network.\n",
    "* 2) Freeze the base network.\n",
    "* 3) Train the part you added.\n",
    "* 4) Unfreeze some layers in the base network.\n",
    "* 5) Jointly train both these layers and the part you added.\n",
    "\n",
    "We have already completed the first 3 steps when doing feature extraction. Let's proceed with the 4th step: we will unfreeze our `conv_base`, \n",
    "and then freeze individual layers inside of it.\n",
    "\n",
    "As a reminder, this is what our convolutional base looks like:"
   ]
  },
  {
   "cell_type": "code",
   "execution_count": 16,
   "metadata": {},
   "outputs": [
    {
     "name": "stdout",
     "output_type": "stream",
     "text": [
      "_________________________________________________________________\n",
      "Layer (type)                 Output Shape              Param #   \n",
      "=================================================================\n",
      "input_1 (InputLayer)         (None, 150, 150, 3)       0         \n",
      "_________________________________________________________________\n",
      "block1_conv1 (Conv2D)        (None, 150, 150, 64)      1792      \n",
      "_________________________________________________________________\n",
      "block1_conv2 (Conv2D)        (None, 150, 150, 64)      36928     \n",
      "_________________________________________________________________\n",
      "block1_pool (MaxPooling2D)   (None, 75, 75, 64)        0         \n",
      "_________________________________________________________________\n",
      "block2_conv1 (Conv2D)        (None, 75, 75, 128)       73856     \n",
      "_________________________________________________________________\n",
      "block2_conv2 (Conv2D)        (None, 75, 75, 128)       147584    \n",
      "_________________________________________________________________\n",
      "block2_pool (MaxPooling2D)   (None, 37, 37, 128)       0         \n",
      "_________________________________________________________________\n",
      "block3_conv1 (Conv2D)        (None, 37, 37, 256)       295168    \n",
      "_________________________________________________________________\n",
      "block3_conv2 (Conv2D)        (None, 37, 37, 256)       590080    \n",
      "_________________________________________________________________\n",
      "block3_conv3 (Conv2D)        (None, 37, 37, 256)       590080    \n",
      "_________________________________________________________________\n",
      "block3_pool (MaxPooling2D)   (None, 18, 18, 256)       0         \n",
      "_________________________________________________________________\n",
      "block4_conv1 (Conv2D)        (None, 18, 18, 512)       1180160   \n",
      "_________________________________________________________________\n",
      "block4_conv2 (Conv2D)        (None, 18, 18, 512)       2359808   \n",
      "_________________________________________________________________\n",
      "block4_conv3 (Conv2D)        (None, 18, 18, 512)       2359808   \n",
      "_________________________________________________________________\n",
      "block4_pool (MaxPooling2D)   (None, 9, 9, 512)         0         \n",
      "_________________________________________________________________\n",
      "block5_conv1 (Conv2D)        (None, 9, 9, 512)         2359808   \n",
      "_________________________________________________________________\n",
      "block5_conv2 (Conv2D)        (None, 9, 9, 512)         2359808   \n",
      "_________________________________________________________________\n",
      "block5_conv3 (Conv2D)        (None, 9, 9, 512)         2359808   \n",
      "_________________________________________________________________\n",
      "block5_pool (MaxPooling2D)   (None, 4, 4, 512)         0         \n",
      "=================================================================\n",
      "Total params: 14,714,688\n",
      "Trainable params: 0\n",
      "Non-trainable params: 14,714,688\n",
      "_________________________________________________________________\n"
     ]
    }
   ],
   "source": [
    "conv_base.summary()"
   ]
  },
  {
   "cell_type": "markdown",
   "metadata": {},
   "source": [
    "\n",
    "We will fine-tune the last 3 convolutional layers, which means that all layers up until `block4_pool` should be frozen, and the layers \n",
    "`block5_conv1`, `block5_conv2` and `block5_conv3` should be trainable.\n",
    "\n",
    "Why not fine-tune more layers? Why not fine-tune the entire convolutional base? We could. However, we need to consider that:\n",
    "\n",
    "* Earlier layers in the convolutional base encode more generic, reusable features, while layers higher up encode more specialized features. It is \n",
    "more useful to fine-tune the more specialized features, as these are the ones that need to be repurposed on our new problem. There would \n",
    "be fast-decreasing returns in fine-tuning lower layers.\n",
    "* The more parameters we are training, the more we are at risk of overfitting. The convolutional base has 15M parameters, so it would be \n",
    "risky to attempt to train it on our small dataset.\n",
    "\n",
    "Thus, in our situation, it is a good strategy to only fine-tune the top 2 to 3 layers in the convolutional base.\n",
    "\n",
    "Let's set this up, starting from where we left off in the previous example:"
   ]
  },
  {
   "cell_type": "code",
   "execution_count": 17,
   "metadata": {},
   "outputs": [],
   "source": [
    "## training convolutional block5\n",
    "conv_base.trainable = True\n",
    "\n",
    "set_trainable = False\n",
    "for layer in conv_base.layers:\n",
    "    if layer.name == 'block5_conv1':\n",
    "        set_trainable = True\n",
    "    if set_trainable:\n",
    "        layer.trainable = True\n",
    "    else:\n",
    "        layer.trainable = False"
   ]
  },
  {
   "cell_type": "markdown",
   "metadata": {},
   "source": [
    "Now we can start fine-tuning our network. We will do this with the RMSprop optimizer, using a very low learning rate. The reason for using \n",
    "a low learning rate is that we want to limit the magnitude of the modifications we make to the representations of the 3 layers that we are \n",
    "fine-tuning. Updates that are too large may harm these representations.\n",
    "\n",
    "Now let's proceed with fine-tuning:"
   ]
  },
  {
   "cell_type": "code",
   "execution_count": 18,
   "metadata": {
    "scrolled": false
   },
   "outputs": [
    {
     "name": "stdout",
     "output_type": "stream",
     "text": [
      "Epoch 1/100\n",
      "100/100 [==============================] - 155s 2s/step - loss: 0.1137 - acc: 0.9556 - val_loss: 0.2427 - val_acc: 0.9131\n",
      "Epoch 2/100\n",
      "100/100 [==============================] - 158s 2s/step - loss: 0.1200 - acc: 0.9534 - val_loss: 0.2142 - val_acc: 0.9207\n",
      "Epoch 3/100\n",
      "100/100 [==============================] - 160s 2s/step - loss: 0.1133 - acc: 0.9544 - val_loss: 0.1728 - val_acc: 0.9302\n",
      "Epoch 4/100\n",
      "100/100 [==============================] - 160s 2s/step - loss: 0.0971 - acc: 0.9669 - val_loss: 0.1853 - val_acc: 0.9298\n",
      "Epoch 5/100\n",
      "100/100 [==============================] - 162s 2s/step - loss: 0.0918 - acc: 0.9647 - val_loss: 0.3162 - val_acc: 0.9008\n",
      "Epoch 6/100\n",
      "100/100 [==============================] - 162s 2s/step - loss: 0.0949 - acc: 0.9666 - val_loss: 0.1999 - val_acc: 0.9283\n",
      "Epoch 7/100\n",
      "100/100 [==============================] - 162s 2s/step - loss: 0.0832 - acc: 0.9672 - val_loss: 0.1971 - val_acc: 0.9343\n",
      "Epoch 8/100\n",
      "100/100 [==============================] - 162s 2s/step - loss: 0.0806 - acc: 0.9697 - val_loss: 0.2490 - val_acc: 0.9188\n",
      "Epoch 9/100\n",
      "100/100 [==============================] - 164s 2s/step - loss: 0.0777 - acc: 0.9700 - val_loss: 0.1934 - val_acc: 0.9336\n",
      "Epoch 10/100\n",
      "100/100 [==============================] - 165s 2s/step - loss: 0.0850 - acc: 0.9678 - val_loss: 0.2043 - val_acc: 0.9302\n",
      "Epoch 11/100\n",
      "100/100 [==============================] - 164s 2s/step - loss: 0.0700 - acc: 0.9747 - val_loss: 0.2004 - val_acc: 0.9291\n",
      "Epoch 12/100\n",
      "100/100 [==============================] - 165s 2s/step - loss: 0.0596 - acc: 0.9769 - val_loss: 0.1941 - val_acc: 0.9362\n",
      "Epoch 13/100\n",
      "100/100 [==============================] - 164s 2s/step - loss: 0.0722 - acc: 0.9747 - val_loss: 0.3208 - val_acc: 0.9143\n",
      "Epoch 14/100\n",
      "100/100 [==============================] - 164s 2s/step - loss: 0.0633 - acc: 0.9750 - val_loss: 0.2825 - val_acc: 0.9137\n",
      "Epoch 15/100\n",
      "100/100 [==============================] - 164s 2s/step - loss: 0.0564 - acc: 0.9772 - val_loss: 0.1972 - val_acc: 0.9365\n",
      "Epoch 16/100\n",
      "100/100 [==============================] - 163s 2s/step - loss: 0.0512 - acc: 0.9794 - val_loss: 0.2101 - val_acc: 0.9349\n",
      "Epoch 17/100\n",
      "100/100 [==============================] - 164s 2s/step - loss: 0.0426 - acc: 0.9844 - val_loss: 0.2156 - val_acc: 0.9327\n",
      "Epoch 18/100\n",
      "100/100 [==============================] - 164s 2s/step - loss: 0.0512 - acc: 0.9781 - val_loss: 0.3068 - val_acc: 0.9188\n",
      "Epoch 19/100\n",
      "100/100 [==============================] - 167s 2s/step - loss: 0.0349 - acc: 0.9903 - val_loss: 0.2102 - val_acc: 0.9308\n",
      "Epoch 20/100\n",
      "100/100 [==============================] - 168s 2s/step - loss: 0.0452 - acc: 0.9844 - val_loss: 0.2908 - val_acc: 0.9227\n",
      "Epoch 21/100\n",
      "100/100 [==============================] - 172s 2s/step - loss: 0.0474 - acc: 0.9803 - val_loss: 0.2278 - val_acc: 0.9304\n",
      "Epoch 22/100\n",
      "100/100 [==============================] - 181s 2s/step - loss: 0.0498 - acc: 0.9806 - val_loss: 0.2374 - val_acc: 0.9308\n",
      "Epoch 23/100\n",
      "100/100 [==============================] - 181s 2s/step - loss: 0.0434 - acc: 0.9838 - val_loss: 0.1989 - val_acc: 0.9388\n",
      "Epoch 24/100\n",
      "100/100 [==============================] - 186s 2s/step - loss: 0.0369 - acc: 0.9881 - val_loss: 0.2501 - val_acc: 0.9226\n",
      "Epoch 25/100\n",
      "100/100 [==============================] - 185s 2s/step - loss: 0.0425 - acc: 0.9844 - val_loss: 0.1950 - val_acc: 0.9375\n",
      "Epoch 26/100\n",
      "100/100 [==============================] - 186s 2s/step - loss: 0.0419 - acc: 0.9850 - val_loss: 0.2593 - val_acc: 0.9226\n",
      "Epoch 27/100\n",
      "100/100 [==============================] - 185s 2s/step - loss: 0.0369 - acc: 0.9862 - val_loss: 0.1838 - val_acc: 0.9375\n",
      "Epoch 28/100\n",
      "100/100 [==============================] - 196s 2s/step - loss: 0.0441 - acc: 0.9847 - val_loss: 0.2060 - val_acc: 0.9343\n",
      "Epoch 29/100\n",
      "100/100 [==============================] - 213s 2s/step - loss: 0.0350 - acc: 0.9872 - val_loss: 0.1925 - val_acc: 0.9385\n",
      "Epoch 30/100\n",
      "100/100 [==============================] - 212s 2s/step - loss: 0.0334 - acc: 0.9887 - val_loss: 0.2380 - val_acc: 0.9349\n",
      "Epoch 31/100\n",
      "100/100 [==============================] - 204s 2s/step - loss: 0.0321 - acc: 0.9878 - val_loss: 0.1754 - val_acc: 0.9404\n",
      "Epoch 32/100\n",
      "100/100 [==============================] - 197s 2s/step - loss: 0.0345 - acc: 0.9866 - val_loss: 0.1809 - val_acc: 0.9369\n",
      "Epoch 33/100\n",
      "100/100 [==============================] - 198s 2s/step - loss: 0.0263 - acc: 0.9906 - val_loss: 0.2741 - val_acc: 0.9213\n",
      "Epoch 34/100\n",
      "100/100 [==============================] - 198s 2s/step - loss: 0.0280 - acc: 0.9909 - val_loss: 0.2004 - val_acc: 0.9356\n",
      "Epoch 35/100\n",
      "100/100 [==============================] - 198s 2s/step - loss: 0.0346 - acc: 0.9875 - val_loss: 0.2074 - val_acc: 0.9359\n",
      "Epoch 36/100\n",
      "100/100 [==============================] - 198s 2s/step - loss: 0.0261 - acc: 0.9912 - val_loss: 0.2786 - val_acc: 0.9356\n",
      "Epoch 37/100\n",
      "100/100 [==============================] - 197s 2s/step - loss: 0.0261 - acc: 0.9900 - val_loss: 0.2717 - val_acc: 0.9388\n",
      "Epoch 38/100\n",
      "100/100 [==============================] - 198s 2s/step - loss: 0.0237 - acc: 0.9919 - val_loss: 0.2512 - val_acc: 0.9321\n",
      "Epoch 39/100\n",
      "100/100 [==============================] - 198s 2s/step - loss: 0.0292 - acc: 0.9903 - val_loss: 0.1974 - val_acc: 0.9452\n",
      "Epoch 40/100\n",
      "100/100 [==============================] - 198s 2s/step - loss: 0.0269 - acc: 0.9922 - val_loss: 0.2702 - val_acc: 0.9334\n",
      "Epoch 41/100\n",
      "100/100 [==============================] - 198s 2s/step - loss: 0.0255 - acc: 0.9909 - val_loss: 0.2274 - val_acc: 0.9375\n",
      "Epoch 42/100\n",
      "100/100 [==============================] - 198s 2s/step - loss: 0.0267 - acc: 0.9894 - val_loss: 0.3373 - val_acc: 0.9258\n",
      "Epoch 43/100\n",
      "100/100 [==============================] - 198s 2s/step - loss: 0.0229 - acc: 0.9925 - val_loss: 0.2824 - val_acc: 0.9343\n",
      "Epoch 44/100\n",
      "100/100 [==============================] - 197s 2s/step - loss: 0.0272 - acc: 0.9903 - val_loss: 0.2300 - val_acc: 0.9439\n",
      "Epoch 45/100\n",
      "100/100 [==============================] - 198s 2s/step - loss: 0.0216 - acc: 0.9919 - val_loss: 0.2881 - val_acc: 0.9201\n",
      "Epoch 46/100\n",
      "100/100 [==============================] - 198s 2s/step - loss: 0.0255 - acc: 0.9906 - val_loss: 0.2073 - val_acc: 0.9394\n",
      "Epoch 47/100\n",
      "100/100 [==============================] - 195s 2s/step - loss: 0.0183 - acc: 0.9931 - val_loss: 0.1946 - val_acc: 0.9454\n",
      "Epoch 48/100\n",
      "100/100 [==============================] - 155s 2s/step - loss: 0.0226 - acc: 0.9919 - val_loss: 0.2312 - val_acc: 0.9414\n",
      "Epoch 49/100\n",
      "100/100 [==============================] - 155s 2s/step - loss: 0.0240 - acc: 0.9919 - val_loss: 0.2378 - val_acc: 0.9442\n",
      "Epoch 50/100\n",
      "100/100 [==============================] - 154s 2s/step - loss: 0.0191 - acc: 0.9934 - val_loss: 0.2477 - val_acc: 0.9420\n",
      "Epoch 51/100\n",
      "100/100 [==============================] - 155s 2s/step - loss: 0.0259 - acc: 0.9925 - val_loss: 0.3903 - val_acc: 0.9169\n",
      "Epoch 52/100\n",
      "100/100 [==============================] - 154s 2s/step - loss: 0.0228 - acc: 0.9922 - val_loss: 0.2145 - val_acc: 0.9439\n",
      "Epoch 53/100\n",
      "100/100 [==============================] - 155s 2s/step - loss: 0.0176 - acc: 0.9941 - val_loss: 0.2881 - val_acc: 0.9330\n",
      "Epoch 54/100\n",
      "100/100 [==============================] - 155s 2s/step - loss: 0.0243 - acc: 0.9909 - val_loss: 0.2092 - val_acc: 0.9480\n",
      "Epoch 55/100\n",
      "100/100 [==============================] - 157s 2s/step - loss: 0.0193 - acc: 0.9928 - val_loss: 0.2279 - val_acc: 0.9349\n",
      "Epoch 56/100\n",
      "100/100 [==============================] - 162s 2s/step - loss: 0.0233 - acc: 0.9931 - val_loss: 0.2630 - val_acc: 0.9365\n",
      "Epoch 57/100\n",
      "100/100 [==============================] - 164s 2s/step - loss: 0.0149 - acc: 0.9947 - val_loss: 0.2362 - val_acc: 0.9433\n",
      "Epoch 58/100\n",
      "100/100 [==============================] - 168s 2s/step - loss: 0.0190 - acc: 0.9919 - val_loss: 0.2781 - val_acc: 0.9404\n",
      "Epoch 59/100\n",
      "100/100 [==============================] - 170s 2s/step - loss: 0.0179 - acc: 0.9928 - val_loss: 0.4396 - val_acc: 0.9169\n",
      "Epoch 60/100\n",
      "100/100 [==============================] - 170s 2s/step - loss: 0.0159 - acc: 0.9950 - val_loss: 0.2549 - val_acc: 0.9407\n",
      "Epoch 61/100\n",
      "100/100 [==============================] - 171s 2s/step - loss: 0.0186 - acc: 0.9937 - val_loss: 0.3349 - val_acc: 0.9289\n",
      "Epoch 62/100\n",
      "100/100 [==============================] - 170s 2s/step - loss: 0.0194 - acc: 0.9928 - val_loss: 0.2320 - val_acc: 0.9452\n",
      "Epoch 63/100\n",
      "100/100 [==============================] - 170s 2s/step - loss: 0.0090 - acc: 0.9969 - val_loss: 0.2616 - val_acc: 0.9397\n",
      "Epoch 64/100\n",
      "100/100 [==============================] - 168s 2s/step - loss: 0.0199 - acc: 0.9931 - val_loss: 0.2632 - val_acc: 0.9336\n",
      "Epoch 65/100\n",
      "100/100 [==============================] - 169s 2s/step - loss: 0.0111 - acc: 0.9956 - val_loss: 0.2341 - val_acc: 0.9467\n",
      "Epoch 66/100\n",
      "100/100 [==============================] - 168s 2s/step - loss: 0.0142 - acc: 0.9962 - val_loss: 0.2456 - val_acc: 0.9369\n",
      "Epoch 67/100\n",
      "100/100 [==============================] - 168s 2s/step - loss: 0.0158 - acc: 0.9944 - val_loss: 0.2357 - val_acc: 0.9442\n",
      "Epoch 68/100\n",
      "100/100 [==============================] - 168s 2s/step - loss: 0.0109 - acc: 0.9962 - val_loss: 0.4263 - val_acc: 0.9137\n",
      "Epoch 69/100\n",
      "100/100 [==============================] - 170s 2s/step - loss: 0.0159 - acc: 0.9950 - val_loss: 0.3050 - val_acc: 0.9369\n",
      "Epoch 70/100\n",
      "100/100 [==============================] - 172s 2s/step - loss: 0.0126 - acc: 0.9959 - val_loss: 0.2977 - val_acc: 0.9372\n",
      "Epoch 71/100\n",
      "100/100 [==============================] - 172s 2s/step - loss: 0.0126 - acc: 0.9963 - val_loss: 0.2754 - val_acc: 0.9439\n",
      "Epoch 72/100\n",
      "100/100 [==============================] - 179s 2s/step - loss: 0.0142 - acc: 0.9947 - val_loss: 0.2987 - val_acc: 0.9404\n",
      "Epoch 73/100\n",
      "100/100 [==============================] - 178s 2s/step - loss: 0.0178 - acc: 0.9937 - val_loss: 0.2623 - val_acc: 0.9465\n",
      "Epoch 74/100\n",
      "100/100 [==============================] - 179s 2s/step - loss: 0.0128 - acc: 0.9959 - val_loss: 0.2441 - val_acc: 0.9492\n",
      "Epoch 75/100\n",
      "100/100 [==============================] - 178s 2s/step - loss: 0.0133 - acc: 0.9953 - val_loss: 0.2816 - val_acc: 0.9388\n",
      "Epoch 76/100\n",
      "100/100 [==============================] - 178s 2s/step - loss: 0.0144 - acc: 0.9953 - val_loss: 0.2393 - val_acc: 0.9452\n",
      "Epoch 77/100\n",
      "100/100 [==============================] - 180s 2s/step - loss: 0.0167 - acc: 0.9937 - val_loss: 0.2935 - val_acc: 0.9429\n",
      "Epoch 78/100\n",
      "100/100 [==============================] - 176s 2s/step - loss: 0.0116 - acc: 0.9962 - val_loss: 0.3000 - val_acc: 0.9323\n",
      "Epoch 79/100\n",
      "100/100 [==============================] - 177s 2s/step - loss: 0.0116 - acc: 0.9953 - val_loss: 0.3716 - val_acc: 0.9296\n",
      "Epoch 80/100\n",
      "100/100 [==============================] - 176s 2s/step - loss: 0.0141 - acc: 0.9962 - val_loss: 0.2470 - val_acc: 0.9446\n",
      "Epoch 81/100\n",
      "100/100 [==============================] - 176s 2s/step - loss: 0.0092 - acc: 0.9972 - val_loss: 0.2329 - val_acc: 0.9505\n",
      "Epoch 82/100\n",
      "100/100 [==============================] - 176s 2s/step - loss: 0.0107 - acc: 0.9975 - val_loss: 0.2117 - val_acc: 0.9414\n",
      "Epoch 83/100\n",
      "100/100 [==============================] - 176s 2s/step - loss: 0.0120 - acc: 0.9966 - val_loss: 0.3715 - val_acc: 0.9283\n",
      "Epoch 84/100\n",
      "100/100 [==============================] - 175s 2s/step - loss: 0.0133 - acc: 0.9953 - val_loss: 0.4188 - val_acc: 0.9272\n",
      "Epoch 85/100\n",
      "100/100 [==============================] - 176s 2s/step - loss: 0.0077 - acc: 0.9978 - val_loss: 0.3056 - val_acc: 0.9394\n",
      "Epoch 86/100\n",
      "100/100 [==============================] - 176s 2s/step - loss: 0.0150 - acc: 0.9947 - val_loss: 0.2980 - val_acc: 0.9327\n",
      "Epoch 87/100\n",
      "100/100 [==============================] - 176s 2s/step - loss: 0.0095 - acc: 0.9972 - val_loss: 0.2759 - val_acc: 0.9356\n",
      "Epoch 88/100\n",
      "100/100 [==============================] - 176s 2s/step - loss: 0.0130 - acc: 0.9962 - val_loss: 0.2546 - val_acc: 0.9442\n",
      "Epoch 89/100\n",
      "100/100 [==============================] - 178s 2s/step - loss: 0.0133 - acc: 0.9956 - val_loss: 0.3362 - val_acc: 0.9291\n",
      "Epoch 90/100\n",
      "100/100 [==============================] - 185s 2s/step - loss: 0.0113 - acc: 0.9962 - val_loss: 0.8453 - val_acc: 0.8807\n",
      "Epoch 91/100\n",
      "100/100 [==============================] - 184s 2s/step - loss: 0.0139 - acc: 0.9962 - val_loss: 0.2726 - val_acc: 0.9427\n",
      "Epoch 92/100\n",
      "100/100 [==============================] - 185s 2s/step - loss: 0.0122 - acc: 0.9969 - val_loss: 0.3141 - val_acc: 0.9394\n",
      "Epoch 93/100\n",
      "100/100 [==============================] - 185s 2s/step - loss: 0.0098 - acc: 0.9963 - val_loss: 0.2794 - val_acc: 0.9391\n",
      "Epoch 94/100\n",
      "100/100 [==============================] - 184s 2s/step - loss: 0.0108 - acc: 0.9956 - val_loss: 0.3301 - val_acc: 0.9433\n",
      "Epoch 95/100\n",
      "100/100 [==============================] - 185s 2s/step - loss: 0.0121 - acc: 0.9959 - val_loss: 0.2980 - val_acc: 0.9429\n",
      "Epoch 96/100\n",
      "100/100 [==============================] - 184s 2s/step - loss: 0.0102 - acc: 0.9972 - val_loss: 0.2827 - val_acc: 0.9420\n",
      "Epoch 97/100\n",
      "100/100 [==============================] - 185s 2s/step - loss: 0.0081 - acc: 0.9972 - val_loss: 0.2926 - val_acc: 0.9423\n",
      "Epoch 98/100\n",
      "100/100 [==============================] - 184s 2s/step - loss: 0.0115 - acc: 0.9956 - val_loss: 0.4684 - val_acc: 0.9291\n",
      "Epoch 99/100\n",
      "100/100 [==============================] - 185s 2s/step - loss: 0.0091 - acc: 0.9969 - val_loss: 0.3291 - val_acc: 0.9429\n",
      "Epoch 100/100\n",
      "100/100 [==============================] - 184s 2s/step - loss: 0.0080 - acc: 0.9975 - val_loss: 0.3093 - val_acc: 0.9439\n"
     ]
    }
   ],
   "source": [
    "## fit convolutional layers press my laptop GPU memory, so make smaller\n",
    "train_generator.batch_size      = 32\n",
    "validation_generator.batch_size = 32 \n",
    "\n",
    "model.compile(loss='binary_crossentropy',\n",
    "              optimizer=optimizers.RMSprop(lr=1e-5),\n",
    "              metrics=['acc'])\n",
    "\n",
    "history = model.fit_generator(\n",
    "      train_generator,\n",
    "      steps_per_epoch=100,\n",
    "      epochs=100,\n",
    "      validation_data=validation_generator,\n",
    "      validation_steps=50)"
   ]
  },
  {
   "cell_type": "code",
   "execution_count": 19,
   "metadata": {},
   "outputs": [],
   "source": [
    "fname = './data/cats_and_dogs_small_4.h5'\n",
    "model.save(fname)\n",
    "#model.load(fname)"
   ]
  },
  {
   "cell_type": "markdown",
   "metadata": {},
   "source": [
    "Let's plot our results using the same plotting code as before:"
   ]
  },
  {
   "cell_type": "code",
   "execution_count": 20,
   "metadata": {},
   "outputs": [
    {
     "data": {
      "image/png": "[encoded data removed]",
      "text/plain": [
       "<Figure size 432x288 with 1 Axes>"
      ]
     },
     "metadata": {
      "needs_background": "light"
     },
     "output_type": "display_data"
    },
    {
     "data": {
      "image/png": "[encoded data removed]",
      "text/plain": [
       "<Figure size 432x288 with 1 Axes>"
      ]
     },
     "metadata": {
      "needs_background": "light"
     },
     "output_type": "display_data"
    }
   ],
   "source": [
    "acc      = history.history['acc']\n",
    "val_acc  = history.history['val_acc']\n",
    "loss     = history.history['loss']\n",
    "val_loss = history.history['val_loss']\n",
    "\n",
    "epochs = range(len(acc))\n",
    "\n",
    "plt.plot(epochs, acc    , 'bo', label='Training acc')\n",
    "plt.plot(epochs, val_acc, 'b' , label='Validation acc')\n",
    "plt.title('Training and validation accuracy')\n",
    "plt.legend()\n",
    "\n",
    "plt.figure()\n",
    "\n",
    "plt.plot(epochs, loss    , 'bo', label='Training loss')\n",
    "plt.plot(epochs, val_loss, 'b' , label='Validation loss')\n",
    "plt.title('Training and validation loss')\n",
    "plt.legend()\n",
    "\n",
    "plt.show()"
   ]
  },
  {
   "cell_type": "markdown",
   "metadata": {},
   "source": [
    "\n",
    "These curves look very noisy. To make them more readable, we can smooth them by replacing every loss and accuracy with exponential moving \n",
    "averages of these quantities. Here's a trivial utility function to do this:"
   ]
  },
  {
   "cell_type": "code",
   "execution_count": 21,
   "metadata": {},
   "outputs": [
    {
     "data": {
      "image/png": "[encoded data removed]",
      "text/plain": [
       "<Figure size 432x288 with 1 Axes>"
      ]
     },
     "metadata": {
      "needs_background": "light"
     },
     "output_type": "display_data"
    },
    {
     "data": {
      "image/png": "[encoded data removed]",
      "text/plain": [
       "<Figure size 432x288 with 1 Axes>"
      ]
     },
     "metadata": {
      "needs_background": "light"
     },
     "output_type": "display_data"
    }
   ],
   "source": [
    "def smooth_curve(points, factor=0.8):\n",
    "    smoothed_points = []\n",
    "    for point in points:\n",
    "        if smoothed_points:\n",
    "            previous = smoothed_points[-1]\n",
    "            smoothed_points.append(previous * factor + point * (1 - factor))\n",
    "        else:\n",
    "            smoothed_points.append(point)\n",
    "    return smoothed_points\n",
    "\n",
    "plt.plot(epochs, smooth_curve(acc)    , 'bo', label='Smoothed training acc')\n",
    "plt.plot(epochs, smooth_curve(val_acc), 'b' , label='Smoothed validation acc')\n",
    "plt.title('Training and validation accuracy')\n",
    "plt.legend()\n",
    "\n",
    "plt.figure()\n",
    "\n",
    "plt.plot(epochs, smooth_curve(loss)    , 'bo', label='Smoothed training loss')\n",
    "plt.plot(epochs, smooth_curve(val_loss), 'b' , label='Smoothed validation loss')\n",
    "plt.title('Training and validation loss')\n",
    "plt.legend()\n",
    "\n",
    "plt.show()"
   ]
  },
  {
   "cell_type": "markdown",
   "metadata": {},
   "source": [
    "\n",
    "These curves look much cleaner and more stable. We are seeing a nice 1% absolute improvement.\n",
    "\n",
    "Note that the loss curve does not show any real improvement (in fact, it is deteriorating). You may wonder, how could accuracy improve if the \n",
    "loss isn't decreasing? The answer is simple: what we display is an average of pointwise loss values, but what actually matters for accuracy \n",
    "is the distribution of the loss values, not their average, since accuracy is the result of a binary thresholding of the class probability \n",
    "predicted by the model. The model may still be improving even if this isn't reflected in the average loss.\n",
    "\n",
    "We can now finally evaluate this model on the test data:"
   ]
  },
  {
   "cell_type": "code",
   "execution_count": 22,
   "metadata": {},
   "outputs": [
    {
     "name": "stdout",
     "output_type": "stream",
     "text": [
      "Found 1000 images belonging to 2 classes.\n",
      "test acc: 0.9429999947547912\n"
     ]
    }
   ],
   "source": [
    "test_generator = test_datagen.flow_from_directory(\n",
    "        test_dir,\n",
    "        target_size=(150, 150),\n",
    "        batch_size=20,\n",
    "        class_mode='binary')\n",
    "\n",
    "test_loss, test_acc = model.evaluate_generator(test_generator, steps=50)\n",
    "print('test acc:', test_acc)"
   ]
  },
  {
   "cell_type": "markdown",
   "metadata": {},
   "source": [
    "\n",
    "Here we get a test accuracy of 97%. In the original Kaggle competition around this dataset, this would have been one of the top results. \n",
    "However, using modern deep learning techniques, we managed to reach this result using only a very small fraction of the training data \n",
    "available (about 10%). There is a huge difference between being able to train on 20,000 samples compared to 2,000 samples!"
   ]
  },
  {
   "cell_type": "markdown",
   "metadata": {},
   "source": [
    "## Take-aways: using convnets with small datasets\n",
    "\n",
    "Here's what you should take away from the exercises of these past two sections:\n",
    "\n",
    "* Convnets are the best type of machine learning models for computer vision tasks. It is possible to train one from scratch even on a very \n",
    "small dataset, with decent results.\n",
    "* On a small dataset, overfitting will be the main issue. Data augmentation is a powerful way to fight overfitting when working with image \n",
    "data.\n",
    "* It is easy to reuse an existing convnet on a new dataset, via feature extraction. This is a very valuable technique for working with \n",
    "small image datasets.\n",
    "* As a complement to feature extraction, one may use fine-tuning, which adapts to a new problem some of the representations previously \n",
    "learned by an existing model. This pushes performance a bit further.\n",
    "\n",
    "Now you have a solid set of tools for dealing with image classification problems, in particular with small datasets."
   ]
  }
 ],
 "metadata": {
  "kernelspec": {
   "display_name": "Python 3",
   "language": "python",
   "name": "python3"
  },
  "language_info": {
   "codemirror_mode": {
    "name": "ipython",
    "version": 3
   },
   "file_extension": ".py",
   "mimetype": "text/x-python",
   "name": "python",
   "nbconvert_exporter": "python",
   "pygments_lexer": "ipython3",
   "version": "3.6.10"
  }
 },
 "nbformat": 4,
 "nbformat_minor": 2
}
