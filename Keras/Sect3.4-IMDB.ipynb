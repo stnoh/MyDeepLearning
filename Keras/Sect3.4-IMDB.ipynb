{
 "cells": [
  {
   "cell_type": "markdown",
   "metadata": {},
   "source": [
    "# Example (2) 映画レビュー分類問題 (binary classification)\n",
    "\n",
    "- 基本的に，[\"Deep Learning with Python\"](https://www.amazon.com/Deep-Learning-Python-Francois-Chollet/dp/1617294438/)のSection 3.4(68-77ページ)を元にしている．  \n",
    "- [原本のコード](https://github.com/fchollet/deep-learning-with-python-notebooks/blob/master/3.5-classifying-movie-reviews.ipynb)も入手可能であるが，それを解説を兼ねて多少改編している．  "
   ]
  },
  {
   "cell_type": "markdown",
   "metadata": {},
   "source": [
    "## (1) Prepare dataset: IMDB movie review dataset\n",
    "\n",
    "- Data format: [N,?]\n",
    "- Training set: labelled 25,000 text sequences\n",
    "- Test set: labelled 25,000 text sequences\n",
    "- テキストの長さはそれぞれ異なるので，特定できない  "
   ]
  },
  {
   "cell_type": "code",
   "execution_count": 1,
   "metadata": {},
   "outputs": [
    {
     "name": "stderr",
     "output_type": "stream",
     "text": [
      "Using TensorFlow backend.\n"
     ]
    }
   ],
   "source": [
    "## imdb dataset is also embedded in Keras framework, but it is pickled in old format.\n",
    "from keras.datasets import imdb\n",
    "\n",
    "# modify the default parameters of np.load\n",
    "import numpy as np\n",
    "from pkg_resources import parse_version\n",
    "\n",
    "## we need small modification to handle old-pickled data\n",
    "np_pickle = parse_version(np.__version__) < parse_version('1.17.0')\n",
    "if np_pickle:\n",
    "    np_load_old = np.load\n",
    "    np.load = lambda *a,**k: np_load_old(*a, allow_pickle=True, **k)\n",
    "\n",
    "(train_data, train_labels), (test_data, test_labels) = imdb.load_data(num_words=10000) \n",
    "\n",
    "if np_pickle:\n",
    "    np.load = np_load_old"
   ]
  },
  {
   "cell_type": "code",
   "execution_count": 2,
   "metadata": {},
   "outputs": [
    {
     "name": "stdout",
     "output_type": "stream",
     "text": [
      "[1, 14, 22, 16, 43, 530, 973, 1622, 1385, 65, 458, 4468, 66, 3941, 4, 173, 36, 256, 5, 25, 100, 43, 838, 112, 50, 670, 2, 9, 35, 480, 284, 5, 150, 4, 172, 112, 167, 2, 336, 385, 39, 4, 172, 4536, 1111, 17, 546, 38, 13, 447, 4, 192, 50, 16, 6, 147, 2025, 19, 14, 22, 4, 1920, 4613, 469, 4, 22, 71, 87, 12, 16, 43, 530, 38, 76, 15, 13, 1247, 4, 22, 17, 515, 17, 12, 16, 626, 18, 2, 5, 62, 386, 12, 8, 316, 8, 106, 5, 4, 2223, 5244, 16, 480, 66, 3785, 33, 4, 130, 12, 16, 38, 619, 5, 25, 124, 51, 36, 135, 48, 25, 1415, 33, 6, 22, 12, 215, 28, 77, 52, 5, 14, 407, 16, 82, 2, 8, 4, 107, 117, 5952, 15, 256, 4, 2, 7, 3766, 5, 723, 36, 71, 43, 530, 476, 26, 400, 317, 46, 7, 4, 2, 1029, 13, 104, 88, 4, 381, 15, 297, 98, 32, 2071, 56, 26, 141, 6, 194, 7486, 18, 4, 226, 22, 21, 134, 476, 26, 480, 5, 144, 30, 5535, 18, 51, 36, 28, 224, 92, 25, 104, 4, 226, 65, 16, 38, 1334, 88, 12, 16, 283, 5, 16, 4472, 113, 103, 32, 15, 16, 5345, 19, 178, 32]\n",
      "1\n"
     ]
    }
   ],
   "source": [
    "## review text is encoded as a vector sequence\n",
    "print(train_data[0])\n",
    "print(train_labels[0]) ## 0: negative / 1: positive"
   ]
  },
  {
   "cell_type": "code",
   "execution_count": 3,
   "metadata": {},
   "outputs": [
    {
     "name": "stdout",
     "output_type": "stream",
     "text": [
      "? this film was just brilliant casting location scenery story direction everyone's really suited the part they played and you could just imagine being there robert ? is an amazing actor and now the same being director ? father came from the same scottish island as myself so i loved the fact there was a real connection with this film the witty remarks throughout the film were great it was just brilliant so much that i bought the film as soon as it was released for ? and would recommend it to everyone to watch and the fly fishing was amazing really cried at the end it was so sad and you know what they say if you cry at a film it must have been good and this definitely was also ? to the two little boy's that played the ? of norman and paul they were just brilliant children are often left out of the ? list i think because the stars that play them all grown up are such a big profile for the whole film but these children are amazing and should be praised for what they have done don't you think the whole story was so lovely because it was true and was someone's life after all that was shared with us all\n"
     ]
    }
   ],
   "source": [
    "## decoding from encoded-label to English word\n",
    "word_index = imdb.get_word_index()\n",
    "reverse_word_index = dict(\n",
    "    [(value, key) for (key, value) in word_index.items()])\n",
    "decoded_review = ' '.join(\n",
    "    [reverse_word_index.get(i-3, '?') for i in train_data[0]]) ## 0:padding / 1:start / 2:unknown\n",
    "print(decoded_review)"
   ]
  },
  {
   "cell_type": "markdown",
   "metadata": {},
   "source": [
    "## (2) Data conversion for training\n",
    "\n",
    "- x: 単語のシーケンス $\\rightarrow$ 単語保持可否を表す10,000次元のベクトル [0:含まない, 1:含む]  \n",
    "- y: 離散データ (整数型) [0,1] $\\rightarrow$ 連続データ (浮動小数点数) [0.0:1.0]  "
   ]
  },
  {
   "cell_type": "code",
   "execution_count": 4,
   "metadata": {},
   "outputs": [],
   "source": [
    "def vectorize_sequences(sequences, dimension=10000):\n",
    "    results = np.zeros((len(sequences), dimension))\n",
    "    for i, sequence in enumerate(sequences):\n",
    "        results[i, sequence] = 1.\n",
    "    return results\n",
    "\n",
    "x_train = vectorize_sequences(train_data)\n",
    "x_test  = vectorize_sequences(test_data)"
   ]
  },
  {
   "cell_type": "code",
   "execution_count": 5,
   "metadata": {},
   "outputs": [
    {
     "name": "stdout",
     "output_type": "stream",
     "text": [
      "[0. 1. 1. ... 0. 0. 0.]\n"
     ]
    }
   ],
   "source": [
    "print(x_train[0])"
   ]
  },
  {
   "cell_type": "code",
   "execution_count": 6,
   "metadata": {},
   "outputs": [],
   "source": [
    "y_train = np.asarray(train_labels).astype('float32')\n",
    "y_test  = np.asarray(test_labels).astype('float32')"
   ]
  },
  {
   "cell_type": "markdown",
   "metadata": {},
   "source": [
    "## (3) Prepare model\n",
    "\n",
    "- Fully connectedで(隠し2層)単純なネットワークを構成する  \n",
    "- 二値識別(binary classification)なので，訓練のloss関数としてbinary_crossentropyを用いる  "
   ]
  },
  {
   "cell_type": "code",
   "execution_count": 7,
   "metadata": {},
   "outputs": [],
   "source": [
    "from keras import models\n",
    "from keras import layers\n",
    "\n",
    "## build model (fully-connected layer)\n",
    "model = models.Sequential()\n",
    "model.add(layers.Dense(16, activation='relu', input_shape=(10000,)))\n",
    "model.add(layers.Dense(16, activation='relu'))\n",
    "model.add(layers.Dense( 1, activation='sigmoid'))"
   ]
  },
  {
   "cell_type": "code",
   "execution_count": 8,
   "metadata": {},
   "outputs": [],
   "source": [
    "from keras import optimizers\n",
    "from keras import losses\n",
    "from keras import metrics\n",
    "\n",
    "## compile the model with (custom) optimizers, losses and metrics\n",
    "model.compile(optimizer=optimizers.RMSprop(lr=0.001),\n",
    "              loss=losses.binary_crossentropy,\n",
    "              metrics=[metrics.binary_accuracy])"
   ]
  },
  {
   "cell_type": "markdown",
   "metadata": {},
   "source": [
    "## (4) Training & testing neural network\n",
    "\n",
    "### (4-i) Training model"
   ]
  },
  {
   "cell_type": "code",
   "execution_count": 9,
   "metadata": {},
   "outputs": [],
   "source": [
    "## separating data for validation (0~9999) / training (10000~24999)\n",
    "x_val = x_train[:10000]\n",
    "partial_x_train = x_train[10000:]\n",
    "y_val = y_train[:10000]\n",
    "partial_y_train = y_train[10000:]"
   ]
  },
  {
   "cell_type": "code",
   "execution_count": 10,
   "metadata": {},
   "outputs": [
    {
     "name": "stdout",
     "output_type": "stream",
     "text": [
      "Train on 15000 samples, validate on 10000 samples\n",
      "Epoch 1/20\n",
      "15000/15000 [==============================] - 2s 160us/step - loss: 0.5226 - binary_accuracy: 0.7955 - val_loss: 0.3943 - val_binary_accuracy: 0.8722\n",
      "Epoch 2/20\n",
      "15000/15000 [==============================] - 2s 117us/step - loss: 0.3116 - binary_accuracy: 0.9036 - val_loss: 0.3076 - val_binary_accuracy: 0.8845\n",
      "Epoch 3/20\n",
      "15000/15000 [==============================] - 2s 116us/step - loss: 0.2260 - binary_accuracy: 0.9257 - val_loss: 0.2797 - val_binary_accuracy: 0.8886\n",
      "Epoch 4/20\n",
      "15000/15000 [==============================] - 2s 117us/step - loss: 0.1763 - binary_accuracy: 0.9440 - val_loss: 0.2879 - val_binary_accuracy: 0.8846\n",
      "Epoch 5/20\n",
      "15000/15000 [==============================] - 2s 118us/step - loss: 0.1434 - binary_accuracy: 0.9545 - val_loss: 0.2847 - val_binary_accuracy: 0.8875\n",
      "Epoch 6/20\n",
      "15000/15000 [==============================] - 2s 118us/step - loss: 0.1203 - binary_accuracy: 0.9615 - val_loss: 0.2938 - val_binary_accuracy: 0.8846\n",
      "Epoch 7/20\n",
      "15000/15000 [==============================] - 2s 117us/step - loss: 0.1002 - binary_accuracy: 0.9698 - val_loss: 0.3189 - val_binary_accuracy: 0.8841\n",
      "Epoch 8/20\n",
      "15000/15000 [==============================] - 2s 117us/step - loss: 0.0827 - binary_accuracy: 0.9769 - val_loss: 0.3310 - val_binary_accuracy: 0.8818\n",
      "Epoch 9/20\n",
      "15000/15000 [==============================] - 2s 117us/step - loss: 0.0681 - binary_accuracy: 0.9818 - val_loss: 0.3781 - val_binary_accuracy: 0.8742\n",
      "Epoch 10/20\n",
      "15000/15000 [==============================] - 2s 117us/step - loss: 0.0553 - binary_accuracy: 0.9874 - val_loss: 0.4633 - val_binary_accuracy: 0.8570\n",
      "Epoch 11/20\n",
      "15000/15000 [==============================] - 2s 117us/step - loss: 0.0482 - binary_accuracy: 0.9879 - val_loss: 0.4455 - val_binary_accuracy: 0.8661\n",
      "Epoch 12/20\n",
      "15000/15000 [==============================] - 2s 118us/step - loss: 0.0386 - binary_accuracy: 0.9923 - val_loss: 0.4450 - val_binary_accuracy: 0.8750\n",
      "Epoch 13/20\n",
      "15000/15000 [==============================] - 2s 117us/step - loss: 0.0291 - binary_accuracy: 0.9945 - val_loss: 0.4867 - val_binary_accuracy: 0.8712\n",
      "Epoch 14/20\n",
      "15000/15000 [==============================] - 2s 117us/step - loss: 0.0261 - binary_accuracy: 0.9944 - val_loss: 0.5097 - val_binary_accuracy: 0.8710\n",
      "Epoch 15/20\n",
      "15000/15000 [==============================] - 2s 118us/step - loss: 0.0239 - binary_accuracy: 0.9941 - val_loss: 0.5399 - val_binary_accuracy: 0.8713\n",
      "Epoch 16/20\n",
      "15000/15000 [==============================] - 2s 117us/step - loss: 0.0129 - binary_accuracy: 0.9990 - val_loss: 0.5706 - val_binary_accuracy: 0.8694\n",
      "Epoch 17/20\n",
      "15000/15000 [==============================] - 2s 117us/step - loss: 0.0129 - binary_accuracy: 0.9989 - val_loss: 0.6126 - val_binary_accuracy: 0.8694\n",
      "Epoch 18/20\n",
      "15000/15000 [==============================] - 2s 117us/step - loss: 0.0128 - binary_accuracy: 0.9975 - val_loss: 0.6370 - val_binary_accuracy: 0.8680\n",
      "Epoch 19/20\n",
      "15000/15000 [==============================] - 2s 117us/step - loss: 0.0060 - binary_accuracy: 0.9998 - val_loss: 0.6902 - val_binary_accuracy: 0.8657\n",
      "Epoch 20/20\n",
      "15000/15000 [==============================] - 2s 117us/step - loss: 0.0102 - binary_accuracy: 0.9975 - val_loss: 0.7160 - val_binary_accuracy: 0.8678\n"
     ]
    }
   ],
   "source": [
    "history = model.fit(partial_x_train,\n",
    "                    partial_y_train,\n",
    "                    epochs=20,\n",
    "                    batch_size=512,\n",
    "                    validation_data=(x_val,y_val))"
   ]
  },
  {
   "cell_type": "markdown",
   "metadata": {},
   "source": [
    "### (4-ii) Visualizing the Training Progress\n",
    "\n",
    "- 訓練課程はmodel.fit()の既に出力として保存されている  \n",
    "- その訓練課程をmatplotlibで可視化する  "
   ]
  },
  {
   "cell_type": "code",
   "execution_count": 11,
   "metadata": {},
   "outputs": [
    {
     "name": "stdout",
     "output_type": "stream",
     "text": [
      "dict_keys(['val_loss', 'val_binary_accuracy', 'loss', 'binary_accuracy'])\n"
     ]
    }
   ],
   "source": [
    "history_dict = history.history\n",
    "print(history_dict.keys())"
   ]
  },
  {
   "cell_type": "code",
   "execution_count": 12,
   "metadata": {},
   "outputs": [
    {
     "data": {
      "image/png": "[encoded data removed]",
      "text/plain": [
       "<Figure size 432x288 with 1 Axes>"
      ]
     },
     "metadata": {
      "needs_background": "light"
     },
     "output_type": "display_data"
    }
   ],
   "source": [
    "import matplotlib.pyplot as plt\n",
    "%matplotlib inline\n",
    "\n",
    "loss_values = history_dict['loss']\n",
    "val_loss_values = history_dict['val_loss']\n",
    "\n",
    "acc = history_dict['binary_accuracy']\n",
    "epochs = range(1, len(acc)+1)\n",
    "\n",
    "plt.plot(epochs, loss_values    , 'bo', label='Training loss')\n",
    "plt.plot(epochs, val_loss_values, 'b' , label='Validation loss')\n",
    "plt.title('Training and validation loss')\n",
    "plt.xlabel('Epochs')\n",
    "plt.ylabel('Loss')\n",
    "plt.legend()\n",
    "\n",
    "plt.show()"
   ]
  },
  {
   "cell_type": "code",
   "execution_count": 13,
   "metadata": {},
   "outputs": [
    {
     "data": {
      "image/png": "[encoded data removed]",
      "text/plain": [
       "<Figure size 432x288 with 1 Axes>"
      ]
     },
     "metadata": {
      "needs_background": "light"
     },
     "output_type": "display_data"
    }
   ],
   "source": [
    "plt.clf() ## clear the figure\n",
    "acc = history_dict['binary_accuracy']\n",
    "val_acc = history_dict['val_binary_accuracy']\n",
    "\n",
    "plt.plot(epochs, acc, 'bo', label='Training acc')\n",
    "plt.plot(epochs, val_acc, 'b' , label='Validation acc')\n",
    "plt.title('Training and validation accuracy')\n",
    "plt.xlabel('Epochs')\n",
    "plt.ylabel('Loss')\n",
    "plt.legend()\n",
    "\n",
    "plt.show()"
   ]
  },
  {
   "cell_type": "markdown",
   "metadata": {},
   "source": [
    "## Re-training a model from scratch"
   ]
  },
  {
   "cell_type": "code",
   "execution_count": 14,
   "metadata": {},
   "outputs": [
    {
     "name": "stdout",
     "output_type": "stream",
     "text": [
      "Epoch 1/4\n",
      "25000/25000 [==============================] - 2s 74us/step - loss: 0.4782 - accuracy: 0.8124\n",
      "Epoch 2/4\n",
      "25000/25000 [==============================] - 2s 71us/step - loss: 0.2688 - accuracy: 0.9068\n",
      "Epoch 3/4\n",
      "25000/25000 [==============================] - 2s 71us/step - loss: 0.2046 - accuracy: 0.9264\n",
      "Epoch 4/4\n",
      "25000/25000 [==============================] - 2s 71us/step - loss: 0.1685 - accuracy: 0.9400\n",
      "25000/25000 [==============================] - 3s 118us/step\n",
      "[0.7805381040310859, 0.8509200215339661]\n"
     ]
    }
   ],
   "source": [
    "## another (but the same structured) model\n",
    "model2 = models.Sequential()\n",
    "model2.add(layers.Dense(16, activation='relu', input_shape=(10000,)))\n",
    "model2.add(layers.Dense(16, activation='relu'))\n",
    "model2.add(layers.Dense( 1, activation='sigmoid'))\n",
    "model2.compile(optimizer='rmsprop',\n",
    "              loss='binary_crossentropy',\n",
    "              metrics=['accuracy'])\n",
    "\n",
    "## training another model with relatively small epochs\n",
    "model2.fit(x_train, y_train, epochs=4, batch_size=512)\n",
    "results = model.evaluate(x_test, y_test)\n",
    "print(results)"
   ]
  },
  {
   "cell_type": "code",
   "execution_count": 15,
   "metadata": {},
   "outputs": [
    {
     "data": {
      "text/plain": [
       "array([[0.00802989],\n",
       "       [1.        ],\n",
       "       [0.9560808 ],\n",
       "       ...,\n",
       "       [0.00220481],\n",
       "       [0.0051692 ],\n",
       "       [0.8610219 ]], dtype=float32)"
      ]
     },
     "execution_count": 15,
     "metadata": {},
     "output_type": "execute_result"
    }
   ],
   "source": [
    "model.predict(x_test)"
   ]
  },
  {
   "cell_type": "markdown",
   "metadata": {},
   "source": [
    "(end)"
   ]
  }
 ],
 "metadata": {
  "kernelspec": {
   "display_name": "Python 3",
   "language": "python",
   "name": "python3"
  },
  "language_info": {
   "codemirror_mode": {
    "name": "ipython",
    "version": 3
   },
   "file_extension": ".py",
   "mimetype": "text/x-python",
   "name": "python",
   "nbconvert_exporter": "python",
   "pygments_lexer": "ipython3",
   "version": "3.6.10"
  }
 },
 "nbformat": 4,
 "nbformat_minor": 4
}
