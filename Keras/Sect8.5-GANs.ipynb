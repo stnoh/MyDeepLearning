{
 "cells": [
  {
   "cell_type": "markdown",
   "metadata": {},
   "source": [
    "# Section 8.5 Introduction to generative adversarial networks\n",
    "\n",
    "- 基本的に，[\"Deep Learning with Python\"](https://www.amazon.com/Deep-Learning-Python-Francois-Chollet/dp/1617294438/)のSection 8.5(305-ページ)を元にしている．  \n",
    "- [原本のコード](https://github.com/fchollet/deep-learning-with-python-notebooks/blob/master/8.5-introduction-to-gans.ipynb)も入手可能であるが，それを最新のKerasで回せるように多少改編しつつ解説している．  "
   ]
  },
  {
   "cell_type": "markdown",
   "metadata": {},
   "source": [
    "## A schematic GAN implementation\n",
    "\n",
    "\n",
    "In what follows, we explain how to implement a GAN in Keras, in its barest form -- since GANs are quite advanced, diving deeply into the \n",
    "technical details would be out of scope for us. Our specific implementation will be a deep convolutional GAN, or DCGAN: a GAN where the \n",
    "generator and discriminator are deep convnets. In particular, it leverages a `Conv2DTranspose` layer for image upsampling in the generator.\n",
    "\n",
    "We will train our GAN on images from CIFAR10, a dataset of 50,000 32x32 RGB images belong to 10 classes (5,000 images per class). To make \n",
    "things even easier, we will only use images belonging to the class \"frog\".\n",
    "\n",
    "Schematically, our GAN looks like this:\n",
    "\n",
    "* A `generator` network maps vectors of shape `(latent_dim,)` to images of shape `(32, 32, 3)`.\n",
    "* A `discriminator` network maps images of shape (32, 32, 3) to a binary score estimating the probability that the image is real.\n",
    "* A `gan` network chains the generator and the discriminator together: `gan(x) = discriminator(generator(x))`. Thus this `gan` network maps \n",
    "latent space vectors to the discriminator's assessment of the realism of these latent vectors as decoded by the generator.\n",
    "* We train the discriminator using examples of real and fake images along with \"real\"/\"fake\" labels, as we would train any regular image \n",
    "classification model.\n",
    "* To train the generator, we use the gradients of the generator's weights with regard to the loss of the `gan` model. This means that, at \n",
    "every step, we move the weights of the generator in a direction that will make the discriminator more likely to classify as \"real\" the \n",
    "images decoded by the generator. I.e. we train the generator to fool the discriminator."
   ]
  },
  {
   "cell_type": "markdown",
   "metadata": {},
   "source": [
    "## A bag of tricks\n",
    "\n",
    "\n",
    "Training GANs and tuning GAN implementations is notoriously difficult. There are a number of known \"tricks\" that one should keep in mind. \n",
    "Like most things in deep learning, it is more alchemy than science: these tricks are really just heuristics, not theory-backed guidelines. \n",
    "They are backed by some level of intuitive understanding of the phenomenon at hand, and they are known to work well empirically, albeit not \n",
    "necessarily in every context.\n",
    "\n",
    "Here are a few of the tricks that we leverage in our own implementation of a GAN generator and discriminator below. It is not an exhaustive \n",
    "list of GAN-related tricks; you will find many more across the GAN literature.\n",
    "\n",
    "* We use `tanh` as the last activation in the generator, instead of `sigmoid`, which would be more commonly found in other types of models.\n",
    "* We sample points from the latent space using a _normal distribution_ (Gaussian distribution), not a uniform distribution.\n",
    "* Stochasticity is good to induce robustness. Since GAN training results in a dynamic equilibrium, GANs are likely to get \"stuck\" in all sorts of ways. \n",
    "Introducing randomness during training helps prevent this. We introduce randomness in two ways: 1) we use dropout in the discriminator, 2) \n",
    "we add some random noise to the labels for the discriminator.\n",
    "* Sparse gradients can hinder GAN training. In deep learning, sparsity is often a desirable property, but not in GANs. There are two things \n",
    "that can induce gradient sparsity: 1) max pooling operations, 2) ReLU activations. Instead of max pooling, we recommend using strided \n",
    "convolutions for downsampling, and we recommend using a `LeakyReLU` layer instead of a ReLU activation. It is similar to ReLU but it \n",
    "relaxes sparsity constraints by allowing small negative activation values.\n",
    "* In generated images, it is common to see \"checkerboard artifacts\" caused by unequal coverage of the pixel space in the generator. To fix \n",
    "this, we use a kernel size that is divisible by the stride size, whenever we use a strided `Conv2DTranpose` or `Conv2D` in both the \n",
    "generator and discriminator."
   ]
  },
  {
   "cell_type": "markdown",
   "metadata": {},
   "source": [
    "## The generator\n",
    "\n",
    "\n",
    "First, we develop a `generator` model, which turns a vector (from the latent space -- during training it will sampled at random) into a \n",
    "candidate image. One of the many issues that commonly arise with GANs is that the generator gets stuck with generated images that look like \n",
    "noise. A possible solution is to use dropout on both the discriminator and generator."
   ]
  },
  {
   "cell_type": "code",
   "execution_count": 1,
   "metadata": {},
   "outputs": [
    {
     "name": "stderr",
     "output_type": "stream",
     "text": [
      "Using TensorFlow backend.\n"
     ]
    },
    {
     "name": "stdout",
     "output_type": "stream",
     "text": [
      "Model: \"model_1\"\n",
      "_________________________________________________________________\n",
      "Layer (type)                 Output Shape              Param #   \n",
      "=================================================================\n",
      "input_1 (InputLayer)         (None, 32)                0         \n",
      "_________________________________________________________________\n",
      "dense_1 (Dense)              (None, 32768)             1081344   \n",
      "_________________________________________________________________\n",
      "leaky_re_lu_1 (LeakyReLU)    (None, 32768)             0         \n",
      "_________________________________________________________________\n",
      "reshape_1 (Reshape)          (None, 16, 16, 128)       0         \n",
      "_________________________________________________________________\n",
      "conv2d_1 (Conv2D)            (None, 16, 16, 256)       819456    \n",
      "_________________________________________________________________\n",
      "leaky_re_lu_2 (LeakyReLU)    (None, 16, 16, 256)       0         \n",
      "_________________________________________________________________\n",
      "conv2d_transpose_1 (Conv2DTr (None, 32, 32, 256)       1048832   \n",
      "_________________________________________________________________\n",
      "leaky_re_lu_3 (LeakyReLU)    (None, 32, 32, 256)       0         \n",
      "_________________________________________________________________\n",
      "conv2d_2 (Conv2D)            (None, 32, 32, 256)       1638656   \n",
      "_________________________________________________________________\n",
      "leaky_re_lu_4 (LeakyReLU)    (None, 32, 32, 256)       0         \n",
      "_________________________________________________________________\n",
      "conv2d_3 (Conv2D)            (None, 32, 32, 256)       1638656   \n",
      "_________________________________________________________________\n",
      "leaky_re_lu_5 (LeakyReLU)    (None, 32, 32, 256)       0         \n",
      "_________________________________________________________________\n",
      "conv2d_4 (Conv2D)            (None, 32, 32, 3)         37635     \n",
      "=================================================================\n",
      "Total params: 6,264,579\n",
      "Trainable params: 6,264,579\n",
      "Non-trainable params: 0\n",
      "_________________________________________________________________\n"
     ]
    }
   ],
   "source": [
    "import keras\n",
    "from keras import layers\n",
    "import numpy as np\n",
    "\n",
    "latent_dim = 32\n",
    "height = 32\n",
    "width = 32\n",
    "channels = 3\n",
    "\n",
    "generator_input = keras.Input(shape=(latent_dim,))\n",
    "\n",
    "# First, transform the input into a 16x16 128-channels feature map\n",
    "x = layers.Dense(128 * 16 * 16)(generator_input)\n",
    "x = layers.LeakyReLU()(x)\n",
    "x = layers.Reshape((16, 16, 128))(x)\n",
    "\n",
    "# Then, add a convolution layer\n",
    "x = layers.Conv2D(256, 5, padding='same')(x)\n",
    "x = layers.LeakyReLU()(x)\n",
    "\n",
    "# Upsample to 32x32\n",
    "x = layers.Conv2DTranspose(256, 4, strides=2, padding='same')(x)\n",
    "x = layers.LeakyReLU()(x)\n",
    "\n",
    "# Few more conv layers\n",
    "x = layers.Conv2D(256, 5, padding='same')(x)\n",
    "x = layers.LeakyReLU()(x)\n",
    "x = layers.Conv2D(256, 5, padding='same')(x)\n",
    "x = layers.LeakyReLU()(x)\n",
    "\n",
    "# Produce a 32x32 1-channel feature map\n",
    "x = layers.Conv2D(channels, 7, activation='tanh', padding='same')(x)\n",
    "generator = keras.models.Model(generator_input, x)\n",
    "generator.summary()"
   ]
  },
  {
   "cell_type": "markdown",
   "metadata": {},
   "source": [
    "## The discriminator\n",
    "\n",
    "\n",
    "Then, we develop a `discriminator` model, that takes as input a candidate image (real or synthetic) and classifies it into one of two \n",
    "classes, either \"generated image\" or \"real image that comes from the training set\"."
   ]
  },
  {
   "cell_type": "code",
   "execution_count": 2,
   "metadata": {},
   "outputs": [
    {
     "name": "stdout",
     "output_type": "stream",
     "text": [
      "Model: \"model_2\"\n",
      "_________________________________________________________________\n",
      "Layer (type)                 Output Shape              Param #   \n",
      "=================================================================\n",
      "input_2 (InputLayer)         (None, 32, 32, 3)         0         \n",
      "_________________________________________________________________\n",
      "conv2d_5 (Conv2D)            (None, 30, 30, 128)       3584      \n",
      "_________________________________________________________________\n",
      "leaky_re_lu_6 (LeakyReLU)    (None, 30, 30, 128)       0         \n",
      "_________________________________________________________________\n",
      "conv2d_6 (Conv2D)            (None, 14, 14, 128)       262272    \n",
      "_________________________________________________________________\n",
      "leaky_re_lu_7 (LeakyReLU)    (None, 14, 14, 128)       0         \n",
      "_________________________________________________________________\n",
      "conv2d_7 (Conv2D)            (None, 6, 6, 128)         262272    \n",
      "_________________________________________________________________\n",
      "leaky_re_lu_8 (LeakyReLU)    (None, 6, 6, 128)         0         \n",
      "_________________________________________________________________\n",
      "conv2d_8 (Conv2D)            (None, 2, 2, 128)         262272    \n",
      "_________________________________________________________________\n",
      "leaky_re_lu_9 (LeakyReLU)    (None, 2, 2, 128)         0         \n",
      "_________________________________________________________________\n",
      "flatten_1 (Flatten)          (None, 512)               0         \n",
      "_________________________________________________________________\n",
      "dropout_1 (Dropout)          (None, 512)               0         \n",
      "_________________________________________________________________\n",
      "dense_2 (Dense)              (None, 1)                 513       \n",
      "=================================================================\n",
      "Total params: 790,913\n",
      "Trainable params: 790,913\n",
      "Non-trainable params: 0\n",
      "_________________________________________________________________\n"
     ]
    }
   ],
   "source": [
    "discriminator_input = layers.Input(shape=(height, width, channels))\n",
    "x = layers.Conv2D(128, 3)(discriminator_input)\n",
    "x = layers.LeakyReLU()(x)\n",
    "x = layers.Conv2D(128, 4, strides=2)(x)\n",
    "x = layers.LeakyReLU()(x)\n",
    "x = layers.Conv2D(128, 4, strides=2)(x)\n",
    "x = layers.LeakyReLU()(x)\n",
    "x = layers.Conv2D(128, 4, strides=2)(x)\n",
    "x = layers.LeakyReLU()(x)\n",
    "x = layers.Flatten()(x)\n",
    "\n",
    "# One dropout layer - important trick!\n",
    "x = layers.Dropout(0.4)(x)\n",
    "\n",
    "# Classification layer\n",
    "x = layers.Dense(1, activation='sigmoid')(x)\n",
    "\n",
    "discriminator = keras.models.Model(discriminator_input, x)\n",
    "discriminator.summary()\n",
    "\n",
    "# To stabilize training, we use learning rate decay\n",
    "# and gradient clipping (by value) in the optimizer.\n",
    "discriminator_optimizer = keras.optimizers.RMSprop(lr=0.0008, clipvalue=1.0, decay=1e-8)\n",
    "discriminator.compile(optimizer=discriminator_optimizer, loss='binary_crossentropy')"
   ]
  },
  {
   "cell_type": "markdown",
   "metadata": {},
   "source": [
    "## The adversarial network\n",
    "\n",
    "Finally, we setup the GAN, which chains the generator and the discriminator. This is the model that, when trained, will move the generator \n",
    "in a direction that improves its ability to fool the discriminator. This model turns latent space points into a classification decision, \n",
    "\"fake\" or \"real\", and it is meant to be trained with labels that are always \"these are real images\". So training `gan` will updates the \n",
    "weights of `generator` in a way that makes `discriminator` more likely to predict \"real\" when looking at fake images. Very importantly, we \n",
    "set the discriminator to be frozen during training (non-trainable): its weights will not be updated when training `gan`. If the \n",
    "discriminator weights could be updated during this process, then we would be training the discriminator to always predict \"real\", which is \n",
    "not what we want!"
   ]
  },
  {
   "cell_type": "code",
   "execution_count": 3,
   "metadata": {},
   "outputs": [],
   "source": [
    "# Set discriminator weights to non-trainable\n",
    "# (will only apply to the `gan` model)\n",
    "discriminator.trainable = False\n",
    "\n",
    "gan_input = keras.Input(shape=(latent_dim,))\n",
    "gan_output = discriminator(generator(gan_input))\n",
    "gan = keras.models.Model(gan_input, gan_output)\n",
    "\n",
    "gan_optimizer = keras.optimizers.RMSprop(lr=0.0004, clipvalue=1.0, decay=1e-8)\n",
    "gan.compile(optimizer=gan_optimizer, loss='binary_crossentropy')"
   ]
  },
  {
   "cell_type": "markdown",
   "metadata": {},
   "source": [
    "## How to train your DCGAN\n",
    "\n",
    "Now we can start training. To recapitulate, this is schematically what the training loop looks like:\n",
    "\n",
    "```\n",
    "for each epoch:\n",
    "    * Draw random points in the latent space (random noise).\n",
    "    * Generate images with `generator` using this random noise.\n",
    "    * Mix the generated images with real ones.\n",
    "    * Train `discriminator` using these mixed images, with corresponding targets, either \"real\" (for the real images) or \"fake\" (for the generated images).\n",
    "    * Draw new random points in the latent space.\n",
    "    * Train `gan` using these random vectors, with targets that all say \"these are real images\". This will update the weights of the generator (only, since discriminator is frozen inside `gan`) to move them towards getting the discriminator to predict \"these are real images\" for generated images, i.e. this trains the generator to fool the discriminator.\n",
    "```\n",
    "\n",
    "Let's implement it:"
   ]
  },
  {
   "cell_type": "code",
   "execution_count": 4,
   "metadata": {
    "scrolled": true
   },
   "outputs": [
    {
     "name": "stderr",
     "output_type": "stream",
     "text": [
      "C:\\Users\\stnoh\\.conda\\envs\\venv_tf\\lib\\site-packages\\keras\\engine\\training.py:297: UserWarning: Discrepancy between trainable weights and collected trainable weights, did you set `model.trainable` without calling `model.compile` after ?\n",
      "  'Discrepancy between trainable weights and collected trainable'\n"
     ]
    },
    {
     "name": "stdout",
     "output_type": "stream",
     "text": [
      "discriminator loss at step 0: 0.6951774\n",
      "adversarial loss at step 0: 0.7008273\n"
     ]
    },
    {
     "name": "stderr",
     "output_type": "stream",
     "text": [
      "C:\\Users\\stnoh\\.conda\\envs\\venv_tf\\lib\\site-packages\\keras\\engine\\training.py:297: UserWarning: Discrepancy between trainable weights and collected trainable weights, did you set `model.trainable` without calling `model.compile` after ?\n",
      "  'Discrepancy between trainable weights and collected trainable'\n"
     ]
    },
    {
     "name": "stdout",
     "output_type": "stream",
     "text": [
      "discriminator loss at step 100: 2.0769572\n",
      "adversarial loss at step 100: 1.1861318\n",
      "discriminator loss at step 200: 0.69913787\n",
      "adversarial loss at step 200: 0.76293296\n",
      "discriminator loss at step 300: 0.781826\n",
      "adversarial loss at step 300: 0.842004\n",
      "discriminator loss at step 400: 0.6965913\n",
      "adversarial loss at step 400: 0.7560866\n",
      "discriminator loss at step 500: 0.6941177\n",
      "adversarial loss at step 500: 0.7632179\n",
      "discriminator loss at step 600: 0.699399\n",
      "adversarial loss at step 600: 0.72395825\n",
      "discriminator loss at step 700: 0.70625305\n",
      "adversarial loss at step 700: 0.7739694\n",
      "discriminator loss at step 800: 0.7008262\n",
      "adversarial loss at step 800: 0.7716443\n",
      "discriminator loss at step 900: 0.6893152\n",
      "adversarial loss at step 900: 0.75933707\n",
      "discriminator loss at step 1000: 0.68542343\n",
      "adversarial loss at step 1000: 0.72733593\n",
      "discriminator loss at step 1100: 0.7046648\n",
      "adversarial loss at step 1100: 0.7323607\n",
      "discriminator loss at step 1200: 0.69339454\n",
      "adversarial loss at step 1200: 0.7661354\n",
      "discriminator loss at step 1300: 0.68949544\n",
      "adversarial loss at step 1300: 0.717721\n",
      "discriminator loss at step 1400: 0.6925608\n",
      "adversarial loss at step 1400: 0.83436775\n",
      "discriminator loss at step 1500: 0.7001994\n",
      "adversarial loss at step 1500: 0.7662694\n",
      "discriminator loss at step 1600: 0.68641233\n",
      "adversarial loss at step 1600: 0.75472146\n",
      "discriminator loss at step 1700: 0.6856548\n",
      "adversarial loss at step 1700: 0.7729114\n",
      "discriminator loss at step 1800: 0.6978922\n",
      "adversarial loss at step 1800: 0.6406263\n",
      "discriminator loss at step 1900: 0.68274534\n",
      "adversarial loss at step 1900: 1.239917\n",
      "discriminator loss at step 2000: 0.7055332\n",
      "adversarial loss at step 2000: 0.7488982\n",
      "discriminator loss at step 2100: 0.6999234\n",
      "adversarial loss at step 2100: 0.74084723\n",
      "discriminator loss at step 2200: 0.7140362\n",
      "adversarial loss at step 2200: 0.737095\n",
      "discriminator loss at step 2300: 0.69001204\n",
      "adversarial loss at step 2300: 0.7256566\n",
      "discriminator loss at step 2400: 0.70472276\n",
      "adversarial loss at step 2400: 0.7604968\n",
      "discriminator loss at step 2500: 0.7128075\n",
      "adversarial loss at step 2500: 0.73305386\n",
      "discriminator loss at step 2600: 0.69848245\n",
      "adversarial loss at step 2600: 0.74502176\n",
      "discriminator loss at step 2700: 0.6780166\n",
      "adversarial loss at step 2700: 0.6943313\n",
      "discriminator loss at step 2800: 0.6923611\n",
      "adversarial loss at step 2800: 0.75509155\n",
      "discriminator loss at step 2900: 0.6953679\n",
      "adversarial loss at step 2900: 0.73370534\n",
      "discriminator loss at step 3000: 0.6894892\n",
      "adversarial loss at step 3000: 0.7634904\n",
      "discriminator loss at step 3100: 0.70700204\n",
      "adversarial loss at step 3100: 0.8061801\n",
      "discriminator loss at step 3200: 0.7019725\n",
      "adversarial loss at step 3200: 0.7691247\n",
      "discriminator loss at step 3300: 0.7039865\n",
      "adversarial loss at step 3300: 0.7296103\n",
      "discriminator loss at step 3400: 0.6865401\n",
      "adversarial loss at step 3400: 0.7274483\n",
      "discriminator loss at step 3500: 0.6929289\n",
      "adversarial loss at step 3500: 0.7654828\n",
      "discriminator loss at step 3600: 0.71030337\n",
      "adversarial loss at step 3600: 0.7636498\n",
      "discriminator loss at step 3700: 0.68169475\n",
      "adversarial loss at step 3700: 0.8377696\n",
      "discriminator loss at step 3800: 0.7030595\n",
      "adversarial loss at step 3800: 0.75396115\n",
      "discriminator loss at step 3900: 0.69451034\n",
      "adversarial loss at step 3900: 0.7885734\n",
      "discriminator loss at step 4000: 0.6760996\n",
      "adversarial loss at step 4000: 0.6575339\n",
      "discriminator loss at step 4100: 0.6989988\n",
      "adversarial loss at step 4100: 0.777238\n",
      "discriminator loss at step 4200: 0.68634105\n",
      "adversarial loss at step 4200: 0.75690484\n",
      "discriminator loss at step 4300: 0.68743205\n",
      "adversarial loss at step 4300: 0.73781264\n",
      "discriminator loss at step 4400: 0.68841094\n",
      "adversarial loss at step 4400: 0.72552264\n",
      "discriminator loss at step 4500: 0.69363767\n",
      "adversarial loss at step 4500: 0.7120527\n",
      "discriminator loss at step 4600: 0.69359744\n",
      "adversarial loss at step 4600: 0.7469712\n",
      "discriminator loss at step 4700: 0.6931795\n",
      "adversarial loss at step 4700: 0.7699134\n",
      "discriminator loss at step 4800: 0.7847365\n",
      "adversarial loss at step 4800: 0.7585255\n",
      "discriminator loss at step 4900: 0.6937094\n",
      "adversarial loss at step 4900: 0.76128733\n",
      "discriminator loss at step 5000: 0.6933784\n",
      "adversarial loss at step 5000: 0.7225677\n",
      "discriminator loss at step 5100: 0.69918287\n",
      "adversarial loss at step 5100: 0.8048276\n",
      "discriminator loss at step 5200: 0.69681853\n",
      "adversarial loss at step 5200: 0.7770103\n",
      "discriminator loss at step 5300: 0.68340343\n",
      "adversarial loss at step 5300: 0.7385154\n",
      "discriminator loss at step 5400: 0.6849221\n",
      "adversarial loss at step 5400: 0.7648763\n",
      "discriminator loss at step 5500: 0.6947902\n",
      "adversarial loss at step 5500: 0.7129115\n",
      "discriminator loss at step 5600: 0.69662637\n",
      "adversarial loss at step 5600: 1.2175709\n",
      "discriminator loss at step 5700: 0.6743432\n",
      "adversarial loss at step 5700: 1.1165688\n",
      "discriminator loss at step 5800: 0.70116735\n",
      "adversarial loss at step 5800: 0.70627415\n",
      "discriminator loss at step 5900: 0.69831973\n",
      "adversarial loss at step 5900: 0.7283873\n",
      "discriminator loss at step 6000: 0.695245\n",
      "adversarial loss at step 6000: 0.7660341\n",
      "discriminator loss at step 6100: 0.6951885\n",
      "adversarial loss at step 6100: 0.6663345\n",
      "discriminator loss at step 6200: 0.7091276\n",
      "adversarial loss at step 6200: 0.72557616\n",
      "discriminator loss at step 6300: 0.6953171\n",
      "adversarial loss at step 6300: 0.9227992\n",
      "discriminator loss at step 6400: 0.6725866\n",
      "adversarial loss at step 6400: 0.9445487\n",
      "discriminator loss at step 6500: 0.6736351\n",
      "adversarial loss at step 6500: 0.74840814\n",
      "discriminator loss at step 6600: 0.73393726\n",
      "adversarial loss at step 6600: 0.7072924\n",
      "discriminator loss at step 6700: 0.6907505\n",
      "adversarial loss at step 6700: 0.78895116\n",
      "discriminator loss at step 6800: 0.6723591\n",
      "adversarial loss at step 6800: 0.7446887\n",
      "discriminator loss at step 6900: 0.6754467\n",
      "adversarial loss at step 6900: 0.94292676\n",
      "discriminator loss at step 7000: 0.67253125\n",
      "adversarial loss at step 7000: 0.7710626\n",
      "discriminator loss at step 7100: 0.70951134\n",
      "adversarial loss at step 7100: 0.7173416\n",
      "discriminator loss at step 7200: 0.72495586\n",
      "adversarial loss at step 7200: 0.73510647\n",
      "discriminator loss at step 7300: 0.6908018\n",
      "adversarial loss at step 7300: 0.80743045\n",
      "discriminator loss at step 7400: 0.69839954\n",
      "adversarial loss at step 7400: 0.7338653\n",
      "discriminator loss at step 7500: 0.6829198\n",
      "adversarial loss at step 7500: 0.71642715\n",
      "discriminator loss at step 7600: 0.7084167\n",
      "adversarial loss at step 7600: 1.0188876\n",
      "discriminator loss at step 7700: 0.695486\n",
      "adversarial loss at step 7700: 0.7546247\n",
      "discriminator loss at step 7800: 0.6745678\n",
      "adversarial loss at step 7800: 0.7444407\n",
      "discriminator loss at step 7900: 0.6941644\n",
      "adversarial loss at step 7900: 0.90250576\n",
      "discriminator loss at step 8000: 0.64728564\n",
      "adversarial loss at step 8000: 0.74556386\n",
      "discriminator loss at step 8100: 0.6938871\n",
      "adversarial loss at step 8100: 0.9325546\n",
      "discriminator loss at step 8200: 0.69664586\n",
      "adversarial loss at step 8200: 0.7607357\n",
      "discriminator loss at step 8300: 0.68943536\n",
      "adversarial loss at step 8300: 0.7706009\n",
      "discriminator loss at step 8400: 0.68365467\n",
      "adversarial loss at step 8400: 0.805439\n",
      "discriminator loss at step 8500: 0.7176736\n",
      "adversarial loss at step 8500: 0.6556217\n",
      "discriminator loss at step 8600: 0.6501506\n",
      "adversarial loss at step 8600: 0.8025004\n",
      "discriminator loss at step 8700: 0.6906282\n",
      "adversarial loss at step 8700: 0.79061943\n",
      "discriminator loss at step 8800: 0.6965498\n",
      "adversarial loss at step 8800: 0.77135897\n",
      "discriminator loss at step 8900: 0.65707445\n",
      "adversarial loss at step 8900: 0.82282317\n",
      "discriminator loss at step 9000: 0.65824246\n",
      "adversarial loss at step 9000: 0.73314583\n",
      "discriminator loss at step 9100: 0.70314455\n",
      "adversarial loss at step 9100: 0.8917637\n",
      "discriminator loss at step 9200: 0.6900748\n",
      "adversarial loss at step 9200: 0.760982\n",
      "discriminator loss at step 9300: 0.6819664\n",
      "adversarial loss at step 9300: 0.8290081\n",
      "discriminator loss at step 9400: 0.69244146\n",
      "adversarial loss at step 9400: 0.7609628\n",
      "discriminator loss at step 9500: 0.7113998\n",
      "adversarial loss at step 9500: 0.8205409\n",
      "discriminator loss at step 9600: 0.6778861\n",
      "adversarial loss at step 9600: 0.76260155\n",
      "discriminator loss at step 9700: 0.6774978\n",
      "adversarial loss at step 9700: 0.8842228\n",
      "discriminator loss at step 9800: 0.6778624\n",
      "adversarial loss at step 9800: 0.8962188\n"
     ]
    },
    {
     "name": "stdout",
     "output_type": "stream",
     "text": [
      "discriminator loss at step 9900: 0.711139\n",
      "adversarial loss at step 9900: 0.8152606\n"
     ]
    }
   ],
   "source": [
    "import os\n",
    "from keras.preprocessing import image\n",
    "\n",
    "# Load CIFAR10 data\n",
    "(x_train, y_train), (_, _) = keras.datasets.cifar10.load_data()\n",
    "\n",
    "# Select frog images (class 6)\n",
    "x_train = x_train[y_train.flatten() == 6]\n",
    "\n",
    "# Normalize data\n",
    "x_train = x_train.reshape(\n",
    "    (x_train.shape[0],) + (height, width, channels)).astype('float32') / 255.\n",
    "\n",
    "iterations = 10000\n",
    "batch_size = 20\n",
    "save_dir = './data'\n",
    "\n",
    "# Start training loop\n",
    "start = 0\n",
    "for step in range(iterations):\n",
    "    # Sample random points in the latent space\n",
    "    random_latent_vectors = np.random.normal(size=(batch_size, latent_dim))\n",
    "\n",
    "    # Decode them to fake images\n",
    "    generated_images = generator.predict(random_latent_vectors)\n",
    "\n",
    "    # Combine them with real images\n",
    "    stop = start + batch_size\n",
    "    real_images = x_train[start: stop]\n",
    "    combined_images = np.concatenate([generated_images, real_images])\n",
    "\n",
    "    # Assemble labels discriminating real from fake images\n",
    "    labels = np.concatenate([np.ones((batch_size, 1)),\n",
    "                             np.zeros((batch_size, 1))])\n",
    "    # Add random noise to the labels - important trick!\n",
    "    labels += 0.05 * np.random.random(labels.shape)\n",
    "\n",
    "    # Train the discriminator\n",
    "    d_loss = discriminator.train_on_batch(combined_images, labels)\n",
    "\n",
    "    # sample random points in the latent space\n",
    "    random_latent_vectors = np.random.normal(size=(batch_size, latent_dim))\n",
    "\n",
    "    # Assemble labels that say \"all real images\"\n",
    "    misleading_targets = np.zeros((batch_size, 1))\n",
    "\n",
    "    # Train the generator (via the gan model,\n",
    "    # where the discriminator weights are frozen)\n",
    "    a_loss = gan.train_on_batch(random_latent_vectors, misleading_targets)\n",
    "    \n",
    "    start += batch_size\n",
    "    if start > len(x_train) - batch_size:\n",
    "        start = 0\n",
    "\n",
    "    # Occasionally save / plot\n",
    "    if step % 100 == 0:\n",
    "        # Save model weights\n",
    "        gan.save_weights(os.path.join(save_dir, 'gan.h5'))\n",
    "\n",
    "        # Print metrics\n",
    "        print('discriminator loss at step %s: %s' % (step, d_loss))\n",
    "        print('adversarial loss at step %s: %s' % (step, a_loss))\n",
    "\n",
    "        # Save one generated image\n",
    "        img = image.array_to_img(generated_images[0] * 255., scale=False)\n",
    "        img.save(os.path.join(save_dir, 'generated_frog' + str(step) + '.png'))\n",
    "\n",
    "        # Save one real image, for comparison\n",
    "        img = image.array_to_img(real_images[0] * 255., scale=False)\n",
    "        img.save(os.path.join(save_dir, 'real_frog' + str(step) + '.png'))"
   ]
  },
  {
   "cell_type": "markdown",
   "metadata": {
    "collapsed": true
   },
   "source": [
    "Let's display a few of our fake images:"
   ]
  },
  {
   "cell_type": "code",
   "execution_count": 5,
   "metadata": {
    "scrolled": false
   },
   "outputs": [
    {
     "data": {
      "image/png": "[encoded data removed]",
      "text/plain": [
       "<Figure size 432x288 with 1 Axes>"
      ]
     },
     "metadata": {
      "needs_background": "light"
     },
     "output_type": "display_data"
    },
    {
     "data": {
      "image/png": "[encoded data removed]",
      "text/plain": [
       "<Figure size 432x288 with 1 Axes>"
      ]
     },
     "metadata": {
      "needs_background": "light"
     },
     "output_type": "display_data"
    },
    {
     "data": {
      "image/png": "[encoded data removed]",
      "text/plain": [
       "<Figure size 432x288 with 1 Axes>"
      ]
     },
     "metadata": {
      "needs_background": "light"
     },
     "output_type": "display_data"
    },
    {
     "data": {
      "image/png": "[encoded data removed]",
      "text/plain": [
       "<Figure size 432x288 with 1 Axes>"
      ]
     },
     "metadata": {
      "needs_background": "light"
     },
     "output_type": "display_data"
    },
    {
     "data": {
      "image/png": "[encoded data removed]",
      "text/plain": [
       "<Figure size 432x288 with 1 Axes>"
      ]
     },
     "metadata": {
      "needs_background": "light"
     },
     "output_type": "display_data"
    },
    {
     "data": {
      "image/png": "[encoded data removed]",
      "text/plain": [
       "<Figure size 432x288 with 1 Axes>"
      ]
     },
     "metadata": {
      "needs_background": "light"
     },
     "output_type": "display_data"
    },
    {
     "data": {
      "image/png": "[encoded data removed]",
      "text/plain": [
       "<Figure size 432x288 with 1 Axes>"
      ]
     },
     "metadata": {
      "needs_background": "light"
     },
     "output_type": "display_data"
    },
    {
     "data": {
      "image/png": "[encoded data removed]",
      "text/plain": [
       "<Figure size 432x288 with 1 Axes>"
      ]
     },
     "metadata": {
      "needs_background": "light"
     },
     "output_type": "display_data"
    },
    {
     "data": {
      "image/png": "[encoded data removed]",
      "text/plain": [
       "<Figure size 432x288 with 1 Axes>"
      ]
     },
     "metadata": {
      "needs_background": "light"
     },
     "output_type": "display_data"
    },
    {
     "data": {
      "image/png": "[encoded data removed]",
      "text/plain": [
       "<Figure size 432x288 with 1 Axes>"
      ]
     },
     "metadata": {
      "needs_background": "light"
     },
     "output_type": "display_data"
    }
   ],
   "source": [
    "import matplotlib.pyplot as plt\n",
    "\n",
    "# Sample random points in the latent space\n",
    "random_latent_vectors = np.random.normal(size=(10, latent_dim))\n",
    "\n",
    "# Decode them to fake images\n",
    "generated_images = generator.predict(random_latent_vectors)\n",
    "\n",
    "for i in range(generated_images.shape[0]):\n",
    "    img = image.array_to_img(generated_images[i] * 255., scale=False)\n",
    "    plt.figure()\n",
    "    plt.imshow(img)\n",
    "    \n",
    "plt.show()"
   ]
  },
  {
   "cell_type": "markdown",
   "metadata": {},
   "source": [
    "Froggy with some pixellated artifacts."
   ]
  }
 ],
 "metadata": {
  "kernelspec": {
   "display_name": "Python 3",
   "language": "python",
   "name": "python3"
  },
  "language_info": {
   "codemirror_mode": {
    "name": "ipython",
    "version": 3
   },
   "file_extension": ".py",
   "mimetype": "text/x-python",
   "name": "python",
   "nbconvert_exporter": "python",
   "pygments_lexer": "ipython3",
   "version": "3.6.10"
  }
 },
 "nbformat": 4,
 "nbformat_minor": 2
}
