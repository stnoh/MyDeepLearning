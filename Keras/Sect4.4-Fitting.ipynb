{
 "cells": [
  {
   "cell_type": "markdown",
   "metadata": {},
   "source": [
    "# Section 4.4 過小学習(underfitting)と過剰学習(overfitting)\n",
    "\n",
    "- 基本的に，[\"Deep Learning with Python\"](https://www.amazon.com/Deep-Learning-Python-Francois-Chollet/dp/1617294438/)のSection 2.1(104-110ページ)を元にしている．  \n",
    "- [原本のコード](https://github.com/fchollet/deep-learning-with-python-notebooks/blob/master/4.4-overfitting-and-underfitting.ipynb)も入手可能であるが，それを解説を兼ねて多少改編している．  \n",
    "- 恐らく，**Sect4.5と共にこの本を通じて最も重要な部分だと思われる．**  "
   ]
  },
  {
   "cell_type": "markdown",
   "metadata": {},
   "source": [
    "- 過小学習(underfitting)と過剰学習(overfitting)をどう取り扱うのかを熟知するのは機械学習で重要なことである．  \n",
    "- 機械学習は基本的に最適化(*optimization*)と一般化(*generalization*)の良い釣り合いと言える．\n",
    "  + 最適化とは，モデルを訓練データを最もよく説明できるように合わせることを示す．  \n",
    "  + 一般化とは，まだ遭遇していないデータも説明できる能力を示す.  \n",
    "  + 良い一般化を達成することが最終目標であるが，この一般化を直接コントロールできないのが難点である．  "
   ]
  },
  {
   "cell_type": "markdown",
   "metadata": {},
   "source": [
    "学習過程を通じてみれば，次のような流れになる:  \n",
    "\n",
    "1. 学習の初期段階では，最適化と一般化両方が同時に働く．訓練データに対して学習を進め損失関数が減れば，テストデータについても同様に損失関数の減少が見られる．この段階は**過小学習**状態とも呼ばれる．ネットワークはまだ訓練データの全てのパターンのモデル化を達成していない．  \n",
    "2. 反復数が増えるに連れ，一般化が段々効かなくなり，検証の尺度も段々横這いなる．  \n",
    "3. その後，検証尺度が段々悪化されていく．つまり，モデルは**過剰学習**状態になっていく．この段階になると，訓練データに適応しすぎてしまい，新しく入ってくるデータに対応できなくなる．  "
   ]
  },
  {
   "cell_type": "code",
   "execution_count": 1,
   "metadata": {},
   "outputs": [
    {
     "name": "stderr",
     "output_type": "stream",
     "text": [
      "Using TensorFlow backend.\n"
     ]
    }
   ],
   "source": [
    "from keras.datasets import imdb\n",
    "import numpy as np\n",
    "\n",
    "# modify the default parameters of np.load\n",
    "from pkg_resources import parse_version\n",
    "\n",
    "## we need small modification to handle old-pickled data\n",
    "np_pickle = parse_version(np.__version__) < parse_version('1.17.0')\n",
    "if np_pickle:\n",
    "    np_load_old = np.load\n",
    "    np.load = lambda *a,**k: np_load_old(*a, allow_pickle=True, **k)\n",
    "\n",
    "(train_data, train_labels), (test_data, test_labels) = imdb.load_data(num_words=10000) \n",
    "\n",
    "if np_pickle:\n",
    "    np.load = np_load_old\n",
    "\n",
    "def vectorize_sequences(sequences, dimension=10000):\n",
    "    # Create an all-zero matrix of shape (len(sequences), dimension)\n",
    "    results = np.zeros((len(sequences), dimension))\n",
    "    for i, sequence in enumerate(sequences):\n",
    "        results[i, sequence] = 1.  # set specific indices of results[i] to 1s\n",
    "    return results\n",
    "\n",
    "# x: vectorized training/test data\n",
    "x_train = vectorize_sequences(train_data)\n",
    "x_test  = vectorize_sequences(test_data)\n",
    "\n",
    "# y: vectorized labels\n",
    "y_train = np.asarray(train_labels).astype('float32')\n",
    "y_test  = np.asarray(test_labels).astype('float32')"
   ]
  },
  {
   "cell_type": "markdown",
   "metadata": {},
   "source": [
    "## 4.4.1 Reducing the network's size\n",
    "\n",
    "- 過剰学習を防ぐ最も単純な方法は，モデルのサイズ(=学習可能パラメータ数)を減らすことである．  \n",
    "- 一般的に，深層学習(deep learning)は訓練データの最適化に長けているが，本当のチャレンジは一般化である．例えば，MNIST訓練セットは500,000パラメータさえあれば辞書が作れるが，この辞書は新しく入ってきた入力データには何の役にも立たない．  \n",
    "\n",
    "**[in progress...]**"
   ]
  },
  {
   "cell_type": "markdown",
   "metadata": {},
   "source": [
    "モデルの大きさと一般化への影響を調べるために，単純な実験を見てみよう．  \n",
    "\n",
    "- 基本構造: 16ノードのfully connected層で構成されたネットワーク  \n",
    "- 比較対象: 4ノードのfully connected層で構成されたネットワーク  "
   ]
  },
  {
   "cell_type": "code",
   "execution_count": 2,
   "metadata": {},
   "outputs": [],
   "source": [
    "from keras import models\n",
    "from keras import layers"
   ]
  },
  {
   "cell_type": "code",
   "execution_count": 3,
   "metadata": {},
   "outputs": [],
   "source": [
    "original_model = models.Sequential()\n",
    "original_model.add(layers.Dense(16, activation='relu', input_shape=(10000,)))\n",
    "original_model.add(layers.Dense(16, activation='relu'))\n",
    "original_model.add(layers.Dense(1, activation='sigmoid'))\n",
    "\n",
    "original_model.compile(optimizer='rmsprop',\n",
    "                       loss='binary_crossentropy',\n",
    "                       metrics=['acc'])"
   ]
  },
  {
   "cell_type": "code",
   "execution_count": 4,
   "metadata": {},
   "outputs": [],
   "source": [
    "smaller_model = models.Sequential()\n",
    "smaller_model.add(layers.Dense(4, activation='relu', input_shape=(10000,)))\n",
    "smaller_model.add(layers.Dense(4, activation='relu'))\n",
    "smaller_model.add(layers.Dense(1, activation='sigmoid'))\n",
    "\n",
    "smaller_model.compile(optimizer='rmsprop',\n",
    "                      loss='binary_crossentropy',\n",
    "                      metrics=['acc'])"
   ]
  },
  {
   "cell_type": "markdown",
   "metadata": {},
   "source": [
    "()"
   ]
  },
  {
   "cell_type": "code",
   "execution_count": 5,
   "metadata": {
    "scrolled": false
   },
   "outputs": [
    {
     "name": "stdout",
     "output_type": "stream",
     "text": [
      "Train on 25000 samples, validate on 25000 samples\n",
      "Epoch 1/20\n",
      " - 4s - loss: 0.4466 - acc: 0.8207 - val_loss: 0.3329 - val_acc: 0.8812\n",
      "Epoch 2/20\n",
      " - 3s - loss: 0.2564 - acc: 0.9102 - val_loss: 0.3118 - val_acc: 0.8732\n",
      "Epoch 3/20\n",
      " - 3s - loss: 0.1967 - acc: 0.9288 - val_loss: 0.2817 - val_acc: 0.8875\n",
      "Epoch 4/20\n",
      " - 3s - loss: 0.1646 - acc: 0.9408 - val_loss: 0.3021 - val_acc: 0.8804\n",
      "Epoch 5/20\n",
      " - 3s - loss: 0.1428 - acc: 0.9497 - val_loss: 0.3324 - val_acc: 0.8737\n",
      "Epoch 6/20\n",
      " - 3s - loss: 0.1246 - acc: 0.9554 - val_loss: 0.3396 - val_acc: 0.8742\n",
      "Epoch 7/20\n",
      " - 3s - loss: 0.1096 - acc: 0.9620 - val_loss: 0.3594 - val_acc: 0.8723\n",
      "Epoch 8/20\n",
      " - 3s - loss: 0.0961 - acc: 0.9672 - val_loss: 0.3837 - val_acc: 0.8700\n",
      "Epoch 9/20\n",
      " - 3s - loss: 0.0837 - acc: 0.9728 - val_loss: 0.4138 - val_acc: 0.8674\n",
      "Epoch 10/20\n",
      " - 3s - loss: 0.0728 - acc: 0.9767 - val_loss: 0.4406 - val_acc: 0.8630\n",
      "Epoch 11/20\n",
      " - 3s - loss: 0.0611 - acc: 0.9820 - val_loss: 0.5050 - val_acc: 0.8531\n",
      "Epoch 12/20\n",
      " - 3s - loss: 0.0534 - acc: 0.9841 - val_loss: 0.5657 - val_acc: 0.8478\n",
      "Epoch 13/20\n",
      " - 3s - loss: 0.0453 - acc: 0.9861 - val_loss: 0.5469 - val_acc: 0.8558\n",
      "Epoch 14/20\n",
      " - 3s - loss: 0.0399 - acc: 0.9878 - val_loss: 0.5799 - val_acc: 0.8539\n",
      "Epoch 15/20\n",
      " - 3s - loss: 0.0318 - acc: 0.9913 - val_loss: 0.6144 - val_acc: 0.8530\n",
      "Epoch 16/20\n",
      " - 3s - loss: 0.0262 - acc: 0.9936 - val_loss: 0.6482 - val_acc: 0.8524\n",
      "Epoch 17/20\n",
      " - 3s - loss: 0.0214 - acc: 0.9955 - val_loss: 0.7020 - val_acc: 0.8497\n",
      "Epoch 18/20\n",
      " - 3s - loss: 0.0200 - acc: 0.9942 - val_loss: 0.7316 - val_acc: 0.8494\n",
      "Epoch 19/20\n",
      " - 3s - loss: 0.0155 - acc: 0.9963 - val_loss: 0.7685 - val_acc: 0.8495\n",
      "Epoch 20/20\n",
      " - 3s - loss: 0.0115 - acc: 0.9976 - val_loss: 0.8168 - val_acc: 0.8466\n"
     ]
    }
   ],
   "source": [
    "original_hist = original_model.fit(x_train, y_train,\n",
    "                                   epochs=20,\n",
    "                                   batch_size=512,\n",
    "                                   validation_data=(x_test, y_test), verbose=2)"
   ]
  },
  {
   "cell_type": "code",
   "execution_count": 6,
   "metadata": {},
   "outputs": [
    {
     "name": "stdout",
     "output_type": "stream",
     "text": [
      "Train on 25000 samples, validate on 25000 samples\n",
      "Epoch 1/20\n",
      " - 4s - loss: 0.5957 - acc: 0.7747 - val_loss: 0.5055 - val_acc: 0.8464\n",
      "Epoch 2/20\n",
      " - 3s - loss: 0.4195 - acc: 0.8809 - val_loss: 0.3894 - val_acc: 0.8748\n",
      "Epoch 3/20\n",
      " - 3s - loss: 0.3145 - acc: 0.9040 - val_loss: 0.3246 - val_acc: 0.8844\n",
      "Epoch 4/20\n",
      " - 3s - loss: 0.2531 - acc: 0.9164 - val_loss: 0.2967 - val_acc: 0.8855\n",
      "Epoch 5/20\n",
      " - 3s - loss: 0.2157 - acc: 0.9271 - val_loss: 0.2816 - val_acc: 0.8900\n",
      "Epoch 6/20\n",
      " - 3s - loss: 0.1898 - acc: 0.9359 - val_loss: 0.2808 - val_acc: 0.8880\n",
      "Epoch 7/20\n",
      " - 4s - loss: 0.1700 - acc: 0.9430 - val_loss: 0.2816 - val_acc: 0.8876\n",
      "Epoch 8/20\n",
      " - 4s - loss: 0.1538 - acc: 0.9489 - val_loss: 0.2872 - val_acc: 0.8876\n",
      "Epoch 9/20\n",
      " - 4s - loss: 0.1409 - acc: 0.9527 - val_loss: 0.2958 - val_acc: 0.8850\n",
      "Epoch 10/20\n",
      " - 4s - loss: 0.1297 - acc: 0.9561 - val_loss: 0.3067 - val_acc: 0.8814\n",
      "Epoch 11/20\n",
      " - 4s - loss: 0.1198 - acc: 0.9598 - val_loss: 0.3188 - val_acc: 0.8796\n",
      "Epoch 12/20\n",
      " - 4s - loss: 0.1112 - acc: 0.9646 - val_loss: 0.3316 - val_acc: 0.8770\n",
      "Epoch 13/20\n",
      " - 3s - loss: 0.1030 - acc: 0.9674 - val_loss: 0.3480 - val_acc: 0.8747\n",
      "Epoch 14/20\n",
      " - 3s - loss: 0.0958 - acc: 0.9697 - val_loss: 0.3615 - val_acc: 0.8736\n",
      "Epoch 15/20\n",
      " - 3s - loss: 0.0881 - acc: 0.9734 - val_loss: 0.3777 - val_acc: 0.8720\n",
      "Epoch 16/20\n",
      " - 3s - loss: 0.0826 - acc: 0.9747 - val_loss: 0.3949 - val_acc: 0.8688\n",
      "Epoch 17/20\n",
      " - 3s - loss: 0.0763 - acc: 0.9775 - val_loss: 0.4124 - val_acc: 0.8674\n",
      "Epoch 18/20\n",
      " - 3s - loss: 0.0714 - acc: 0.9794 - val_loss: 0.4285 - val_acc: 0.8656\n",
      "Epoch 19/20\n",
      " - 3s - loss: 0.0661 - acc: 0.9818 - val_loss: 0.4475 - val_acc: 0.8640\n",
      "Epoch 20/20\n",
      " - 3s - loss: 0.0613 - acc: 0.9834 - val_loss: 0.4671 - val_acc: 0.8630\n"
     ]
    }
   ],
   "source": [
    "smaller_model_hist = smaller_model.fit(x_train, y_train,\n",
    "                                       epochs=20,\n",
    "                                       batch_size=512,\n",
    "                                       validation_data=(x_test, y_test), verbose=2)"
   ]
  },
  {
   "cell_type": "markdown",
   "metadata": {},
   "source": [
    "()"
   ]
  },
  {
   "cell_type": "code",
   "execution_count": 7,
   "metadata": {},
   "outputs": [],
   "source": [
    "epochs = range(1, 21)\n",
    "original_val_loss = original_hist.history['val_loss']\n",
    "smaller_model_val_loss = smaller_model_hist.history['val_loss']"
   ]
  },
  {
   "cell_type": "code",
   "execution_count": 8,
   "metadata": {},
   "outputs": [
    {
     "data": {
      "image/png": "[encoded data removed]",
      "text/plain": [
       "<Figure size 432x288 with 1 Axes>"
      ]
     },
     "metadata": {
      "needs_background": "light"
     },
     "output_type": "display_data"
    }
   ],
   "source": [
    "import matplotlib.pyplot as plt\n",
    "\n",
    "plt.plot(epochs, original_val_loss     , 'b+', label='Original model')\n",
    "plt.plot(epochs, smaller_model_val_loss, 'bo', label='Smaller model')\n",
    "\n",
    "plt.xlabel('Epochs')\n",
    "plt.xticks(epochs[::2])\n",
    "plt.ylabel('Validation loss')\n",
    "\n",
    "plt.legend()\n",
    "plt.show()"
   ]
  },
  {
   "cell_type": "markdown",
   "metadata": {},
   "source": [
    "()"
   ]
  },
  {
   "cell_type": "code",
   "execution_count": 9,
   "metadata": {},
   "outputs": [],
   "source": [
    "bigger_model = models.Sequential()\n",
    "bigger_model.add(layers.Dense(512, activation='relu', input_shape=(10000,)))\n",
    "bigger_model.add(layers.Dense(512, activation='relu'))\n",
    "bigger_model.add(layers.Dense(1, activation='sigmoid'))\n",
    "\n",
    "bigger_model.compile(optimizer='rmsprop',\n",
    "                     loss='binary_crossentropy',\n",
    "                     metrics=['acc'])"
   ]
  },
  {
   "cell_type": "code",
   "execution_count": 10,
   "metadata": {},
   "outputs": [
    {
     "name": "stdout",
     "output_type": "stream",
     "text": [
      "Train on 25000 samples, validate on 25000 samples\n",
      "Epoch 1/20\n",
      " - 4s - loss: 0.4760 - acc: 0.8104 - val_loss: 0.3218 - val_acc: 0.8616\n",
      "Epoch 2/20\n",
      " - 4s - loss: 0.2241 - acc: 0.9120 - val_loss: 0.2756 - val_acc: 0.8874\n",
      "Epoch 3/20\n",
      " - 4s - loss: 0.1223 - acc: 0.9556 - val_loss: 0.3555 - val_acc: 0.8778\n",
      "Epoch 4/20\n",
      " - 4s - loss: 0.0834 - acc: 0.9740 - val_loss: 0.3683 - val_acc: 0.8826\n",
      "Epoch 5/20\n",
      " - 4s - loss: 0.0547 - acc: 0.9869 - val_loss: 0.4380 - val_acc: 0.8823\n",
      "Epoch 6/20\n",
      " - 4s - loss: 0.0027 - acc: 0.9998 - val_loss: 0.7295 - val_acc: 0.8796\n",
      "Epoch 7/20\n",
      " - 4s - loss: 0.1090 - acc: 0.9894 - val_loss: 0.5630 - val_acc: 0.8800\n",
      "Epoch 8/20\n",
      " - 4s - loss: 4.6305e-04 - acc: 1.0000 - val_loss: 0.7946 - val_acc: 0.8796\n",
      "Epoch 9/20\n",
      " - 4s - loss: 5.7176e-05 - acc: 1.0000 - val_loss: 0.9859 - val_acc: 0.8806\n",
      "Epoch 10/20\n",
      " - 4s - loss: 0.1157 - acc: 0.9932 - val_loss: 3.0263 - val_acc: 0.7868\n",
      "Epoch 11/20\n",
      " - 4s - loss: 0.0144 - acc: 0.9978 - val_loss: 1.0262 - val_acc: 0.8608\n",
      "Epoch 12/20\n",
      " - 4s - loss: 2.2718e-05 - acc: 1.0000 - val_loss: 0.9805 - val_acc: 0.8774\n",
      "Epoch 13/20\n",
      " - 4s - loss: 0.1344 - acc: 0.9899 - val_loss: 0.7003 - val_acc: 0.8766\n",
      "Epoch 14/20\n",
      " - 4s - loss: 5.7771e-05 - acc: 1.0000 - val_loss: 0.8230 - val_acc: 0.8776\n",
      "Epoch 15/20\n",
      " - 4s - loss: 1.2947e-05 - acc: 1.0000 - val_loss: 0.9472 - val_acc: 0.8792\n",
      "Epoch 16/20\n",
      " - 4s - loss: 2.8633e-06 - acc: 1.0000 - val_loss: 1.0934 - val_acc: 0.8792\n",
      "Epoch 17/20\n",
      " - 4s - loss: 5.6654e-07 - acc: 1.0000 - val_loss: 1.2605 - val_acc: 0.8780\n",
      "Epoch 18/20\n",
      " - 4s - loss: 1.2054e-07 - acc: 1.0000 - val_loss: 1.3627 - val_acc: 0.8797\n",
      "Epoch 19/20\n",
      " - 4s - loss: 3.3728e-08 - acc: 1.0000 - val_loss: 1.4745 - val_acc: 0.8790\n",
      "Epoch 20/20\n",
      " - 4s - loss: 1.6480e-08 - acc: 1.0000 - val_loss: 1.5173 - val_acc: 0.8787\n"
     ]
    }
   ],
   "source": [
    "bigger_model_hist = bigger_model.fit(x_train, y_train,\n",
    "                                     epochs=20,\n",
    "                                     batch_size=512,\n",
    "                                     validation_data=(x_test, y_test), verbose=2)"
   ]
  },
  {
   "cell_type": "markdown",
   "metadata": {},
   "source": [
    "()"
   ]
  },
  {
   "cell_type": "code",
   "execution_count": 11,
   "metadata": {},
   "outputs": [
    {
     "data": {
      "image/png": "[encoded data removed]",
      "text/plain": [
       "<Figure size 432x288 with 1 Axes>"
      ]
     },
     "metadata": {
      "needs_background": "light"
     },
     "output_type": "display_data"
    }
   ],
   "source": [
    "bigger_model_val_loss = bigger_model_hist.history['val_loss']\n",
    "\n",
    "plt.plot(epochs, original_val_loss    , 'b+', label='Original model')\n",
    "plt.plot(epochs, bigger_model_val_loss, 'bo', label='Bigger model')\n",
    "\n",
    "plt.xlabel('Epochs')\n",
    "plt.xticks(epochs[::2])\n",
    "plt.ylabel('Validation loss')\n",
    "\n",
    "plt.legend()\n",
    "plt.show()"
   ]
  },
  {
   "cell_type": "markdown",
   "metadata": {},
   "source": [
    "()"
   ]
  },
  {
   "cell_type": "code",
   "execution_count": 12,
   "metadata": {},
   "outputs": [
    {
     "data": {
      "image/png": "[encoded data removed]",
      "text/plain": [
       "<Figure size 432x288 with 1 Axes>"
      ]
     },
     "metadata": {
      "needs_background": "light"
     },
     "output_type": "display_data"
    }
   ],
   "source": [
    "original_train_loss = original_hist.history['loss']\n",
    "bigger_model_train_loss = bigger_model_hist.history['loss']\n",
    "\n",
    "plt.plot(epochs, original_train_loss    , 'b+', label='Original model')\n",
    "plt.plot(epochs, bigger_model_train_loss, 'bo', label='Bigger model')\n",
    "\n",
    "plt.xlabel('Epochs')\n",
    "plt.xticks(epochs[::2])\n",
    "plt.ylabel('Training loss')\n",
    "\n",
    "plt.legend()\n",
    "plt.show()"
   ]
  },
  {
   "cell_type": "markdown",
   "metadata": {},
   "source": [
    "()"
   ]
  },
  {
   "cell_type": "markdown",
   "metadata": {},
   "source": [
    "## 4.4.2 Adding weight regularization"
   ]
  },
  {
   "cell_type": "code",
   "execution_count": 13,
   "metadata": {},
   "outputs": [],
   "source": [
    "from keras import regularizers\n",
    "\n",
    "l2_model = models.Sequential()\n",
    "l2_model.add(layers.Dense(16, kernel_regularizer=regularizers.l2(0.001),\n",
    "                          activation='relu', input_shape=(10000,)))\n",
    "l2_model.add(layers.Dense(16, kernel_regularizer=regularizers.l2(0.001),\n",
    "                          activation='relu'))\n",
    "l2_model.add(layers.Dense(1, activation='sigmoid'))"
   ]
  },
  {
   "cell_type": "code",
   "execution_count": 14,
   "metadata": {},
   "outputs": [],
   "source": [
    "l2_model.compile(optimizer='rmsprop',\n",
    "                 loss='binary_crossentropy',\n",
    "                 metrics=['acc'])"
   ]
  },
  {
   "cell_type": "markdown",
   "metadata": {},
   "source": [
    "()"
   ]
  },
  {
   "cell_type": "code",
   "execution_count": 15,
   "metadata": {},
   "outputs": [
    {
     "name": "stdout",
     "output_type": "stream",
     "text": [
      "Train on 25000 samples, validate on 25000 samples\n",
      "Epoch 1/20\n",
      "25000/25000 [==============================] - 4s 142us/step - loss: 0.4855 - acc: 0.8241 - val_loss: 0.3798 - val_acc: 0.8764\n",
      "Epoch 2/20\n",
      "25000/25000 [==============================] - 3s 138us/step - loss: 0.3149 - acc: 0.9055 - val_loss: 0.3364 - val_acc: 0.8863\n",
      "Epoch 3/20\n",
      "25000/25000 [==============================] - 3s 138us/step - loss: 0.2712 - acc: 0.9184 - val_loss: 0.3566 - val_acc: 0.8758\n",
      "Epoch 4/20\n",
      "25000/25000 [==============================] - 3s 138us/step - loss: 0.2484 - acc: 0.9291 - val_loss: 0.3313 - val_acc: 0.8871\n",
      "Epoch 5/20\n",
      "25000/25000 [==============================] - 3s 139us/step - loss: 0.2372 - acc: 0.9331 - val_loss: 0.3490 - val_acc: 0.8815\n",
      "Epoch 6/20\n",
      "25000/25000 [==============================] - 3s 139us/step - loss: 0.2264 - acc: 0.9386 - val_loss: 0.3664 - val_acc: 0.8756\n",
      "Epoch 7/20\n",
      "25000/25000 [==============================] - 4s 140us/step - loss: 0.2221 - acc: 0.9392 - val_loss: 0.3543 - val_acc: 0.8813\n",
      "Epoch 8/20\n",
      "25000/25000 [==============================] - 4s 140us/step - loss: 0.2154 - acc: 0.9418 - val_loss: 0.3662 - val_acc: 0.8770\n",
      "Epoch 9/20\n",
      "25000/25000 [==============================] - 3s 139us/step - loss: 0.2108 - acc: 0.9431 - val_loss: 0.3670 - val_acc: 0.8775\n",
      "Epoch 10/20\n",
      "25000/25000 [==============================] - 3s 139us/step - loss: 0.2070 - acc: 0.9446 - val_loss: 0.4805 - val_acc: 0.8419\n",
      "Epoch 11/20\n",
      "25000/25000 [==============================] - 3s 140us/step - loss: 0.2043 - acc: 0.9452 - val_loss: 0.3794 - val_acc: 0.8748\n",
      "Epoch 12/20\n",
      "25000/25000 [==============================] - 3s 139us/step - loss: 0.2040 - acc: 0.9451 - val_loss: 0.3866 - val_acc: 0.8735\n",
      "Epoch 13/20\n",
      "25000/25000 [==============================] - 3s 139us/step - loss: 0.1988 - acc: 0.9488 - val_loss: 0.3980 - val_acc: 0.8712\n",
      "Epoch 14/20\n",
      "25000/25000 [==============================] - 3s 139us/step - loss: 0.1964 - acc: 0.9486 - val_loss: 0.4064 - val_acc: 0.8690\n",
      "Epoch 15/20\n",
      "25000/25000 [==============================] - 3s 139us/step - loss: 0.1884 - acc: 0.9515 - val_loss: 0.4002 - val_acc: 0.8713\n",
      "Epoch 16/20\n",
      "25000/25000 [==============================] - 3s 139us/step - loss: 0.1937 - acc: 0.9479 - val_loss: 0.4113 - val_acc: 0.8692\n",
      "Epoch 17/20\n",
      "25000/25000 [==============================] - 3s 139us/step - loss: 0.1900 - acc: 0.9504 - val_loss: 0.4168 - val_acc: 0.8694\n",
      "Epoch 18/20\n",
      "25000/25000 [==============================] - 3s 139us/step - loss: 0.1822 - acc: 0.9550 - val_loss: 0.4564 - val_acc: 0.8596\n",
      "Epoch 19/20\n",
      "25000/25000 [==============================] - 3s 139us/step - loss: 0.1847 - acc: 0.9518 - val_loss: 0.4217 - val_acc: 0.8678\n",
      "Epoch 20/20\n",
      "25000/25000 [==============================] - 3s 139us/step - loss: 0.1855 - acc: 0.9518 - val_loss: 0.4234 - val_acc: 0.8678\n"
     ]
    }
   ],
   "source": [
    "l2_model_hist = l2_model.fit(x_train, y_train,\n",
    "                             epochs=20,\n",
    "                             batch_size=512,\n",
    "                             validation_data=(x_test, y_test))"
   ]
  },
  {
   "cell_type": "code",
   "execution_count": 16,
   "metadata": {},
   "outputs": [
    {
     "data": {
      "image/png": "[encoded data removed]",
      "text/plain": [
       "<Figure size 432x288 with 1 Axes>"
      ]
     },
     "metadata": {
      "needs_background": "light"
     },
     "output_type": "display_data"
    }
   ],
   "source": [
    "l2_model_val_loss = l2_model_hist.history['val_loss']\n",
    "\n",
    "plt.plot(epochs, original_val_loss, 'b+', label='Original model')\n",
    "plt.plot(epochs, l2_model_val_loss, 'bo', label='L2-regularized model')\n",
    "\n",
    "plt.xlabel('Epochs')\n",
    "plt.xticks(epochs[::2])\n",
    "plt.ylabel('Validation loss')\n",
    "\n",
    "plt.legend()\n",
    "plt.show()"
   ]
  },
  {
   "cell_type": "markdown",
   "metadata": {},
   "source": [
    "()"
   ]
  },
  {
   "cell_type": "markdown",
   "metadata": {},
   "source": [
    "## 4.4.3 Adding dropout"
   ]
  },
  {
   "cell_type": "code",
   "execution_count": 17,
   "metadata": {},
   "outputs": [],
   "source": [
    "dpt_model = models.Sequential()\n",
    "dpt_model.add(layers.Dense(16, activation='relu', input_shape=(10000,)))\n",
    "dpt_model.add(layers.Dropout(0.5))\n",
    "dpt_model.add(layers.Dense(16, activation='relu'))\n",
    "dpt_model.add(layers.Dropout(0.5))\n",
    "dpt_model.add(layers.Dense(1, activation='sigmoid'))\n",
    "\n",
    "dpt_model.compile(optimizer='rmsprop',\n",
    "                  loss='binary_crossentropy',\n",
    "                  metrics=['acc'])"
   ]
  },
  {
   "cell_type": "code",
   "execution_count": 18,
   "metadata": {},
   "outputs": [
    {
     "name": "stdout",
     "output_type": "stream",
     "text": [
      "Train on 25000 samples, validate on 25000 samples\n",
      "Epoch 1/20\n",
      " - 4s - loss: 0.5925 - acc: 0.6868 - val_loss: 0.4571 - val_acc: 0.8481\n",
      "Epoch 2/20\n",
      " - 3s - loss: 0.4522 - acc: 0.8156 - val_loss: 0.3625 - val_acc: 0.8758\n",
      "Epoch 3/20\n",
      " - 3s - loss: 0.3714 - acc: 0.8709 - val_loss: 0.3162 - val_acc: 0.8873\n",
      "Epoch 4/20\n",
      " - 3s - loss: 0.3250 - acc: 0.8944 - val_loss: 0.2945 - val_acc: 0.8911\n",
      "Epoch 5/20\n",
      " - 3s - loss: 0.2845 - acc: 0.9102 - val_loss: 0.2861 - val_acc: 0.8867\n",
      "Epoch 6/20\n",
      " - 3s - loss: 0.2497 - acc: 0.9220 - val_loss: 0.2990 - val_acc: 0.8876\n",
      "Epoch 7/20\n",
      " - 3s - loss: 0.2274 - acc: 0.9284 - val_loss: 0.3305 - val_acc: 0.8842\n",
      "Epoch 8/20\n",
      " - 3s - loss: 0.2104 - acc: 0.9326 - val_loss: 0.3098 - val_acc: 0.8806\n",
      "Epoch 9/20\n",
      " - 3s - loss: 0.1937 - acc: 0.9388 - val_loss: 0.3683 - val_acc: 0.8808\n",
      "Epoch 10/20\n",
      " - 3s - loss: 0.1780 - acc: 0.9457 - val_loss: 0.3729 - val_acc: 0.8811\n",
      "Epoch 11/20\n",
      " - 3s - loss: 0.1684 - acc: 0.9474 - val_loss: 0.3772 - val_acc: 0.8727\n",
      "Epoch 12/20\n",
      " - 3s - loss: 0.1570 - acc: 0.9520 - val_loss: 0.4186 - val_acc: 0.8804\n",
      "Epoch 13/20\n",
      " - 3s - loss: 0.1472 - acc: 0.9565 - val_loss: 0.4393 - val_acc: 0.8791\n",
      "Epoch 14/20\n",
      " - 3s - loss: 0.1358 - acc: 0.9584 - val_loss: 0.4737 - val_acc: 0.8774\n",
      "Epoch 15/20\n",
      " - 3s - loss: 0.1371 - acc: 0.9600 - val_loss: 0.4830 - val_acc: 0.8776\n",
      "Epoch 16/20\n",
      " - 3s - loss: 0.1237 - acc: 0.9638 - val_loss: 0.4758 - val_acc: 0.8717\n",
      "Epoch 17/20\n",
      " - 3s - loss: 0.1177 - acc: 0.9646 - val_loss: 0.5560 - val_acc: 0.8758\n",
      "Epoch 18/20\n",
      " - 3s - loss: 0.1147 - acc: 0.9657 - val_loss: 0.6062 - val_acc: 0.8741\n",
      "Epoch 19/20\n",
      " - 3s - loss: 0.1121 - acc: 0.9673 - val_loss: 0.6040 - val_acc: 0.8741\n",
      "Epoch 20/20\n",
      " - 3s - loss: 0.1046 - acc: 0.9702 - val_loss: 0.5811 - val_acc: 0.8727\n"
     ]
    }
   ],
   "source": [
    "dpt_model_hist = dpt_model.fit(x_train, y_train,\n",
    "                               epochs=20,\n",
    "                               batch_size=512,\n",
    "                               validation_data=(x_test, y_test), verbose=2)"
   ]
  },
  {
   "cell_type": "markdown",
   "metadata": {},
   "source": [
    "ドロップアウトを入れた結果は次のようになる:"
   ]
  },
  {
   "cell_type": "code",
   "execution_count": 19,
   "metadata": {},
   "outputs": [
    {
     "data": {
      "image/png": "[encoded data removed]",
      "text/plain": [
       "<Figure size 432x288 with 1 Axes>"
      ]
     },
     "metadata": {
      "needs_background": "light"
     },
     "output_type": "display_data"
    }
   ],
   "source": [
    "dpt_model_val_loss = dpt_model_hist.history['val_loss']\n",
    "\n",
    "plt.plot(epochs, original_val_loss , 'b+', label='Original model')\n",
    "plt.plot(epochs, dpt_model_val_loss, 'bo', label='Dropout-regularized model')\n",
    "\n",
    "plt.xlabel('Epochs')\n",
    "plt.xticks(epochs[::2])\n",
    "plt.ylabel('Validation loss')\n",
    "\n",
    "plt.legend()\n",
    "plt.show()"
   ]
  },
  {
   "cell_type": "markdown",
   "metadata": {},
   "source": [
    "(end)"
   ]
  }
 ],
 "metadata": {
  "kernelspec": {
   "display_name": "Python 3",
   "language": "python",
   "name": "python3"
  },
  "language_info": {
   "codemirror_mode": {
    "name": "ipython",
    "version": 3
   },
   "file_extension": ".py",
   "mimetype": "text/x-python",
   "name": "python",
   "nbconvert_exporter": "python",
   "pygments_lexer": "ipython3",
   "version": "3.6.10"
  }
 },
 "nbformat": 4,
 "nbformat_minor": 2
}
