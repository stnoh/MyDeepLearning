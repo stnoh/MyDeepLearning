{
 "cells": [
  {
   "cell_type": "markdown",
   "metadata": {},
   "source": [
    "# AutoEncoder (2) ConvNets\n",
    "\n",
    "- [L1aoXingyu@github]()の，[Conv2Dを使ったAutoEncoderの実装](https://github.com/L1aoXingyu/pytorch-beginner/blob/master/08-AutoEncoder/conv_autoencoder.py)に基づいている．  \n",
    "- 一部，自前環境のPyTorchで動作しない部分を修正しつつ，結果の可視化等の追加している．  "
   ]
  },
  {
   "cell_type": "code",
   "execution_count": 1,
   "metadata": {},
   "outputs": [],
   "source": [
    "import torch\n",
    "import os\n",
    "\n",
    "## create folder in advance\n",
    "folder = './data/dc_img'\n",
    "if not os.path.isdir(folder):\n",
    "    os.mkdir(folder)\n",
    "\n",
    "## set folder in advance\n",
    "model_path = './data/dc_autoencoder.pth'\n",
    "\n",
    "## set some constants for learning\n",
    "num_epochs = 100\n",
    "batch_size = 128\n",
    "learning_rate = 1e-3"
   ]
  },
  {
   "cell_type": "markdown",
   "metadata": {},
   "source": [
    "## (1) Prepare dataset: MNIST hand-written digits\n",
    "\n",
    "Almost same with the Simple encoder."
   ]
  },
  {
   "cell_type": "code",
   "execution_count": 2,
   "metadata": {},
   "outputs": [],
   "source": [
    "from torchvision.datasets import MNIST\n",
    "from torchvision import transforms\n",
    "\n",
    "## image to tensor\n",
    "img_transform = transforms.Compose([\n",
    "    transforms.ToTensor(),\n",
    "    transforms.Normalize([0.5], [0.5])\n",
    "])\n",
    "\n",
    "## tensor to image\n",
    "def to_img(x):\n",
    "    x = 0.5 * (x + 1)\n",
    "    x = x.clamp(0, 1)\n",
    "    x = x.view(x.size(0), 1, 28, 28)\n",
    "    return x\n",
    "\n",
    "## dataset with conversion\n",
    "dataset_train = MNIST('./data', train=True, download=True, transform=img_transform)"
   ]
  },
  {
   "cell_type": "code",
   "execution_count": 3,
   "metadata": {},
   "outputs": [],
   "source": [
    "from torch.utils.data import DataLoader\n",
    "\n",
    "dataloader = DataLoader(dataset_train, batch_size=batch_size, shuffle=True)"
   ]
  },
  {
   "cell_type": "markdown",
   "metadata": {},
   "source": [
    "## (2) Prepare model: simple autoencoder\n",
    "\n",
    "Convolutional AutoEncoder constructed by `Conv2d`.  "
   ]
  },
  {
   "cell_type": "code",
   "execution_count": 4,
   "metadata": {},
   "outputs": [],
   "source": [
    "from torch import nn\n",
    "\n",
    "class autoencoder(nn.Module):\n",
    "    def __init__(self):\n",
    "        super(autoencoder, self).__init__()\n",
    "        self.encoder = nn.Sequential(\n",
    "            nn.Conv2d(1, 16, 3, stride=3, padding=1),\n",
    "            nn.ReLU(True),\n",
    "            nn.MaxPool2d(2, stride=2),\n",
    "            nn.Conv2d(16, 8, 3, stride=2, padding=1),\n",
    "            nn.ReLU(True),\n",
    "            nn.MaxPool2d(2, stride=1)\n",
    "        )\n",
    "        self.decoder = nn.Sequential(\n",
    "            nn.ConvTranspose2d(8, 16, 3, stride=2),\n",
    "            nn.ReLU(True),\n",
    "            nn.ConvTranspose2d(16, 8, 5, stride=3, padding=1),\n",
    "            nn.ReLU(True),\n",
    "            nn.ConvTranspose2d(8, 1, 2, stride=2, padding=1),\n",
    "            nn.Tanh()\n",
    "        )\n",
    "\n",
    "    def forward(self, x):\n",
    "        x = self.encoder(x)\n",
    "        x = self.decoder(x)\n",
    "        return x"
   ]
  },
  {
   "cell_type": "code",
   "execution_count": 5,
   "metadata": {},
   "outputs": [],
   "source": [
    "## instantiate model\n",
    "model = autoencoder().cuda() ## send to GPU\n",
    "\n",
    "criterion = nn.MSELoss()\n",
    "optimizer = torch.optim.Adam(model.parameters(), lr=learning_rate,\n",
    "                             weight_decay=1e-5)"
   ]
  },
  {
   "cell_type": "code",
   "execution_count": 6,
   "metadata": {},
   "outputs": [
    {
     "name": "stdout",
     "output_type": "stream",
     "text": [
      "----------------------------------------------------------------\n",
      "        Layer (type)               Output Shape         Param #\n",
      "================================================================\n",
      "            Conv2d-1           [-1, 16, 10, 10]             160\n",
      "              ReLU-2           [-1, 16, 10, 10]               0\n",
      "         MaxPool2d-3             [-1, 16, 5, 5]               0\n",
      "            Conv2d-4              [-1, 8, 3, 3]           1,160\n",
      "              ReLU-5              [-1, 8, 3, 3]               0\n",
      "         MaxPool2d-6              [-1, 8, 2, 2]               0\n",
      "   ConvTranspose2d-7             [-1, 16, 5, 5]           1,168\n",
      "              ReLU-8             [-1, 16, 5, 5]               0\n",
      "   ConvTranspose2d-9            [-1, 8, 15, 15]           3,208\n",
      "             ReLU-10            [-1, 8, 15, 15]               0\n",
      "  ConvTranspose2d-11            [-1, 1, 28, 28]              33\n",
      "             Tanh-12            [-1, 1, 28, 28]               0\n",
      "================================================================\n",
      "Total params: 5,729\n",
      "Trainable params: 5,729\n",
      "Non-trainable params: 0\n",
      "----------------------------------------------------------------\n",
      "Input size (MB): 0.00\n",
      "Forward/backward pass size (MB): 0.07\n",
      "Params size (MB): 0.02\n",
      "Estimated Total Size (MB): 0.10\n",
      "----------------------------------------------------------------\n"
     ]
    }
   ],
   "source": [
    "from torchsummary import summary\n",
    "\n",
    "## https://github.com/sksq96/pytorch-summary\n",
    "summary(model, (1, 28, 28))"
   ]
  },
  {
   "cell_type": "markdown",
   "metadata": {},
   "source": [
    "## (3) Training model\n",
    "\n",
    "Once you already have the trained result, you may skip this part..."
   ]
  },
  {
   "cell_type": "code",
   "execution_count": 7,
   "metadata": {},
   "outputs": [
    {
     "name": "stdout",
     "output_type": "stream",
     "text": [
      "epoch [1/100], loss:0.2373\n",
      "epoch [2/100], loss:0.1783\n",
      "epoch [3/100], loss:0.1620\n",
      "epoch [4/100], loss:0.1594\n",
      "epoch [5/100], loss:0.1480\n",
      "epoch [6/100], loss:0.1495\n",
      "epoch [7/100], loss:0.1341\n",
      "epoch [8/100], loss:0.1443\n",
      "epoch [9/100], loss:0.1404\n",
      "epoch [10/100], loss:0.1210\n",
      "epoch [11/100], loss:0.1254\n",
      "epoch [12/100], loss:0.1161\n",
      "epoch [13/100], loss:0.1195\n",
      "epoch [14/100], loss:0.1175\n",
      "epoch [15/100], loss:0.1145\n",
      "epoch [16/100], loss:0.1224\n",
      "epoch [17/100], loss:0.1139\n",
      "epoch [18/100], loss:0.1227\n",
      "epoch [19/100], loss:0.1157\n",
      "epoch [20/100], loss:0.1139\n",
      "epoch [21/100], loss:0.1097\n",
      "epoch [22/100], loss:0.1173\n",
      "epoch [23/100], loss:0.1073\n",
      "epoch [24/100], loss:0.1077\n",
      "epoch [25/100], loss:0.1077\n",
      "epoch [26/100], loss:0.1035\n",
      "epoch [27/100], loss:0.1081\n",
      "epoch [28/100], loss:0.1092\n",
      "epoch [29/100], loss:0.1128\n",
      "epoch [30/100], loss:0.1041\n",
      "epoch [31/100], loss:0.1060\n",
      "epoch [32/100], loss:0.1109\n",
      "epoch [33/100], loss:0.1019\n",
      "epoch [34/100], loss:0.1085\n",
      "epoch [35/100], loss:0.1043\n",
      "epoch [36/100], loss:0.1072\n",
      "epoch [37/100], loss:0.1152\n",
      "epoch [38/100], loss:0.1172\n",
      "epoch [39/100], loss:0.1004\n",
      "epoch [40/100], loss:0.1076\n",
      "epoch [41/100], loss:0.1070\n",
      "epoch [42/100], loss:0.0979\n",
      "epoch [43/100], loss:0.0976\n",
      "epoch [44/100], loss:0.1094\n",
      "epoch [45/100], loss:0.0991\n",
      "epoch [46/100], loss:0.1057\n",
      "epoch [47/100], loss:0.1027\n",
      "epoch [48/100], loss:0.1064\n",
      "epoch [49/100], loss:0.1124\n",
      "epoch [50/100], loss:0.1041\n",
      "epoch [51/100], loss:0.1070\n",
      "epoch [52/100], loss:0.1069\n",
      "epoch [53/100], loss:0.0992\n",
      "epoch [54/100], loss:0.1086\n",
      "epoch [55/100], loss:0.1049\n",
      "epoch [56/100], loss:0.1031\n",
      "epoch [57/100], loss:0.0996\n",
      "epoch [58/100], loss:0.1115\n",
      "epoch [59/100], loss:0.1046\n",
      "epoch [60/100], loss:0.1103\n",
      "epoch [61/100], loss:0.1049\n",
      "epoch [62/100], loss:0.0993\n",
      "epoch [63/100], loss:0.1087\n",
      "epoch [64/100], loss:0.0998\n",
      "epoch [65/100], loss:0.1002\n",
      "epoch [66/100], loss:0.1088\n",
      "epoch [67/100], loss:0.0930\n",
      "epoch [68/100], loss:0.0981\n",
      "epoch [69/100], loss:0.0963\n",
      "epoch [70/100], loss:0.1060\n",
      "epoch [71/100], loss:0.1043\n",
      "epoch [72/100], loss:0.1021\n",
      "epoch [73/100], loss:0.1023\n",
      "epoch [74/100], loss:0.1014\n",
      "epoch [75/100], loss:0.1044\n",
      "epoch [76/100], loss:0.1093\n",
      "epoch [77/100], loss:0.1087\n",
      "epoch [78/100], loss:0.0987\n",
      "epoch [79/100], loss:0.0989\n",
      "epoch [80/100], loss:0.1045\n",
      "epoch [81/100], loss:0.1051\n",
      "epoch [82/100], loss:0.1043\n",
      "epoch [83/100], loss:0.0965\n",
      "epoch [84/100], loss:0.1012\n",
      "epoch [85/100], loss:0.0994\n",
      "epoch [86/100], loss:0.0986\n",
      "epoch [87/100], loss:0.1037\n",
      "epoch [88/100], loss:0.0982\n",
      "epoch [89/100], loss:0.1070\n",
      "epoch [90/100], loss:0.1141\n",
      "epoch [91/100], loss:0.1057\n",
      "epoch [92/100], loss:0.1092\n",
      "epoch [93/100], loss:0.1123\n",
      "epoch [94/100], loss:0.1086\n",
      "epoch [95/100], loss:0.0927\n",
      "epoch [96/100], loss:0.1097\n",
      "epoch [97/100], loss:0.1022\n",
      "epoch [98/100], loss:0.1018\n",
      "epoch [99/100], loss:0.0999\n",
      "epoch [100/100], loss:0.1033\n"
     ]
    }
   ],
   "source": [
    "from torch.autograd import Variable\n",
    "from torchvision.utils import save_image\n",
    "\n",
    "## training\n",
    "model.train()\n",
    "\n",
    "for epoch in range(num_epochs):\n",
    "    for data in dataloader:\n",
    "        img, _ = data\n",
    "        img = Variable(img).cuda() ## send to GPU\n",
    "        \n",
    "        ## feed-forward\n",
    "        output = model(img)\n",
    "        loss = criterion(output, img)\n",
    "        \n",
    "        ## backprop\n",
    "        optimizer.zero_grad()\n",
    "        loss.backward()\n",
    "        optimizer.step()\n",
    "    \n",
    "    # ===================log========================\n",
    "    print('epoch [{0}/{1}], loss:{2:.4f}'\n",
    "          .format(epoch + 1, num_epochs, loss.item()))\n",
    "    if epoch % 10 == 0:\n",
    "        pic = to_img(output.cpu().data)\n",
    "        save_image(pic, '{0}/image_{1}.png'.format(folder, epoch))"
   ]
  },
  {
   "cell_type": "code",
   "execution_count": 8,
   "metadata": {},
   "outputs": [],
   "source": [
    "## save trained model\n",
    "torch.save(model.state_dict(), model_path)"
   ]
  },
  {
   "cell_type": "markdown",
   "metadata": {},
   "source": [
    "## (4) Testing model"
   ]
  },
  {
   "cell_type": "code",
   "execution_count": 9,
   "metadata": {},
   "outputs": [
    {
     "data": {
      "text/plain": [
       "autoencoder(\n",
       "  (encoder): Sequential(\n",
       "    (0): Conv2d(1, 16, kernel_size=(3, 3), stride=(3, 3), padding=(1, 1))\n",
       "    (1): ReLU(inplace=True)\n",
       "    (2): MaxPool2d(kernel_size=2, stride=2, padding=0, dilation=1, ceil_mode=False)\n",
       "    (3): Conv2d(16, 8, kernel_size=(3, 3), stride=(2, 2), padding=(1, 1))\n",
       "    (4): ReLU(inplace=True)\n",
       "    (5): MaxPool2d(kernel_size=2, stride=1, padding=0, dilation=1, ceil_mode=False)\n",
       "  )\n",
       "  (decoder): Sequential(\n",
       "    (0): ConvTranspose2d(8, 16, kernel_size=(3, 3), stride=(2, 2))\n",
       "    (1): ReLU(inplace=True)\n",
       "    (2): ConvTranspose2d(16, 8, kernel_size=(5, 5), stride=(3, 3), padding=(1, 1))\n",
       "    (3): ReLU(inplace=True)\n",
       "    (4): ConvTranspose2d(8, 1, kernel_size=(2, 2), stride=(2, 2), padding=(1, 1))\n",
       "    (5): Tanh()\n",
       "  )\n",
       ")"
      ]
     },
     "execution_count": 9,
     "metadata": {},
     "output_type": "execute_result"
    }
   ],
   "source": [
    "## load trained model\n",
    "checkpoint = torch.load(model_path)\n",
    "model.load_state_dict(checkpoint)\n",
    "model.eval() ## switch to \"evaluate\" mode"
   ]
  },
  {
   "cell_type": "code",
   "execution_count": 10,
   "metadata": {},
   "outputs": [],
   "source": [
    "from torch.utils.data import DataLoader\n",
    "\n",
    "## load test data & loader\n",
    "dataset_test = MNIST('./data', train=False, download=True, transform=img_transform)\n",
    "testloader = DataLoader(dataset_test, batch_size=batch_size, shuffle=True)"
   ]
  },
  {
   "cell_type": "code",
   "execution_count": 11,
   "metadata": {},
   "outputs": [],
   "source": [
    "from torch.autograd import Variable\n",
    "\n",
    "for test in testloader:\n",
    "    img, _ = test\n",
    "    save_image(img, '{0}/test_input.png'.format(folder))\n",
    "    img = Variable(img).cuda() ## send to GPU\n",
    "    \n",
    "    ## feed-forward\n",
    "    output = model(img)\n",
    "    \n",
    "    pic = to_img(output.cpu().data)\n",
    "    save_image(pic, '{0}/test_output.png'.format(folder))\n",
    "    \n",
    "    break ## generates one batch"
   ]
  },
  {
   "cell_type": "markdown",
   "metadata": {},
   "source": [
    "(end)"
   ]
  }
 ],
 "metadata": {
  "kernelspec": {
   "display_name": "Python 3",
   "language": "python",
   "name": "python3"
  },
  "language_info": {
   "codemirror_mode": {
    "name": "ipython",
    "version": 3
   },
   "file_extension": ".py",
   "mimetype": "text/x-python",
   "name": "python",
   "nbconvert_exporter": "python",
   "pygments_lexer": "ipython3",
   "version": "3.7.7"
  }
 },
 "nbformat": 4,
 "nbformat_minor": 4
}
