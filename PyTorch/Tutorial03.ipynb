{
 "cells": [
  {
   "cell_type": "markdown",
   "metadata": {},
   "source": [
    "# PyTorch Tutorial 03. Neural Networks\n",
    "\n",
    "- 基本的に，[このチュートリアル](https://tutorials.pytorch.kr/beginner/blitz/neural_networks_tutorial.html)の内容に基づいている．  \n",
    "- 徐々にディープラーニングの内容に移っていく\n"
   ]
  },
  {
   "cell_type": "markdown",
   "metadata": {},
   "source": [
    "## Define neural network\n",
    "\n",
    "基礎的なニューラルネットワークを定義する．  \n",
    "実際学習をさせる前に，以下のような内容を説明するための例題に過ぎない．\n",
    "\n",
    "- PyTorchではニューラルネットワークをどう定義するか？\n",
    "- 中ではどういう風に演算がされていくか？\n",
    "- パディング(padding)がないように見えるが，これはPyTorchの仕様なのか?"
   ]
  },
  {
   "cell_type": "code",
   "execution_count": 1,
   "metadata": {},
   "outputs": [
    {
     "name": "stdout",
     "output_type": "stream",
     "text": [
      "Net(\n",
      "  (conv1): Conv2d(1, 6, kernel_size=(3, 3), stride=(1, 1))\n",
      "  (conv2): Conv2d(6, 16, kernel_size=(3, 3), stride=(1, 1))\n",
      "  (fc1): Linear(in_features=576, out_features=120, bias=True)\n",
      "  (fc2): Linear(in_features=120, out_features=84, bias=True)\n",
      "  (fc3): Linear(in_features=84, out_features=10, bias=True)\n",
      ")\n"
     ]
    }
   ],
   "source": [
    "import torch\n",
    "import torch.nn as nn\n",
    "import torch.nn.functional as F\n",
    "\n",
    "class Net(nn.Module):\n",
    "\n",
    "    def __init__(self):\n",
    "        super(Net, self).__init__()\n",
    "        \n",
    "        ############################################################\n",
    "        ## user-defined layers in the network\n",
    "        ############################################################\n",
    "        \n",
    "        ## define layer (1) convolution (2D)\n",
    "        ## Conv2d(n_input_channels, n_output_channels, convolution_size)\n",
    "        self.conv1 = nn.Conv2d(1, 6, 3)  ## (1 channels ->  6 channels) with 3x3 conv\n",
    "        self.conv2 = nn.Conv2d(6, 16, 3) ## (6 channels -> 16 channels) with 3x3 conv\n",
    "        \n",
    "        ## define layer (2) fully connected\n",
    "        ## Linear(n_input_neurons, n_output_neurons)\n",
    "        self.fc1 = nn.Linear(16 * 6 * 6, 120) ## (16-channels x 6x6 -> 120)\n",
    "        self.fc2 = nn.Linear(120, 84)         ## (120 -> 84)\n",
    "        self.fc3 = nn.Linear(84, 10)          ## ( 84 -> 10)\n",
    "\n",
    "    def forward(self, x):\n",
    "        \n",
    "        ############################################################\n",
    "        ## user-defined network by connecting layers (NO PADDING!)\n",
    "        ############################################################\n",
    "        \n",
    "        ## block (1) convolution: 32x32x1 -(conv3x3)-> 30x30x6 -(maxpooling)-> 15x15x6\n",
    "        x = self.conv1(x)\n",
    "        x = F.relu(x)\n",
    "        x = F.max_pool2d(x, (2, 2)) # Max pooling over a (2, 2) window\n",
    "        \n",
    "        ## block (2) convolution: 15x15x6 -(conv3x3)-> 13x13x16 -(maxpooling)-> 6x6x16\n",
    "        x = self.conv2(x)\n",
    "        x = F.relu(x)\n",
    "        x = F.max_pool2d(x, 2) # size is a square when you only specify a single number\n",
    "        \n",
    "        ## top-layer: fully connected network\n",
    "        x = x.view(-1, self.num_flat_features(x)) ## [N,C,H,W] -> [N, CxHxW]\n",
    "        x = self.fc1(x)\n",
    "        x = F.relu(x)\n",
    "        x = self.fc2(x)\n",
    "        x = F.relu(x)\n",
    "        x = self.fc3(x)\n",
    "        \n",
    "        return x\n",
    "\n",
    "    def num_flat_features(self, x):\n",
    "        size = x.size()[1:]  # all dimensions except the batch dimension\n",
    "        num_features = 1\n",
    "        for s in size:\n",
    "            num_features *= s\n",
    "        return num_features\n",
    "\n",
    "net = Net()\n",
    "print(net)"
   ]
  },
  {
   "cell_type": "code",
   "execution_count": 2,
   "metadata": {},
   "outputs": [
    {
     "name": "stdout",
     "output_type": "stream",
     "text": [
      "10\n",
      "torch.Size([6, 1, 3, 3])\n",
      "torch.Size([6])\n",
      "torch.Size([16, 6, 3, 3])\n",
      "torch.Size([16])\n",
      "torch.Size([120, 576])\n",
      "torch.Size([120])\n",
      "torch.Size([84, 120])\n",
      "torch.Size([84])\n",
      "torch.Size([10, 84])\n",
      "torch.Size([10])\n"
     ]
    }
   ],
   "source": [
    "## show model's (trainable) parameters detail\n",
    "params = list(net.parameters())\n",
    "print(len(params))\n",
    "\n",
    "for i in range(len(params)):\n",
    "    print(params[i].size())"
   ]
  },
  {
   "cell_type": "code",
   "execution_count": 3,
   "metadata": {},
   "outputs": [
    {
     "name": "stdout",
     "output_type": "stream",
     "text": [
      "tensor([[ 0.0762,  0.0015,  0.0348,  0.1176, -0.0889, -0.1429, -0.0517, -0.1441,\n",
      "          0.0986,  0.0090]], grad_fn=<AddmmBackward>)\n"
     ]
    }
   ],
   "source": [
    "## neural network input & output\n",
    "input_image = torch.randn(1, 1, 32, 32) ## random image NCHW format\n",
    "out = net(input_image)\n",
    "print(out)"
   ]
  },
  {
   "cell_type": "markdown",
   "metadata": {},
   "source": [
    "## Loss function"
   ]
  },
  {
   "cell_type": "code",
   "execution_count": 4,
   "metadata": {},
   "outputs": [],
   "source": [
    "net.zero_grad() ## zero-clear the gradient buffers of all parameters\n",
    "out.backward(torch.randn(1, 10))"
   ]
  },
  {
   "cell_type": "code",
   "execution_count": 5,
   "metadata": {},
   "outputs": [
    {
     "name": "stdout",
     "output_type": "stream",
     "text": [
      "tensor(0.7931, grad_fn=<MseLossBackward>)\n"
     ]
    }
   ],
   "source": [
    "output = net(input_image)\n",
    "target = torch.randn(10)     # a dummy target, for example\n",
    "target = target.view(1, -1)  # make it the same shape as output\n",
    "criterion = nn.MSELoss()\n",
    "\n",
    "loss = criterion(output, target)\n",
    "print(loss)"
   ]
  },
  {
   "cell_type": "code",
   "execution_count": 6,
   "metadata": {},
   "outputs": [
    {
     "name": "stdout",
     "output_type": "stream",
     "text": [
      "<MseLossBackward object at 0x000002023B6F4E88>\n",
      "<AddmmBackward object at 0x000002023B6F4588>\n",
      "<AccumulateGrad object at 0x000002023B6F4E88>\n"
     ]
    }
   ],
   "source": [
    "## traceback the autograd functions\n",
    "print(loss.grad_fn)  # MSELoss\n",
    "print(loss.grad_fn.next_functions[0][0])  # Linear\n",
    "print(loss.grad_fn.next_functions[0][0].next_functions[0][0])  # ReLU"
   ]
  },
  {
   "cell_type": "markdown",
   "metadata": {},
   "source": [
    "## Backprop\n",
    "\n",
    "- .backward(): 誤差の逆伝搬(back propagation, backprop)を行う．\n",
    "- .zero_grad(): 既に計算されていたgradientsをクリアすると思えば良い (?)"
   ]
  },
  {
   "cell_type": "code",
   "execution_count": 7,
   "metadata": {},
   "outputs": [
    {
     "name": "stdout",
     "output_type": "stream",
     "text": [
      "conv1.bias.grad before backward\n",
      "tensor([0., 0., 0., 0., 0., 0.])\n",
      "conv1.bias.grad after backward\n",
      "tensor([-0.0087, -0.0170,  0.0170, -0.0114, -0.0081,  0.0094])\n"
     ]
    }
   ],
   "source": [
    "net.zero_grad() # zero-clear the gradient buffers of all parameters\n",
    "\n",
    "print('conv1.bias.grad before backward')\n",
    "print(net.conv1.bias.grad)\n",
    "\n",
    "loss.backward()\n",
    "\n",
    "print('conv1.bias.grad after backward')\n",
    "print(net.conv1.bias.grad) # now it will be updated"
   ]
  },
  {
   "cell_type": "markdown",
   "metadata": {},
   "source": [
    "## Update weights"
   ]
  },
  {
   "cell_type": "code",
   "execution_count": 10,
   "metadata": {},
   "outputs": [],
   "source": [
    "## Stochastic graient in a scratch\n",
    "learning_rate = 0.01\n",
    "for f in net.parameters():\n",
    "    f.data.sub_(f.grad.data * learning_rate)"
   ]
  },
  {
   "cell_type": "code",
   "execution_count": 11,
   "metadata": {},
   "outputs": [],
   "source": [
    "import torch.optim as optim\n",
    "\n",
    "## optimizer for neural network learning\n",
    "optimizer = optim.SGD(net.parameters(), lr=0.01)\n",
    "\n",
    "## \n",
    "optimizer.zero_grad() # zero the gradient buffers\n",
    "output = net(input_image)\n",
    "loss = criterion(output, target)\n",
    "loss.backward()\n",
    "optimizer.step()      # Does the update"
   ]
  },
  {
   "cell_type": "markdown",
   "metadata": {},
   "source": [
    "(end)"
   ]
  }
 ],
 "metadata": {
  "kernelspec": {
   "display_name": "Python 3",
   "language": "python",
   "name": "python3"
  },
  "language_info": {
   "codemirror_mode": {
    "name": "ipython",
    "version": 3
   },
   "file_extension": ".py",
   "mimetype": "text/x-python",
   "name": "python",
   "nbconvert_exporter": "python",
   "pygments_lexer": "ipython3",
   "version": "3.7.7"
  }
 },
 "nbformat": 4,
 "nbformat_minor": 4
}
