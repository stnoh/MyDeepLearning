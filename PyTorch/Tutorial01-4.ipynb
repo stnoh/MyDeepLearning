{
 "cells": [
  {
   "cell_type": "markdown",
   "metadata": {},
   "source": [
    "# PyTorch Tutorial 04. The very first classifier\n",
    "\n",
    "- 基本的に，[このチュートリアル](https://tutorials.pytorch.kr/beginner/blitz/cifar10_tutorial.html)の内容に基づいている．  \n"
   ]
  },
  {
   "cell_type": "code",
   "execution_count": 1,
   "metadata": {},
   "outputs": [],
   "source": [
    "import torch\n",
    "import torchvision\n",
    "import torchvision.transforms as transforms"
   ]
  },
  {
   "cell_type": "markdown",
   "metadata": {},
   "source": [
    "## 1. Prepare training dataset "
   ]
  },
  {
   "cell_type": "code",
   "execution_count": 2,
   "metadata": {},
   "outputs": [
    {
     "name": "stdout",
     "output_type": "stream",
     "text": [
      "Files already downloaded and verified\n"
     ]
    }
   ],
   "source": [
    "transform = transforms.Compose(\n",
    "    [transforms.ToTensor(),\n",
    "     transforms.Normalize((0.5, 0.5, 0.5), (0.5, 0.5, 0.5))])\n",
    "\n",
    "## load TRAINING set\n",
    "trainset = torchvision.datasets.CIFAR10(root='~/.cache/torch/data', train=True,\n",
    "                                        download=True, transform=transform)\n",
    "trainloader = torch.utils.data.DataLoader(trainset, batch_size=4,\n",
    "                                          shuffle=True, num_workers=2)\n",
    "\n",
    "## declare classes in CIFAR-10\n",
    "classes = ('plane', 'car', 'bird', 'cat',\n",
    "           'deer', 'dog', 'frog', 'horse', 'ship', 'truck')"
   ]
  },
  {
   "cell_type": "code",
   "execution_count": 3,
   "metadata": {},
   "outputs": [
    {
     "data": {
      "image/png": "[encoded data removed]",
      "text/plain": [
       "<Figure size 432x288 with 1 Axes>"
      ]
     },
     "metadata": {
      "needs_background": "light"
     },
     "output_type": "display_data"
    },
    {
     "name": "stdout",
     "output_type": "stream",
     "text": [
      " ship  ship  bird   car\n"
     ]
    }
   ],
   "source": [
    "import matplotlib.pyplot as plt\n",
    "import numpy as np\n",
    "\n",
    "def imshow(img):\n",
    "    img = img / 2 + 0.5     # unnormalize\n",
    "    npimg = img.numpy()\n",
    "    plt.imshow(np.transpose(npimg, (1, 2, 0)))\n",
    "    plt.show()\n",
    "\n",
    "## pick images randomly\n",
    "dataiter = iter(trainloader)\n",
    "images, labels = dataiter.next()\n",
    "\n",
    "# show images & its labels in CIFAR-10 dataset\n",
    "imshow(torchvision.utils.make_grid(images))\n",
    "print(' '.join('%5s' % classes[labels[j]] for j in range(4)))"
   ]
  },
  {
   "cell_type": "markdown",
   "metadata": {},
   "source": [
    "## 2. Define neural network\n",
    "\n",
    "- パディング(padding)がないため，畳み込みによって画像が小さくなる点に注意"
   ]
  },
  {
   "cell_type": "code",
   "execution_count": 4,
   "metadata": {},
   "outputs": [],
   "source": [
    "import torch.nn as nn\n",
    "import torch.nn.functional as F\n",
    "\n",
    "class Net(nn.Module):\n",
    "    def __init__(self):\n",
    "        super(Net, self).__init__()\n",
    "        self.conv1 = nn.Conv2d(3, 6, 5)  ## 3-channels (RGB) -> 6-channels 5x5 conv\n",
    "        self.pool  = nn.MaxPool2d(2, 2)  ## max pooling in 2x2\n",
    "        self.conv2 = nn.Conv2d(6, 16, 5) ## 6-channels -> 16 channels, with 5x5 conv\n",
    "        \n",
    "        self.fc1 = nn.Linear(16 * 5*5, 120)\n",
    "        self.fc2 = nn.Linear(120, 84)\n",
    "        self.fc3 = nn.Linear(84, 10)\n",
    "\n",
    "    def forward(self, x):\n",
    "        x = self.pool(F.relu(self.conv1(x))) ## 32x32x3 -(conv5x5)-> 28x28x6 -(maxpool)-> 14x14x6\n",
    "        x = self.pool(F.relu(self.conv2(x))) ## 14x14x6 -(conv5x5)-> 10x10x16 -(maxpool)-> 5x5x16\n",
    "        x = x.view(-1, 16 * 5 * 5)           ## flattening as 5x5x16\n",
    "        x = F.relu(self.fc1(x))\n",
    "        x = F.relu(self.fc2(x))\n",
    "        x = self.fc3(x)\n",
    "        return x\n",
    "\n",
    "net = Net()"
   ]
  },
  {
   "cell_type": "markdown",
   "metadata": {},
   "source": [
    "## 3. Training Neural Network\n",
    "\n",
    "- Loss function: 分類(Classification)問題なので，交差エントロピー(cross-entropy)を用いる．\n",
    "- Optimizer: 最適化にはSGD(Stochastic Gradient Descent)，それにmomentum値も用いる．"
   ]
  },
  {
   "cell_type": "code",
   "execution_count": 5,
   "metadata": {},
   "outputs": [],
   "source": [
    "import torch.optim as optim\n",
    "\n",
    "criterion = nn.CrossEntropyLoss()\n",
    "optimizer = optim.SGD(net.parameters(), lr=0.001, momentum=0.9)"
   ]
  },
  {
   "cell_type": "code",
   "execution_count": 6,
   "metadata": {},
   "outputs": [
    {
     "data": {
      "application/vnd.jupyter.widget-view+json": {
       "model_id": "c1e5a82d995f4ba1b4632d0fe1b7d1ad",
       "version_major": 2,
       "version_minor": 0
      },
      "text/plain": [
       "HBox(children=(FloatProgress(value=0.0, max=12500.0), HTML(value='')))"
      ]
     },
     "metadata": {},
     "output_type": "display_data"
    },
    {
     "name": "stdout",
     "output_type": "stream",
     "text": [
      "[1,  2000] loss: 2.228\n",
      "[1,  4000] loss: 1.905\n",
      "[1,  6000] loss: 1.693\n",
      "[1,  8000] loss: 1.602\n",
      "[1, 10000] loss: 1.537\n",
      "[1, 12000] loss: 1.487\n",
      "\n"
     ]
    },
    {
     "data": {
      "application/vnd.jupyter.widget-view+json": {
       "model_id": "695677933e7c480c91d77523dba3e8d6",
       "version_major": 2,
       "version_minor": 0
      },
      "text/plain": [
       "HBox(children=(FloatProgress(value=0.0, max=12500.0), HTML(value='')))"
      ]
     },
     "metadata": {},
     "output_type": "display_data"
    },
    {
     "name": "stdout",
     "output_type": "stream",
     "text": [
      "[2,  2000] loss: 1.397\n",
      "[2,  4000] loss: 1.393\n",
      "[2,  6000] loss: 1.357\n",
      "[2,  8000] loss: 1.337\n",
      "[2, 10000] loss: 1.308\n",
      "[2, 12000] loss: 1.312\n",
      "\n",
      "Finished Training\n"
     ]
    }
   ],
   "source": [
    "from tqdm.notebook import tqdm ## show progress in Jupyter notebook\n",
    "\n",
    "epochs = 2\n",
    "\n",
    "for epoch in range(epochs):\n",
    "    running_loss = 0.0\n",
    "    for i, data in enumerate(tqdm(trainloader), 0):\n",
    "        inputs, labels = data\n",
    "\n",
    "        # zeroclear\n",
    "        optimizer.zero_grad()\n",
    "\n",
    "        # feed-forward, backprop & optimization\n",
    "        outputs = net(inputs)\n",
    "        loss = criterion(outputs, labels)\n",
    "        loss.backward()\n",
    "        optimizer.step()\n",
    "\n",
    "        # show loss per 2000 mini-batches\n",
    "        running_loss += loss.item()\n",
    "        if i % 2000 == 1999:\n",
    "            print('[%d, %5d] loss: %.3f' %\n",
    "                  (epoch + 1, i + 1, running_loss / 2000))\n",
    "            running_loss = 0.0\n",
    "\n",
    "print('Finished Training')"
   ]
  },
  {
   "cell_type": "code",
   "execution_count": 7,
   "metadata": {},
   "outputs": [],
   "source": [
    "PATH = './data/cifar_net.pth'\n",
    "torch.save(net.state_dict(), PATH)"
   ]
  },
  {
   "cell_type": "markdown",
   "metadata": {},
   "source": [
    "## 4. Testing & Validation\n"
   ]
  },
  {
   "cell_type": "code",
   "execution_count": 8,
   "metadata": {},
   "outputs": [
    {
     "data": {
      "text/plain": [
       "<All keys matched successfully>"
      ]
     },
     "execution_count": 8,
     "metadata": {},
     "output_type": "execute_result"
    }
   ],
   "source": [
    "## clear network & load data\n",
    "net = Net()\n",
    "PATH = './data/cifar_net.pth'\n",
    "net.load_state_dict(torch.load(PATH)) ## once you get the trained data, you can start from here ..."
   ]
  },
  {
   "cell_type": "code",
   "execution_count": 9,
   "metadata": {},
   "outputs": [
    {
     "name": "stdout",
     "output_type": "stream",
     "text": [
      "Files already downloaded and verified\n"
     ]
    }
   ],
   "source": [
    "## load TESTING set\n",
    "testset = torchvision.datasets.CIFAR10(root='~/.cache/torch/data', train=False,\n",
    "                                       download=True, transform=transform)\n",
    "testloader = torch.utils.data.DataLoader(testset, batch_size=4,\n",
    "                                         shuffle=False, num_workers=2)"
   ]
  },
  {
   "cell_type": "code",
   "execution_count": 10,
   "metadata": {},
   "outputs": [
    {
     "data": {
      "image/png": "[encoded data removed]",
      "text/plain": [
       "<Figure size 432x288 with 1 Axes>"
      ]
     },
     "metadata": {
      "needs_background": "light"
     },
     "output_type": "display_data"
    },
    {
     "name": "stdout",
     "output_type": "stream",
     "text": [
      "GroundTruth\t:    cat  ship  ship plane\n",
      "Predicted\t:    cat  ship  ship plane\n"
     ]
    }
   ],
   "source": [
    "## pick 1 batch from testset\n",
    "dataiter = iter(testloader)\n",
    "images, labels = dataiter.next()\n",
    "\n",
    "## show image & ground-truth label\n",
    "imshow(torchvision.utils.make_grid(images))\n",
    "print('GroundTruth\\t: ', ' '.join('%5s' % classes[labels[j]] for j in range(len(images))))\n",
    "\n",
    "## feedforward 1 batch & predicted label\n",
    "outputs = net(images)\n",
    "_, predicted = torch.max(outputs, 1)\n",
    "print('Predicted\\t: ', ' '.join('%5s' % classes[predicted[j]]\n",
    "                              for j in range(images.shape[0])))"
   ]
  },
  {
   "cell_type": "code",
   "execution_count": 11,
   "metadata": {},
   "outputs": [
    {
     "name": "stdout",
     "output_type": "stream",
     "text": [
      "0:00:05.306392\n",
      "Accuracy of plane : 62 %\n",
      "Accuracy of   car : 66 %\n",
      "Accuracy of  bird : 33 %\n",
      "Accuracy of   cat : 46 %\n",
      "Accuracy of  deer : 48 %\n",
      "Accuracy of   dog : 29 %\n",
      "Accuracy of  frog : 71 %\n",
      "Accuracy of horse : 69 %\n",
      "Accuracy of  ship : 67 %\n",
      "Accuracy of truck : 54 %\n"
     ]
    }
   ],
   "source": [
    "from datetime import datetime\n",
    "\n",
    "start_time = datetime.now()\n",
    "\n",
    "class_correct = [0.0] * 10\n",
    "class_total   = [0.0] * 10\n",
    "with torch.no_grad():\n",
    "    for data in testloader:\n",
    "        images, labels = data\n",
    "        outputs = net(images)\n",
    "        _, predicted = torch.max(outputs, 1)\n",
    "        c = (predicted == labels).squeeze()\n",
    "        for i in range( len(images) ):\n",
    "            label = labels[i]\n",
    "            class_correct[label] += c[i].item()\n",
    "            class_total[label] += 1\n",
    "\n",
    "elapsed_time = datetime.now() - start_time\n",
    "print(elapsed_time)\n",
    "\n",
    "for i in range(10):\n",
    "    print('Accuracy of %5s : %2d %%' % (\n",
    "        classes[i], 100 * class_correct[i] / class_total[i]))"
   ]
  },
  {
   "cell_type": "markdown",
   "metadata": {},
   "source": [
    "## Validation on GPU\n",
    "\n",
    "- 以下のコードはCUDA GPUでなければ作動しないことに注意．\n",
    "- ネットワークが小さいため，速度の向上は見られない（むしろ遅くなる）．"
   ]
  },
  {
   "cell_type": "code",
   "execution_count": 12,
   "metadata": {},
   "outputs": [
    {
     "name": "stdout",
     "output_type": "stream",
     "text": [
      "cuda:0\n"
     ]
    }
   ],
   "source": [
    "device = torch.device(\"cuda:0\" if torch.cuda.is_available() else \"cpu\")\n",
    "print(device)"
   ]
  },
  {
   "cell_type": "code",
   "execution_count": 13,
   "metadata": {
    "scrolled": true
   },
   "outputs": [
    {
     "name": "stdout",
     "output_type": "stream",
     "text": [
      "0:00:06.591999\n",
      "Accuracy of plane : 62 %\n",
      "Accuracy of   car : 66 %\n",
      "Accuracy of  bird : 33 %\n",
      "Accuracy of   cat : 46 %\n",
      "Accuracy of  deer : 48 %\n",
      "Accuracy of   dog : 29 %\n",
      "Accuracy of  frog : 71 %\n",
      "Accuracy of horse : 69 %\n",
      "Accuracy of  ship : 67 %\n",
      "Accuracy of truck : 54 %\n"
     ]
    }
   ],
   "source": [
    "from datetime import datetime\n",
    "\n",
    "batch_size = 768\n",
    "testloader = torch.utils.data.DataLoader(testset, batch_size=batch_size,\n",
    "                                         shuffle=False, num_workers=2)\n",
    "\n",
    "net.to(device) ## send network to GPU\n",
    "\n",
    "start_time = datetime.now()\n",
    "\n",
    "class_correct = [0.0] * 10\n",
    "class_total   = [0.0] * 10\n",
    "with torch.no_grad():\n",
    "    for data in testloader:\n",
    "        images, labels = data[0].to(device), data[1].to(device) ## send data to GPU\n",
    "        outputs = net(images)\n",
    "        _, predicted = torch.max(outputs, 1)\n",
    "        c = (predicted == labels).squeeze()\n",
    "        \n",
    "        for i in range(len(images)):\n",
    "            label = labels[i]\n",
    "            class_correct[label] += c[i].item()\n",
    "            class_total[label] += 1\n",
    "\n",
    "elapsed_time = datetime.now() - start_time\n",
    "print(elapsed_time)\n",
    "\n",
    "for i in range(10):\n",
    "    print('Accuracy of %5s : %2d %%' % (\n",
    "        classes[i], 100 * class_correct[i] / class_total[i]))"
   ]
  },
  {
   "cell_type": "markdown",
   "metadata": {},
   "source": [
    "(end)"
   ]
  }
 ],
 "metadata": {
  "kernelspec": {
   "display_name": "Python 3",
   "language": "python",
   "name": "python3"
  },
  "language_info": {
   "codemirror_mode": {
    "name": "ipython",
    "version": 3
   },
   "file_extension": ".py",
   "mimetype": "text/x-python",
   "name": "python",
   "nbconvert_exporter": "python",
   "pygments_lexer": "ipython3",
   "version": "3.7.7"
  }
 },
 "nbformat": 4,
 "nbformat_minor": 4
}
