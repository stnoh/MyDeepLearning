{
 "cells": [
  {
   "cell_type": "markdown",
   "metadata": {},
   "source": [
    "# AutoEncoder (1) AutoEncoder by Multi-Layer Perceptron\n",
    "\n",
    "- [L1aoXingyu@github]()の，[Linearのみで構成されたAutoEncoderの実装](https://github.com/L1aoXingyu/pytorch-beginner/blob/master/08-AutoEncoder/simple_autoencoder.py)に基づいている．  \n",
    "- 一部，自前環境のPyTorchで動作しない部分を修正しつつ，結果の可視化等の追加している．  "
   ]
  },
  {
   "cell_type": "code",
   "execution_count": 1,
   "metadata": {},
   "outputs": [],
   "source": [
    "import torch\n",
    "import os\n",
    "\n",
    "## create folder in advance\n",
    "folder = './data/mlp_img'\n",
    "if not os.path.isdir(folder):\n",
    "    os.mkdir(folder)\n",
    "\n",
    "## set folder in advance\n",
    "model_path = './data/mlp_autoencoder.pth'\n",
    "\n",
    "## set some constants for learning\n",
    "num_epochs = 100\n",
    "batch_size = 128\n",
    "learning_rate = 1e-3"
   ]
  },
  {
   "cell_type": "markdown",
   "metadata": {},
   "source": [
    "## (1) Prepare dataset: MNIST hand-written digits\n",
    "\n"
   ]
  },
  {
   "cell_type": "code",
   "execution_count": 2,
   "metadata": {},
   "outputs": [],
   "source": [
    "from torchvision.datasets import MNIST\n",
    "from torchvision import transforms\n",
    "\n",
    "## image to tensor\n",
    "img_transform = transforms.Compose([\n",
    "    transforms.ToTensor(),\n",
    "    transforms.Normalize([0.5], [0.5]) ## convert range to [-1.0:1.0]\n",
    "])\n",
    "\n",
    "## tensor to image\n",
    "def to_img(x):\n",
    "    x = 0.5 * (x + 1)\n",
    "    x = x.clamp(0, 1)\n",
    "    x = x.view(x.size(0), 1, 28, 28)\n",
    "    return x\n",
    "\n",
    "## dataset with conversion\n",
    "dataset_train = MNIST('./data', train=True, download=True, transform=img_transform)"
   ]
  },
  {
   "cell_type": "code",
   "execution_count": 3,
   "metadata": {},
   "outputs": [],
   "source": [
    "from torch.utils.data import DataLoader\n",
    "\n",
    "dataloader = DataLoader(dataset_train, batch_size=batch_size, shuffle=True)"
   ]
  },
  {
   "cell_type": "markdown",
   "metadata": {},
   "source": [
    "## (2) Prepare model (i) autoencoder\n",
    "\n",
    "Simple AutoEncoder constructed by multi-layer perceptron, which is using `nn.Linear`.  "
   ]
  },
  {
   "cell_type": "code",
   "execution_count": 4,
   "metadata": {},
   "outputs": [],
   "source": [
    "from torch import nn\n",
    "\n",
    "## definition of network\n",
    "class autoencoder(nn.Module):\n",
    "    def __init__(self):\n",
    "        super(autoencoder, self).__init__()\n",
    "        self.encoder = nn.Sequential(\n",
    "            nn.Linear(28 * 28, 128), ## image (28x28) -> (128)\n",
    "            nn.ReLU(True),\n",
    "            nn.Linear(128, 64),\n",
    "            nn.ReLU(True), nn.Linear(64, 12), nn.ReLU(True), nn.Linear(12, 3))\n",
    "        self.decoder = nn.Sequential(\n",
    "            nn.Linear(3, 12),\n",
    "            nn.ReLU(True),\n",
    "            nn.Linear(12, 64),\n",
    "            nn.ReLU(True),\n",
    "            nn.Linear(64, 128),\n",
    "            nn.ReLU(True), nn.Linear(128, 28 * 28), nn.Tanh())\n",
    "\n",
    "    def forward(self, x):\n",
    "        x = self.encoder(x)\n",
    "        x = self.decoder(x)\n",
    "        return x"
   ]
  },
  {
   "cell_type": "code",
   "execution_count": 5,
   "metadata": {},
   "outputs": [],
   "source": [
    "## instantiate model\n",
    "model = autoencoder().cuda() ## send to GPU\n",
    "\n",
    "criterion = nn.MSELoss()\n",
    "optimizer = torch.optim.Adam(model.parameters(), lr=learning_rate,\n",
    "                             weight_decay=1e-5)"
   ]
  },
  {
   "cell_type": "markdown",
   "metadata": {},
   "source": [
    "## (3) Training model\n",
    "\n",
    "Once you already have the trained result, you may skip this part..."
   ]
  },
  {
   "cell_type": "code",
   "execution_count": 6,
   "metadata": {},
   "outputs": [
    {
     "name": "stdout",
     "output_type": "stream",
     "text": [
      "epoch [1/100], loss:0.2033\n",
      "epoch [2/100], loss:0.1696\n",
      "epoch [3/100], loss:0.1617\n",
      "epoch [4/100], loss:0.1533\n",
      "epoch [5/100], loss:0.1575\n",
      "epoch [6/100], loss:0.1548\n",
      "epoch [7/100], loss:0.1456\n",
      "epoch [8/100], loss:0.1460\n",
      "epoch [9/100], loss:0.1427\n",
      "epoch [10/100], loss:0.1431\n",
      "epoch [11/100], loss:0.1383\n",
      "epoch [12/100], loss:0.1422\n",
      "epoch [13/100], loss:0.1381\n",
      "epoch [14/100], loss:0.1400\n",
      "epoch [15/100], loss:0.1434\n",
      "epoch [16/100], loss:0.1407\n",
      "epoch [17/100], loss:0.1375\n",
      "epoch [18/100], loss:0.1272\n",
      "epoch [19/100], loss:0.1340\n",
      "epoch [20/100], loss:0.1337\n",
      "epoch [21/100], loss:0.1263\n",
      "epoch [22/100], loss:0.1243\n",
      "epoch [23/100], loss:0.1450\n",
      "epoch [24/100], loss:0.1234\n",
      "epoch [25/100], loss:0.1247\n",
      "epoch [26/100], loss:0.1314\n",
      "epoch [27/100], loss:0.1267\n",
      "epoch [28/100], loss:0.1390\n",
      "epoch [29/100], loss:0.1373\n",
      "epoch [30/100], loss:0.1304\n",
      "epoch [31/100], loss:0.1410\n",
      "epoch [32/100], loss:0.1268\n",
      "epoch [33/100], loss:0.1306\n",
      "epoch [34/100], loss:0.1304\n",
      "epoch [35/100], loss:0.1258\n",
      "epoch [36/100], loss:0.1417\n",
      "epoch [37/100], loss:0.1218\n",
      "epoch [38/100], loss:0.1298\n",
      "epoch [39/100], loss:0.1286\n",
      "epoch [40/100], loss:0.1329\n",
      "epoch [41/100], loss:0.1317\n",
      "epoch [42/100], loss:0.1401\n",
      "epoch [43/100], loss:0.1364\n",
      "epoch [44/100], loss:0.1284\n",
      "epoch [45/100], loss:0.1249\n",
      "epoch [46/100], loss:0.1308\n",
      "epoch [47/100], loss:0.1271\n",
      "epoch [48/100], loss:0.1370\n",
      "epoch [49/100], loss:0.1174\n",
      "epoch [50/100], loss:0.1230\n",
      "epoch [51/100], loss:0.1139\n",
      "epoch [52/100], loss:0.1369\n",
      "epoch [53/100], loss:0.1325\n",
      "epoch [54/100], loss:0.1228\n",
      "epoch [55/100], loss:0.1187\n",
      "epoch [56/100], loss:0.1269\n",
      "epoch [57/100], loss:0.1335\n",
      "epoch [58/100], loss:0.1238\n",
      "epoch [59/100], loss:0.1176\n",
      "epoch [60/100], loss:0.1313\n",
      "epoch [61/100], loss:0.1180\n",
      "epoch [62/100], loss:0.1322\n",
      "epoch [63/100], loss:0.1308\n",
      "epoch [64/100], loss:0.1390\n",
      "epoch [65/100], loss:0.1170\n",
      "epoch [66/100], loss:0.1326\n",
      "epoch [67/100], loss:0.1298\n",
      "epoch [68/100], loss:0.1229\n",
      "epoch [69/100], loss:0.1264\n",
      "epoch [70/100], loss:0.1212\n",
      "epoch [71/100], loss:0.1170\n",
      "epoch [72/100], loss:0.1155\n",
      "epoch [73/100], loss:0.1317\n",
      "epoch [74/100], loss:0.1310\n",
      "epoch [75/100], loss:0.1289\n",
      "epoch [76/100], loss:0.1247\n",
      "epoch [77/100], loss:0.1202\n",
      "epoch [78/100], loss:0.1202\n",
      "epoch [79/100], loss:0.1222\n",
      "epoch [80/100], loss:0.1294\n",
      "epoch [81/100], loss:0.1237\n",
      "epoch [82/100], loss:0.1205\n",
      "epoch [83/100], loss:0.1241\n",
      "epoch [84/100], loss:0.1416\n",
      "epoch [85/100], loss:0.1241\n",
      "epoch [86/100], loss:0.1193\n",
      "epoch [87/100], loss:0.1300\n",
      "epoch [88/100], loss:0.1423\n",
      "epoch [89/100], loss:0.1244\n",
      "epoch [90/100], loss:0.1322\n",
      "epoch [91/100], loss:0.1260\n",
      "epoch [92/100], loss:0.1257\n",
      "epoch [93/100], loss:0.1082\n",
      "epoch [94/100], loss:0.1250\n",
      "epoch [95/100], loss:0.1248\n",
      "epoch [96/100], loss:0.1300\n",
      "epoch [97/100], loss:0.1248\n",
      "epoch [98/100], loss:0.1318\n",
      "epoch [99/100], loss:0.1345\n",
      "epoch [100/100], loss:0.1375\n"
     ]
    }
   ],
   "source": [
    "from torch.autograd import Variable\n",
    "from torchvision.utils import save_image\n",
    "\n",
    "## training\n",
    "model.train()\n",
    "\n",
    "for epoch in range(num_epochs):\n",
    "    for data in dataloader:\n",
    "        img, _ = data\n",
    "        img = img.view(img.size(0), -1)\n",
    "        img = Variable(img).cuda() ## send to GPU\n",
    "        \n",
    "        ## feed-forward\n",
    "        output = model(img)\n",
    "        loss = criterion(output, img)\n",
    "        \n",
    "        ## backprop\n",
    "        optimizer.zero_grad()\n",
    "        loss.backward()\n",
    "        optimizer.step()\n",
    "    \n",
    "    # ===================log========================\n",
    "    print('epoch [{0}/{1}], loss:{2:.4f}'\n",
    "          .format(epoch + 1, num_epochs, loss.item()))\n",
    "    if epoch % 10 == 0:\n",
    "        pic = to_img(output.cpu().data)\n",
    "        save_image(pic, '{0}/image_{1}.png'.format(folder, epoch))"
   ]
  },
  {
   "cell_type": "code",
   "execution_count": 7,
   "metadata": {},
   "outputs": [],
   "source": [
    "## save trained model\n",
    "torch.save(model.state_dict(), model_path)"
   ]
  },
  {
   "cell_type": "markdown",
   "metadata": {},
   "source": [
    "## (4) Testing model"
   ]
  },
  {
   "cell_type": "code",
   "execution_count": 8,
   "metadata": {},
   "outputs": [
    {
     "data": {
      "text/plain": [
       "autoencoder(\n",
       "  (encoder): Sequential(\n",
       "    (0): Linear(in_features=784, out_features=128, bias=True)\n",
       "    (1): ReLU(inplace=True)\n",
       "    (2): Linear(in_features=128, out_features=64, bias=True)\n",
       "    (3): ReLU(inplace=True)\n",
       "    (4): Linear(in_features=64, out_features=12, bias=True)\n",
       "    (5): ReLU(inplace=True)\n",
       "    (6): Linear(in_features=12, out_features=3, bias=True)\n",
       "  )\n",
       "  (decoder): Sequential(\n",
       "    (0): Linear(in_features=3, out_features=12, bias=True)\n",
       "    (1): ReLU(inplace=True)\n",
       "    (2): Linear(in_features=12, out_features=64, bias=True)\n",
       "    (3): ReLU(inplace=True)\n",
       "    (4): Linear(in_features=64, out_features=128, bias=True)\n",
       "    (5): ReLU(inplace=True)\n",
       "    (6): Linear(in_features=128, out_features=784, bias=True)\n",
       "    (7): Tanh()\n",
       "  )\n",
       ")"
      ]
     },
     "execution_count": 8,
     "metadata": {},
     "output_type": "execute_result"
    }
   ],
   "source": [
    "## load trained model\n",
    "checkpoint = torch.load(model_path)\n",
    "model.load_state_dict(checkpoint)\n",
    "model.eval() ## switch to \"evaluate\" mode"
   ]
  },
  {
   "cell_type": "code",
   "execution_count": 9,
   "metadata": {},
   "outputs": [],
   "source": [
    "from torch.utils.data import DataLoader\n",
    "\n",
    "## load test data & loader\n",
    "dataset_test = MNIST('./data', train=False, download=True, transform=img_transform)\n",
    "testloader = DataLoader(dataset_test, batch_size=batch_size, shuffle=True)"
   ]
  },
  {
   "cell_type": "code",
   "execution_count": 10,
   "metadata": {},
   "outputs": [],
   "source": [
    "from torch.autograd import Variable\n",
    "\n",
    "for test in testloader:\n",
    "    img, _ = test\n",
    "    save_image(img, '{0}/test_input.png'.format(folder))\n",
    "    img = img.view(img.size(0), -1)\n",
    "    img = Variable(img).cuda() ## send to GPU\n",
    "    \n",
    "    ## feed-forward\n",
    "    output = model(img)\n",
    "    \n",
    "    pic = to_img(output.cpu().data)\n",
    "    save_image(pic, '{0}/test_output.png'.format(folder))\n",
    "    \n",
    "    break ## generates one batch"
   ]
  },
  {
   "cell_type": "markdown",
   "metadata": {},
   "source": [
    "(end)"
   ]
  }
 ],
 "metadata": {
  "kernelspec": {
   "display_name": "Python 3",
   "language": "python",
   "name": "python3"
  },
  "language_info": {
   "codemirror_mode": {
    "name": "ipython",
    "version": 3
   },
   "file_extension": ".py",
   "mimetype": "text/x-python",
   "name": "python",
   "nbconvert_exporter": "python",
   "pygments_lexer": "ipython3",
   "version": "3.7.7"
  }
 },
 "nbformat": 4,
 "nbformat_minor": 4
}
