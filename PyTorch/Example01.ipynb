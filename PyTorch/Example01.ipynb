{
 "cells": [
  {
   "cell_type": "markdown",
   "metadata": {},
   "source": [
    "# Example01\n",
    "\n",
    "- 基本的に，[このチュートリアル](https://tutorials.pytorch.kr/beginner/pytorch_with_examples.html)の内容に基づいている．  "
   ]
  },
  {
   "cell_type": "markdown",
   "metadata": {},
   "source": [
    "## NumPy\n",
    "\n",
    "NumPyによるFully connected neural networkの実装例\n",
    "\n",
    "- 3 layers = 隠し層は１つ\n",
    "- 活性化関数はランプ(ReLU)"
   ]
  },
  {
   "cell_type": "code",
   "execution_count": 1,
   "metadata": {
    "scrolled": true
   },
   "outputs": [
    {
     "name": "stdout",
     "output_type": "stream",
     "text": [
      "99 598.7873717957709\n",
      "199 2.2070064532551257\n",
      "299 0.01403328830393357\n",
      "399 0.00011317743710444353\n",
      "499 1.0191456599808915e-06\n"
     ]
    }
   ],
   "source": [
    "# -*- coding: utf-8 -*-\n",
    "import numpy as np\n",
    "\n",
    "# N: バッチサイズ ; D_in: 入力の次元;\n",
    "# H: 隠し層の数   ; D_out: 出力の次元.\n",
    "N, D_in, H, D_out = 64, 1000, 100, 10\n",
    "\n",
    "# 乱数で入力と出力データを生成\n",
    "x = np.random.randn(N, D_in)\n",
    "y = np.random.randn(N, D_out)\n",
    "\n",
    "# ネットワークの重みも乱数で初期化\n",
    "w1_init = np.random.randn(D_in, H)\n",
    "w2_init = np.random.randn(H   , D_out)\n",
    "\n",
    "w1 = w1_init.copy()\n",
    "w2 = w2_init.copy()\n",
    "\n",
    "learning_rate = 1e-6\n",
    "for t in range(500):\n",
    "    # 正方向の計算でyを予測\n",
    "    h = x.dot(w1)\n",
    "    h_relu = np.maximum(h, 0) ## Ramp function\n",
    "    y_pred = h_relu.dot(w2)\n",
    "\n",
    "    # lossの計算\n",
    "    loss = np.square(y_pred - y).sum()\n",
    "    if t % 100 == 99:\n",
    "        print(t, loss)\n",
    "\n",
    "    # lossに従い，w1とw2を計算するための逆伝搬\n",
    "    grad_y_pred = 2.0 * (y_pred - y)\n",
    "    grad_w2 = h_relu.T.dot(grad_y_pred)\n",
    "    grad_h_relu = grad_y_pred.dot(w2.T)\n",
    "    grad_h = grad_h_relu.copy()\n",
    "    grad_h[h < 0] = 0\n",
    "    grad_w1 = x.T.dot(grad_h)\n",
    "\n",
    "    # アップデート\n",
    "    w1 -= learning_rate * grad_w1\n",
    "    w2 -= learning_rate * grad_w2"
   ]
  },
  {
   "cell_type": "markdown",
   "metadata": {},
   "source": [
    "## PyTorch\n",
    "\n",
    "- NumPyでの実装と同様な振る舞いをPyTorchで再現  \n",
    "- ソースではPyTorchも乱数初期化しているが，なるべく似た同様な結果が出るように  \n",
    "  初期値もNumPyから変換した値を使うように変えた．\n"
   ]
  },
  {
   "cell_type": "code",
   "execution_count": 2,
   "metadata": {},
   "outputs": [
    {
     "name": "stdout",
     "output_type": "stream",
     "text": [
      "99 598.7894287109375\n",
      "199 2.2069709300994873\n",
      "299 0.014140358194708824\n",
      "399 0.00030241423519328237\n",
      "499 4.687643377110362e-05\n"
     ]
    }
   ],
   "source": [
    "# -*- coding: utf-8 -*-\n",
    "import torch\n",
    "\n",
    "dtype = torch.float\n",
    "device = torch.device(\"cpu\")\n",
    "#device = torch.device(\"cuda:0\") # Uncomment this to run on GPU\n",
    "\n",
    "# 乱数で入力と出力データを生成\n",
    "x = torch.tensor(x, device=device, dtype=dtype)\n",
    "y = torch.tensor(y, device=device, dtype=dtype)\n",
    "\n",
    "# ネットワークの重みも乱数で初期化\n",
    "w1 = torch.tensor(w1_init, device=device, dtype=dtype)\n",
    "w2 = torch.tensor(w2_init, device=device, dtype=dtype)\n",
    "\n",
    "learning_rate = 1e-6\n",
    "for t in range(500):\n",
    "    # 正方向の計算でyを予測\n",
    "    h = x.mm(w1)\n",
    "    h_relu = h.clamp(min=0)\n",
    "    y_pred = h_relu.mm(w2)\n",
    "\n",
    "    # lossの計算\n",
    "    loss = (y_pred - y).pow(2).sum().item()\n",
    "    if t % 100 == 99:\n",
    "        print(t, loss)\n",
    "\n",
    "    # lossに従い，w1とw2を計算するための逆伝搬\n",
    "    grad_y_pred = 2.0 * (y_pred - y)\n",
    "    grad_w2 = h_relu.t().mm(grad_y_pred)\n",
    "    grad_h_relu = grad_y_pred.mm(w2.t())\n",
    "    grad_h = grad_h_relu.clone()\n",
    "    grad_h[h < 0] = 0\n",
    "    grad_w1 = x.t().mm(grad_h)\n",
    "\n",
    "    # アップデート\n",
    "    w1 -= learning_rate * grad_w1\n",
    "    w2 -= learning_rate * grad_w2"
   ]
  },
  {
   "cell_type": "markdown",
   "metadata": {},
   "source": [
    "## Autograd"
   ]
  },
  {
   "cell_type": "code",
   "execution_count": null,
   "metadata": {},
   "outputs": [],
   "source": []
  }
 ],
 "metadata": {
  "kernelspec": {
   "display_name": "Python 3",
   "language": "python",
   "name": "python3"
  },
  "language_info": {
   "codemirror_mode": {
    "name": "ipython",
    "version": 3
   },
   "file_extension": ".py",
   "mimetype": "text/x-python",
   "name": "python",
   "nbconvert_exporter": "python",
   "pygments_lexer": "ipython3",
   "version": "3.7.7"
  }
 },
 "nbformat": 4,
 "nbformat_minor": 4
}
